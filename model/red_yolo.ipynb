{
 "cells": [
  {
   "cell_type": "code",
   "execution_count": 43,
   "id": "43adeda2",
   "metadata": {},
   "outputs": [],
   "source": [
    "import pandas as pd\n",
    "import os\n",
    "import os.path as osp\n",
    "import glob\n",
    "from PIL import Image\n",
    "import numpy as np\n",
    "import matplotlib.pyplot as plt\n",
    "from sklearn.ensemble import RandomForestClassifier\n",
    "from sklearn.preprocessing import OneHotEncoder,LabelEncoder\n",
    "from sklearn.metrics import precision_score, recall_score, f1_score, roc_curve, roc_auc_score, auc\n",
    "import shutil\n",
    "import tensorflow as tf\n",
    "from tensorflow.keras.preprocessing.image import ImageDataGenerator\n",
    "from tensorflow.keras.applications import MobileNetV2\n",
    "from tensorflow.keras import layers, models\n",
    "from tensorflow.keras.preprocessing import image\n",
    "import random\n",
    "from tensorflow.keras.models import load_model\n",
    "import os\n",
    "import shutil\n",
    "from typing import List\n",
    "from PIL import Image\n",
    "\n",
    "import shutil\n",
    "import glob\n",
    "from ultralytics import YOLO\n"
   ]
  },
  {
   "cell_type": "code",
   "execution_count": null,
   "id": "26f7246a",
   "metadata": {},
   "outputs": [
    {
     "name": "stdout",
     "output_type": "stream",
     "text": [
      "Successfully processed 209 images\n"
     ]
    }
   ],
   "source": [
    "\n",
    "\n",
    "path_train = '/Users/adelgado/Documents/Personal/Universidad/ML/Proyecto/Data/Train'\n",
    "path_train_modi = '/Users/adelgado/Documents/Personal/Universidad/ML/Proyecto/Data/Train_modi'\n",
    "path_test = '/Users/adelgado/Documents/Personal/Universidad/ML/Proyecto/Data/Test'\n",
    "pathAll = '/Users/adelgado/Documents/Personal/Universidad/ML/Proyecto/Data'\n",
    "\n",
    "def imagen_90(image_path):\n",
    "    imagen = Image.open(image_path)\n",
    "    imagen_rgb = imagen.convert('RGB')\n",
    "    return imagen_rgb.rotate(90)\n",
    "\n",
    "def imagen_hor(image_path):\n",
    "    imagen = Image.open(image_path)\n",
    "    imagen_rgb = imagen.convert('RGB')\n",
    "    return imagen_rgb.transpose(Image.FLIP_LEFT_RIGHT)\n",
    "\n",
    "def imagen_ver(image_path):\n",
    "    imagen = Image.open(image_path)\n",
    "    imagen_rgb = imagen.convert('RGB')\n",
    "    return imagen_rgb.transpose(Image.FLIP_TOP_BOTTOM)\n",
    "\n",
    "def cambio_carpetas(path, path_destino):\n",
    "    imagenes = []\n",
    "    count = 0\n",
    "\n",
    "    for directorio, _, archivos in os.walk(path):\n",
    "        for archivo in archivos:\n",
    "            if archivo.lower().endswith(('.jpg', '.png', '.jpeg')):\n",
    "                archivo_path = os.path.join(directorio, archivo)\n",
    "                imagenes.append(archivo_path)\n",
    "    \n",
    "    for img_path in imagenes:\n",
    "        rel_path = os.path.relpath(img_path, path)\n",
    "        parts = rel_path.split(os.sep)\n",
    "        \n",
    "        if len(parts) > 1 and parts[0] == 'Packages':\n",
    "            continue\n",
    "            \n",
    "        if len(parts) > 1:\n",
    "            class_folder = parts[0]\n",
    "        else:\n",
    "            class_folder = 'unknown'\n",
    "\n",
    "        dest_dir = os.path.join(path_destino, class_folder)\n",
    "        os.makedirs(dest_dir, exist_ok=True)\n",
    "        \n",
    "        filename = os.path.basename(img_path)\n",
    "        name, ext = os.path.splitext(filename)\n",
    "        \n",
    "        try:\n",
    "            shutil.copy(img_path, os.path.join(dest_dir, filename))\n",
    "            imagen_90(img_path).save(os.path.join(dest_dir, f\"{name}_90{ext}\"))\n",
    "            imagen_hor(img_path).save(os.path.join(dest_dir, f\"{name}_hor{ext}\"))\n",
    "            imagen_ver(img_path).save(os.path.join(dest_dir, f\"{name}_ver{ext}\"))\n",
    "            \n",
    "            count += 1\n",
    "        except Exception as e:\n",
    "            print(f\"Error processing {img_path}: {e}\")\n",
    "    \n",
    "    print(f\"Successfully processed {count} images\")\n",
    "if __name__ == \"__main__\":\n",
    "    cambio_carpetas(path_train, path_train_modi)"
   ]
  },
  {
   "cell_type": "code",
   "execution_count": 7,
   "id": "ed102777",
   "metadata": {},
   "outputs": [],
   "source": [
    "train_datagen = ImageDataGenerator(rescale=1./255, \n",
    "                                   rotation_range=20, \n",
    "                                   width_shift_range=0.2, \n",
    "                                   height_shift_range=0.2, \n",
    "                                   shear_range=0.2, \n",
    "                                   zoom_range=0.2, \n",
    "                                   horizontal_flip=True, \n",
    "                                   fill_mode='nearest')"
   ]
  },
  {
   "cell_type": "code",
   "execution_count": 8,
   "id": "3e671438",
   "metadata": {},
   "outputs": [],
   "source": [
    "img_height = 348\n",
    "img_width = 348\n",
    "batch_size = 3"
   ]
  },
  {
   "cell_type": "code",
   "execution_count": 9,
   "id": "98041a16",
   "metadata": {},
   "outputs": [
    {
     "name": "stdout",
     "output_type": "stream",
     "text": [
      "Found 836 images belonging to 3 classes.\n"
     ]
    }
   ],
   "source": [
    "train_generator = train_datagen.flow_from_directory(\n",
    "    path_train_modi,\n",
    "    target_size=(img_height, img_width),\n",
    "    batch_size=batch_size,\n",
    "    class_mode='categorical') "
   ]
  },
  {
   "cell_type": "code",
   "execution_count": 10,
   "id": "fe225402",
   "metadata": {},
   "outputs": [],
   "source": [
    "val_datagen = ImageDataGenerator(rescale=1./255)"
   ]
  },
  {
   "cell_type": "code",
   "execution_count": 11,
   "id": "3f589daf",
   "metadata": {},
   "outputs": [
    {
     "name": "stdout",
     "output_type": "stream",
     "text": [
      "Found 50 images belonging to 3 classes.\n"
     ]
    }
   ],
   "source": [
    "val_generator = val_datagen.flow_from_directory(\n",
    "    path_test,\n",
    "    target_size=(img_height, img_width),\n",
    "    batch_size=batch_size,\n",
    "    class_mode='categorical') "
   ]
  },
  {
   "cell_type": "code",
   "execution_count": 22,
   "id": "8b7abaf1",
   "metadata": {},
   "outputs": [],
   "source": [
    "YOLO_VERSION = 'yolov8'\n",
    "YOLO_DIR = f'/Users/adelgado/Documents/Personal/Universidad/ML/Proyecto/{YOLO_VERSION}'\n",
    "clases = [\"Acero_expuesto\",\"Grietas_Fisuras\",\"Hormiguero\"]"
   ]
  },
  {
   "cell_type": "code",
   "execution_count": null,
   "id": "b6d05c56",
   "metadata": {},
   "outputs": [],
   "source": [
    "model = YOLO('YOLOv8n-cls.pt')"
   ]
  },
  {
   "cell_type": "code",
   "execution_count": 16,
   "id": "0137158a",
   "metadata": {},
   "outputs": [
    {
     "data": {
      "text/plain": [
       "'c:\\\\Users\\\\adelgado\\\\Documents\\\\Personal\\\\Universidad\\\\ML\\\\Proyecto'"
      ]
     },
     "execution_count": 16,
     "metadata": {},
     "output_type": "execute_result"
    }
   ],
   "source": [
    "%pwd"
   ]
  },
  {
   "cell_type": "code",
   "execution_count": 26,
   "id": "2c3bbe9f",
   "metadata": {},
   "outputs": [
    {
     "name": "stdout",
     "output_type": "stream",
     "text": [
      "Downloading https://github.com/ultralytics/assets/releases/download/v8.3.0/yolov8n-cls.pt to 'yolov8n-cls.pt'...\n"
     ]
    },
    {
     "name": "stderr",
     "output_type": "stream",
     "text": [
      "100%|██████████| 5.31M/5.31M [00:00<00:00, 14.6MB/s]\n"
     ]
    }
   ],
   "source": [
    "#model = YOLO('yolov8n.yaml')\n",
    "model = YOLO('yolov8n-cls.pt')"
   ]
  },
  {
   "cell_type": "code",
   "execution_count": 33,
   "id": "941afec0",
   "metadata": {},
   "outputs": [
    {
     "name": "stdout",
     "output_type": "stream",
     "text": [
      "Ultralytics 8.3.140  Python-3.12.10 torch-2.7.0+cpu CPU (Intel Core(TM) i7-10610U 1.80GHz)\n",
      "\u001b[34m\u001b[1mengine\\trainer: \u001b[0magnostic_nms=False, amp=True, augment=False, auto_augment=randaugment, batch=16, bgr=0.0, box=7.5, cache=False, cfg=None, classes=None, close_mosaic=10, cls=0.5, conf=None, copy_paste=0.0, copy_paste_mode=flip, cos_lr=False, cutmix=0.0, data=/Users/adelgado/Documents/Personal/Universidad/ML/Proyecto/Data, degrees=0.0, deterministic=True, device=cpu, dfl=1.5, dnn=False, dropout=0.0, dynamic=False, embed=None, epochs=50, erasing=0.4, exist_ok=False, fliplr=0.5, flipud=0.0, format=torchscript, fraction=1.0, freeze=None, half=False, hsv_h=0.015, hsv_s=0.7, hsv_v=0.4, imgsz=348, int8=False, iou=0.7, keras=False, kobj=1.0, line_width=None, lr0=0.01, lrf=0.01, mask_ratio=4, max_det=300, mixup=0.0, mode=train, model=yolov8n-cls.pt, momentum=0.937, mosaic=1.0, multi_scale=False, name=train, nbs=64, nms=False, opset=None, optimize=False, optimizer=auto, overlap_mask=True, patience=0, perspective=0.0, plots=True, pose=12.0, pretrained=True, profile=False, project=None, rect=False, resume=False, retina_masks=False, save=True, save_conf=False, save_crop=False, save_dir=runs\\classify\\train, save_frames=False, save_json=False, save_period=-1, save_txt=False, scale=0.5, seed=0, shear=0.0, show=False, show_boxes=True, show_conf=True, show_labels=True, simplify=True, single_cls=False, source=None, split=val, stream_buffer=False, task=classify, time=None, tracker=botsort.yaml, translate=0.1, val=True, verbose=True, vid_stride=1, visualize=False, warmup_bias_lr=0.0, warmup_epochs=3.0, warmup_momentum=0.8, weight_decay=0.0005, workers=0, workspace=None\n",
      "\u001b[34m\u001b[1mtrain:\u001b[0m C:\\Users\\adelgado\\Documents\\Personal\\Universidad\\ML\\Proyecto\\Data\\train... found 836 images in 3 classes  \n",
      "\u001b[34m\u001b[1mval:\u001b[0m C:\\Users\\adelgado\\Documents\\Personal\\Universidad\\ML\\Proyecto\\Data\\val... found 50 images in 3 classes  \n",
      "\u001b[34m\u001b[1mtest:\u001b[0m None...\n",
      "\n",
      "                   from  n    params  module                                       arguments                     \n",
      "  0                  -1  1       464  ultralytics.nn.modules.conv.Conv             [3, 16, 3, 2]                 \n",
      "  1                  -1  1      4672  ultralytics.nn.modules.conv.Conv             [16, 32, 3, 2]                \n",
      "  2                  -1  1      7360  ultralytics.nn.modules.block.C2f             [32, 32, 1, True]             \n",
      "  3                  -1  1     18560  ultralytics.nn.modules.conv.Conv             [32, 64, 3, 2]                \n",
      "  4                  -1  2     49664  ultralytics.nn.modules.block.C2f             [64, 64, 2, True]             \n",
      "  5                  -1  1     73984  ultralytics.nn.modules.conv.Conv             [64, 128, 3, 2]               \n",
      "  6                  -1  2    197632  ultralytics.nn.modules.block.C2f             [128, 128, 2, True]           \n",
      "  7                  -1  1    295424  ultralytics.nn.modules.conv.Conv             [128, 256, 3, 2]              \n",
      "  8                  -1  1    460288  ultralytics.nn.modules.block.C2f             [256, 256, 1, True]           \n",
      "  9                  -1  1    334083  ultralytics.nn.modules.head.Classify         [256, 3]                      \n",
      "YOLOv8n-cls summary: 56 layers, 1,442,131 parameters, 1,442,131 gradients\n",
      "Transferred 158/158 items from pretrained weights\n",
      "WARNING imgsz=[348] must be multiple of max stride 32, updating to [352]\n",
      "\u001b[34m\u001b[1mtrain: \u001b[0mFast image access  (ping: 0.20.0 ms, read: 148.924.8 MB/s, size: 74.6 KB)\n"
     ]
    },
    {
     "name": "stderr",
     "output_type": "stream",
     "text": [
      "\u001b[34m\u001b[1mtrain: \u001b[0mScanning C:\\Users\\adelgado\\Documents\\Personal\\Universidad\\ML\\Proyecto\\Data\\train... 836 images, 0 corrupt: 100%|██████████| 836/836 [00:00<?, ?it/s]"
     ]
    },
    {
     "name": "stdout",
     "output_type": "stream",
     "text": [
      "\u001b[34m\u001b[1mtrain: \u001b[0mC:\\Users\\adelgado\\Documents\\Personal\\Universidad\\ML\\Proyecto\\Data\\train\\Acero_expuesto\\27986_1683299072418.jpg: corrupt JPEG restored and saved\n",
      "\u001b[34m\u001b[1mtrain: \u001b[0mC:\\Users\\adelgado\\Documents\\Personal\\Universidad\\ML\\Proyecto\\Data\\train\\Acero_expuesto\\32131_1690637135902.jpg: corrupt JPEG restored and saved\n",
      "\u001b[34m\u001b[1mtrain: \u001b[0mC:\\Users\\adelgado\\Documents\\Personal\\Universidad\\ML\\Proyecto\\Data\\train\\Acero_expuesto\\32131_1690637136021.jpg: corrupt JPEG restored and saved\n",
      "\u001b[34m\u001b[1mtrain: \u001b[0mC:\\Users\\adelgado\\Documents\\Personal\\Universidad\\ML\\Proyecto\\Data\\train\\Acero_expuesto\\32131_1690637136032.jpg: corrupt JPEG restored and saved\n",
      "\u001b[34m\u001b[1mtrain: \u001b[0mC:\\Users\\adelgado\\Documents\\Personal\\Universidad\\ML\\Proyecto\\Data\\train\\Acero_expuesto\\37195_1698936828821.jpg: corrupt JPEG restored and saved\n",
      "\u001b[34m\u001b[1mtrain: \u001b[0mC:\\Users\\adelgado\\Documents\\Personal\\Universidad\\ML\\Proyecto\\Data\\train\\Acero_expuesto\\38567_1701285628483.jpg: corrupt JPEG restored and saved\n",
      "\u001b[34m\u001b[1mtrain: \u001b[0mC:\\Users\\adelgado\\Documents\\Personal\\Universidad\\ML\\Proyecto\\Data\\train\\Acero_expuesto\\38567_1701285628629.jpg: corrupt JPEG restored and saved\n",
      "\u001b[34m\u001b[1mtrain: \u001b[0mC:\\Users\\adelgado\\Documents\\Personal\\Universidad\\ML\\Proyecto\\Data\\train\\Acero_expuesto\\38567_1701285628643.jpg: corrupt JPEG restored and saved\n",
      "\u001b[34m\u001b[1mtrain: \u001b[0mC:\\Users\\adelgado\\Documents\\Personal\\Universidad\\ML\\Proyecto\\Data\\train\\Acero_expuesto\\41413_1706535418229.jpg: corrupt JPEG restored and saved\n",
      "\u001b[34m\u001b[1mtrain: \u001b[0mC:\\Users\\adelgado\\Documents\\Personal\\Universidad\\ML\\Proyecto\\Data\\train\\Acero_expuesto\\43196_1709214750791.jpg: corrupt JPEG restored and saved\n",
      "\u001b[34m\u001b[1mtrain: \u001b[0mC:\\Users\\adelgado\\Documents\\Personal\\Universidad\\ML\\Proyecto\\Data\\train\\Acero_expuesto\\43196_1709214750912.jpg: corrupt JPEG restored and saved\n",
      "\u001b[34m\u001b[1mtrain: \u001b[0mC:\\Users\\adelgado\\Documents\\Personal\\Universidad\\ML\\Proyecto\\Data\\train\\Acero_expuesto\\44698_1711468781379.jpg: corrupt JPEG restored and saved\n",
      "\u001b[34m\u001b[1mtrain: \u001b[0mC:\\Users\\adelgado\\Documents\\Personal\\Universidad\\ML\\Proyecto\\Data\\train\\Acero_expuesto\\44698_1711468781502.jpg: corrupt JPEG restored and saved\n",
      "\u001b[34m\u001b[1mtrain: \u001b[0mC:\\Users\\adelgado\\Documents\\Personal\\Universidad\\ML\\Proyecto\\Data\\train\\Grietas_Fisuras\\32133_1690642004248.jpg: corrupt JPEG restored and saved\n",
      "\u001b[34m\u001b[1mtrain: \u001b[0mC:\\Users\\adelgado\\Documents\\Personal\\Universidad\\ML\\Proyecto\\Data\\train\\Grietas_Fisuras\\33368_1692890593600.jpg: corrupt JPEG restored and saved\n",
      "\u001b[34m\u001b[1mtrain: \u001b[0mC:\\Users\\adelgado\\Documents\\Personal\\Universidad\\ML\\Proyecto\\Data\\train\\Grietas_Fisuras\\33368_1692890593609.jpg: corrupt JPEG restored and saved\n",
      "\u001b[34m\u001b[1mtrain: \u001b[0mC:\\Users\\adelgado\\Documents\\Personal\\Universidad\\ML\\Proyecto\\Data\\train\\Grietas_Fisuras\\33576_1693255095672.jpg: corrupt JPEG restored and saved\n",
      "\u001b[34m\u001b[1mtrain: \u001b[0mC:\\Users\\adelgado\\Documents\\Personal\\Universidad\\ML\\Proyecto\\Data\\train\\Grietas_Fisuras\\33576_1693255095738.jpg: corrupt JPEG restored and saved\n",
      "\u001b[34m\u001b[1mtrain: \u001b[0mC:\\Users\\adelgado\\Documents\\Personal\\Universidad\\ML\\Proyecto\\Data\\train\\Grietas_Fisuras\\33576_1693255095743.jpg: corrupt JPEG restored and saved\n",
      "\u001b[34m\u001b[1mtrain: \u001b[0mC:\\Users\\adelgado\\Documents\\Personal\\Universidad\\ML\\Proyecto\\Data\\train\\Grietas_Fisuras\\33576_1693255095752.jpg: corrupt JPEG restored and saved\n",
      "\u001b[34m\u001b[1mtrain: \u001b[0mC:\\Users\\adelgado\\Documents\\Personal\\Universidad\\ML\\Proyecto\\Data\\train\\Grietas_Fisuras\\33576_1693255095757.jpg: corrupt JPEG restored and saved\n",
      "\u001b[34m\u001b[1mtrain: \u001b[0mC:\\Users\\adelgado\\Documents\\Personal\\Universidad\\ML\\Proyecto\\Data\\train\\Grietas_Fisuras\\33576_1693255095763.jpg: corrupt JPEG restored and saved\n",
      "\u001b[34m\u001b[1mtrain: \u001b[0mC:\\Users\\adelgado\\Documents\\Personal\\Universidad\\ML\\Proyecto\\Data\\train\\Grietas_Fisuras\\34164_1694080054968.jpg: corrupt JPEG restored and saved\n",
      "\u001b[34m\u001b[1mtrain: \u001b[0mC:\\Users\\adelgado\\Documents\\Personal\\Universidad\\ML\\Proyecto\\Data\\train\\Grietas_Fisuras\\34164_1694080068645.jpg: corrupt JPEG restored and saved\n",
      "\u001b[34m\u001b[1mtrain: \u001b[0mC:\\Users\\adelgado\\Documents\\Personal\\Universidad\\ML\\Proyecto\\Data\\train\\Grietas_Fisuras\\34164_1694080081199.jpg: corrupt JPEG restored and saved\n",
      "\u001b[34m\u001b[1mtrain: \u001b[0mC:\\Users\\adelgado\\Documents\\Personal\\Universidad\\ML\\Proyecto\\Data\\train\\Grietas_Fisuras\\36718_1698194387283.JPG: corrupt JPEG restored and saved\n",
      "\u001b[34m\u001b[1mtrain: \u001b[0mC:\\Users\\adelgado\\Documents\\Personal\\Universidad\\ML\\Proyecto\\Data\\train\\Grietas_Fisuras\\36718_1698194409146.JPG: corrupt JPEG restored and saved\n",
      "\u001b[34m\u001b[1mtrain: \u001b[0mC:\\Users\\adelgado\\Documents\\Personal\\Universidad\\ML\\Proyecto\\Data\\train\\Grietas_Fisuras\\36718_1698194418072.JPG: corrupt JPEG restored and saved\n",
      "\u001b[34m\u001b[1mtrain: \u001b[0mC:\\Users\\adelgado\\Documents\\Personal\\Universidad\\ML\\Proyecto\\Data\\train\\Grietas_Fisuras\\36718_1698194476007.JPG: corrupt JPEG restored and saved\n",
      "\u001b[34m\u001b[1mtrain: \u001b[0mC:\\Users\\adelgado\\Documents\\Personal\\Universidad\\ML\\Proyecto\\Data\\train\\Grietas_Fisuras\\36718_1698194494064.JPG: corrupt JPEG restored and saved\n",
      "\u001b[34m\u001b[1mtrain: \u001b[0mC:\\Users\\adelgado\\Documents\\Personal\\Universidad\\ML\\Proyecto\\Data\\train\\Grietas_Fisuras\\36718_1698194520747.JPG: corrupt JPEG restored and saved\n",
      "\u001b[34m\u001b[1mtrain: \u001b[0mC:\\Users\\adelgado\\Documents\\Personal\\Universidad\\ML\\Proyecto\\Data\\train\\Grietas_Fisuras\\36718_1698194540173.JPG: corrupt JPEG restored and saved\n",
      "\u001b[34m\u001b[1mtrain: \u001b[0mC:\\Users\\adelgado\\Documents\\Personal\\Universidad\\ML\\Proyecto\\Data\\train\\Grietas_Fisuras\\36718_1698194561529.JPG: corrupt JPEG restored and saved\n",
      "\u001b[34m\u001b[1mtrain: \u001b[0mC:\\Users\\adelgado\\Documents\\Personal\\Universidad\\ML\\Proyecto\\Data\\train\\Grietas_Fisuras\\36718_1698194616506.JPG: corrupt JPEG restored and saved\n",
      "\u001b[34m\u001b[1mtrain: \u001b[0mC:\\Users\\adelgado\\Documents\\Personal\\Universidad\\ML\\Proyecto\\Data\\train\\Grietas_Fisuras\\37619_1699707433059.jpg: corrupt JPEG restored and saved\n",
      "\u001b[34m\u001b[1mtrain: \u001b[0mC:\\Users\\adelgado\\Documents\\Personal\\Universidad\\ML\\Proyecto\\Data\\train\\Grietas_Fisuras\\40515_1704985025362.jpg: corrupt JPEG restored and saved\n",
      "\u001b[34m\u001b[1mtrain: \u001b[0mC:\\Users\\adelgado\\Documents\\Personal\\Universidad\\ML\\Proyecto\\Data\\train\\Grietas_Fisuras\\41168_1706110971306.jpg: corrupt JPEG restored and saved\n",
      "\u001b[34m\u001b[1mtrain: \u001b[0mC:\\Users\\adelgado\\Documents\\Personal\\Universidad\\ML\\Proyecto\\Data\\train\\Grietas_Fisuras\\41168_1706110971442.jpg: corrupt JPEG restored and saved\n",
      "\u001b[34m\u001b[1mtrain: \u001b[0mC:\\Users\\adelgado\\Documents\\Personal\\Universidad\\ML\\Proyecto\\Data\\train\\Grietas_Fisuras\\41867_1707223436439.jpg: corrupt JPEG restored and saved\n",
      "\u001b[34m\u001b[1mtrain: \u001b[0mC:\\Users\\adelgado\\Documents\\Personal\\Universidad\\ML\\Proyecto\\Data\\train\\Grietas_Fisuras\\42600_1708367251474.jpg: corrupt JPEG restored and saved\n",
      "\u001b[34m\u001b[1mtrain: \u001b[0mC:\\Users\\adelgado\\Documents\\Personal\\Universidad\\ML\\Proyecto\\Data\\train\\Grietas_Fisuras\\43794_1710180467715.jpg: corrupt JPEG restored and saved\n",
      "\u001b[34m\u001b[1mtrain: \u001b[0mC:\\Users\\adelgado\\Documents\\Personal\\Universidad\\ML\\Proyecto\\Data\\train\\Grietas_Fisuras\\43794_1710180467994.jpg: corrupt JPEG restored and saved\n",
      "\u001b[34m\u001b[1mtrain: \u001b[0mC:\\Users\\adelgado\\Documents\\Personal\\Universidad\\ML\\Proyecto\\Data\\train\\Grietas_Fisuras\\45091_1712149989554.jpg: corrupt JPEG restored and saved\n",
      "\u001b[34m\u001b[1mtrain: \u001b[0mC:\\Users\\adelgado\\Documents\\Personal\\Universidad\\ML\\Proyecto\\Data\\train\\Hormiguero\\12609_20220601_102037.jpg: corrupt JPEG restored and saved\n",
      "\u001b[34m\u001b[1mtrain: \u001b[0mC:\\Users\\adelgado\\Documents\\Personal\\Universidad\\ML\\Proyecto\\Data\\train\\Hormiguero\\12609_20220601_102048.jpg: corrupt JPEG restored and saved\n",
      "\u001b[34m\u001b[1mtrain: \u001b[0mC:\\Users\\adelgado\\Documents\\Personal\\Universidad\\ML\\Proyecto\\Data\\train\\Hormiguero\\12609_20220601_102333.jpg: corrupt JPEG restored and saved\n",
      "\u001b[34m\u001b[1mtrain: \u001b[0mC:\\Users\\adelgado\\Documents\\Personal\\Universidad\\ML\\Proyecto\\Data\\train\\Hormiguero\\12609_20220601_102345.jpg: corrupt JPEG restored and saved\n",
      "\u001b[34m\u001b[1mtrain: \u001b[0mC:\\Users\\adelgado\\Documents\\Personal\\Universidad\\ML\\Proyecto\\Data\\train\\Hormiguero\\27440_20230421_113554.jpg: corrupt JPEG restored and saved\n",
      "\u001b[34m\u001b[1mtrain: \u001b[0mC:\\Users\\adelgado\\Documents\\Personal\\Universidad\\ML\\Proyecto\\Data\\train\\Hormiguero\\27440_20230421_113557.jpg: corrupt JPEG restored and saved\n",
      "\u001b[34m\u001b[1mtrain: \u001b[0mC:\\Users\\adelgado\\Documents\\Personal\\Universidad\\ML\\Proyecto\\Data\\train\\Hormiguero\\33278_1692765380230.jpg: corrupt JPEG restored and saved\n",
      "\u001b[34m\u001b[1mtrain: \u001b[0mC:\\Users\\adelgado\\Documents\\Personal\\Universidad\\ML\\Proyecto\\Data\\train\\Hormiguero\\33278_1692765380245.jpg: corrupt JPEG restored and saved\n",
      "\u001b[34m\u001b[1mtrain: \u001b[0mC:\\Users\\adelgado\\Documents\\Personal\\Universidad\\ML\\Proyecto\\Data\\train\\Hormiguero\\38008_1700507784032.jpg: corrupt JPEG restored and saved\n",
      "\u001b[34m\u001b[1mtrain: \u001b[0mC:\\Users\\adelgado\\Documents\\Personal\\Universidad\\ML\\Proyecto\\Data\\train\\Hormiguero\\38008_1700507784111.jpg: corrupt JPEG restored and saved\n",
      "\u001b[34m\u001b[1mtrain: \u001b[0mC:\\Users\\adelgado\\Documents\\Personal\\Universidad\\ML\\Proyecto\\Data\\train\\Hormiguero\\38008_1700507784116.jpg: corrupt JPEG restored and saved\n",
      "\u001b[34m\u001b[1mtrain: \u001b[0mC:\\Users\\adelgado\\Documents\\Personal\\Universidad\\ML\\Proyecto\\Data\\train\\Hormiguero\\38008_1700507784121.jpg: corrupt JPEG restored and saved\n",
      "\u001b[34m\u001b[1mtrain: \u001b[0mC:\\Users\\adelgado\\Documents\\Personal\\Universidad\\ML\\Proyecto\\Data\\train\\Hormiguero\\38008_1700507784125.jpg: corrupt JPEG restored and saved\n",
      "\u001b[34m\u001b[1mval: \u001b[0mFast image access  (ping: 0.60.6 ms, read: 733.1410.4 MB/s, size: 2027.1 KB)\n"
     ]
    },
    {
     "name": "stderr",
     "output_type": "stream",
     "text": [
      "\n",
      "c:\\Users\\adelgado\\AppData\\Local\\Programs\\Python\\Python312\\Lib\\site-packages\\torch\\utils\\data\\dataloader.py:665: UserWarning: 'pin_memory' argument is set as true but no accelerator is found, then device pinned memory won't be used.\n",
      "  warnings.warn(warn_msg)\n",
      "\u001b[34m\u001b[1mval: \u001b[0mScanning C:\\Users\\adelgado\\Documents\\Personal\\Universidad\\ML\\Proyecto\\Data\\val... 50 images, 0 corrupt: 100%|██████████| 50/50 [00:00<?, ?it/s]"
     ]
    },
    {
     "name": "stdout",
     "output_type": "stream",
     "text": [
      "\u001b[34m\u001b[1mval: \u001b[0mC:\\Users\\adelgado\\Documents\\Personal\\Universidad\\ML\\Proyecto\\Data\\val\\Grietas_Fisuras\\58144_1730459084180.jpg: corrupt JPEG restored and saved\n",
      "\u001b[34m\u001b[1mval: \u001b[0mC:\\Users\\adelgado\\Documents\\Personal\\Universidad\\ML\\Proyecto\\Data\\val\\Grietas_Fisuras\\58144_1730459102186.jpg: corrupt JPEG restored and saved\n",
      "\u001b[34m\u001b[1mval: \u001b[0mC:\\Users\\adelgado\\Documents\\Personal\\Universidad\\ML\\Proyecto\\Data\\val\\Hormiguero\\52202_1722428841887.jpg: corrupt JPEG restored and saved\n",
      "\u001b[34m\u001b[1mval: \u001b[0mC:\\Users\\adelgado\\Documents\\Personal\\Universidad\\ML\\Proyecto\\Data\\val\\Hormiguero\\52202_1722428902223.jpg: corrupt JPEG restored and saved\n",
      "\u001b[34m\u001b[1mval: \u001b[0mC:\\Users\\adelgado\\Documents\\Personal\\Universidad\\ML\\Proyecto\\Data\\val\\Hormiguero\\52202_1722428928960.jpg: corrupt JPEG restored and saved\n",
      "\u001b[34m\u001b[1moptimizer:\u001b[0m 'optimizer=auto' found, ignoring 'lr0=0.01' and 'momentum=0.937' and determining best 'optimizer', 'lr0' and 'momentum' automatically... \n",
      "\u001b[34m\u001b[1moptimizer:\u001b[0m AdamW(lr=0.001429, momentum=0.9) with parameter groups 26 weight(decay=0.0), 27 weight(decay=0.0005), 27 bias(decay=0.0)\n",
      "Image sizes 352 train, 352 val\n",
      "Using 0 dataloader workers\n",
      "Logging results to \u001b[1mruns\\classify\\train\u001b[0m\n",
      "Starting training for 50 epochs...\n",
      "\n",
      "      Epoch    GPU_mem       loss  Instances       Size\n"
     ]
    },
    {
     "name": "stderr",
     "output_type": "stream",
     "text": [
      "\n",
      "c:\\Users\\adelgado\\AppData\\Local\\Programs\\Python\\Python312\\Lib\\site-packages\\torch\\utils\\data\\dataloader.py:665: UserWarning: 'pin_memory' argument is set as true but no accelerator is found, then device pinned memory won't be used.\n",
      "  warnings.warn(warn_msg)\n",
      "       1/50         0G     0.1731          4        352: 100%|██████████| 53/53 [03:54<00:00,  4.43s/it]\n",
      "               classes   top1_acc   top5_acc: 100%|██████████| 2/2 [00:11<00:00,  5.92s/it]"
     ]
    },
    {
     "name": "stdout",
     "output_type": "stream",
     "text": [
      "                   all        0.7          1\n"
     ]
    },
    {
     "name": "stderr",
     "output_type": "stream",
     "text": [
      "\n"
     ]
    },
    {
     "name": "stdout",
     "output_type": "stream",
     "text": [
      "\n",
      "      Epoch    GPU_mem       loss  Instances       Size\n"
     ]
    },
    {
     "name": "stderr",
     "output_type": "stream",
     "text": [
      "       2/50         0G     0.2395          4        352: 100%|██████████| 53/53 [03:45<00:00,  4.26s/it]\n",
      "               classes   top1_acc   top5_acc: 100%|██████████| 2/2 [00:10<00:00,  5.14s/it]"
     ]
    },
    {
     "name": "stdout",
     "output_type": "stream",
     "text": [
      "                   all        0.8          1\n"
     ]
    },
    {
     "name": "stderr",
     "output_type": "stream",
     "text": [
      "\n"
     ]
    },
    {
     "name": "stdout",
     "output_type": "stream",
     "text": [
      "\n",
      "      Epoch    GPU_mem       loss  Instances       Size\n"
     ]
    },
    {
     "name": "stderr",
     "output_type": "stream",
     "text": [
      "       3/50         0G      0.303          4        352: 100%|██████████| 53/53 [03:49<00:00,  4.34s/it]\n",
      "               classes   top1_acc   top5_acc: 100%|██████████| 2/2 [00:10<00:00,  5.18s/it]"
     ]
    },
    {
     "name": "stdout",
     "output_type": "stream",
     "text": [
      "                   all       0.78          1\n"
     ]
    },
    {
     "name": "stderr",
     "output_type": "stream",
     "text": [
      "\n"
     ]
    },
    {
     "name": "stdout",
     "output_type": "stream",
     "text": [
      "\n",
      "      Epoch    GPU_mem       loss  Instances       Size\n"
     ]
    },
    {
     "name": "stderr",
     "output_type": "stream",
     "text": [
      "       4/50         0G      0.301          4        352: 100%|██████████| 53/53 [03:53<00:00,  4.41s/it]\n",
      "               classes   top1_acc   top5_acc: 100%|██████████| 2/2 [00:10<00:00,  5.01s/it]"
     ]
    },
    {
     "name": "stdout",
     "output_type": "stream",
     "text": [
      "                   all       0.72          1\n"
     ]
    },
    {
     "name": "stderr",
     "output_type": "stream",
     "text": [
      "\n"
     ]
    },
    {
     "name": "stdout",
     "output_type": "stream",
     "text": [
      "\n",
      "      Epoch    GPU_mem       loss  Instances       Size\n"
     ]
    },
    {
     "name": "stderr",
     "output_type": "stream",
     "text": [
      "       5/50         0G     0.3358          4        352: 100%|██████████| 53/53 [04:00<00:00,  4.54s/it]\n",
      "               classes   top1_acc   top5_acc: 100%|██████████| 2/2 [00:10<00:00,  5.13s/it]"
     ]
    },
    {
     "name": "stdout",
     "output_type": "stream",
     "text": [
      "                   all       0.74          1\n"
     ]
    },
    {
     "name": "stderr",
     "output_type": "stream",
     "text": [
      "\n"
     ]
    },
    {
     "name": "stdout",
     "output_type": "stream",
     "text": [
      "\n",
      "      Epoch    GPU_mem       loss  Instances       Size\n"
     ]
    },
    {
     "name": "stderr",
     "output_type": "stream",
     "text": [
      "       6/50         0G      0.242          4        352: 100%|██████████| 53/53 [03:48<00:00,  4.31s/it]\n",
      "               classes   top1_acc   top5_acc: 100%|██████████| 2/2 [00:09<00:00,  4.96s/it]"
     ]
    },
    {
     "name": "stdout",
     "output_type": "stream",
     "text": [
      "                   all       0.68          1\n"
     ]
    },
    {
     "name": "stderr",
     "output_type": "stream",
     "text": [
      "\n"
     ]
    },
    {
     "name": "stdout",
     "output_type": "stream",
     "text": [
      "\n",
      "      Epoch    GPU_mem       loss  Instances       Size\n"
     ]
    },
    {
     "name": "stderr",
     "output_type": "stream",
     "text": [
      "       7/50         0G     0.2314          4        352: 100%|██████████| 53/53 [03:58<00:00,  4.50s/it]\n",
      "               classes   top1_acc   top5_acc: 100%|██████████| 2/2 [00:10<00:00,  5.41s/it]"
     ]
    },
    {
     "name": "stdout",
     "output_type": "stream",
     "text": [
      "                   all       0.68          1\n"
     ]
    },
    {
     "name": "stderr",
     "output_type": "stream",
     "text": [
      "\n"
     ]
    },
    {
     "name": "stdout",
     "output_type": "stream",
     "text": [
      "\n",
      "      Epoch    GPU_mem       loss  Instances       Size\n"
     ]
    },
    {
     "name": "stderr",
     "output_type": "stream",
     "text": [
      "       8/50         0G     0.1982          4        352: 100%|██████████| 53/53 [03:50<00:00,  4.35s/it]\n",
      "               classes   top1_acc   top5_acc: 100%|██████████| 2/2 [00:10<00:00,  5.02s/it]"
     ]
    },
    {
     "name": "stdout",
     "output_type": "stream",
     "text": [
      "                   all       0.72          1\n"
     ]
    },
    {
     "name": "stderr",
     "output_type": "stream",
     "text": [
      "\n"
     ]
    },
    {
     "name": "stdout",
     "output_type": "stream",
     "text": [
      "\n",
      "      Epoch    GPU_mem       loss  Instances       Size\n"
     ]
    },
    {
     "name": "stderr",
     "output_type": "stream",
     "text": [
      "       9/50         0G     0.1787          4        352: 100%|██████████| 53/53 [03:49<00:00,  4.33s/it]\n",
      "               classes   top1_acc   top5_acc: 100%|██████████| 2/2 [00:10<00:00,  5.11s/it]"
     ]
    },
    {
     "name": "stdout",
     "output_type": "stream",
     "text": [
      "                   all       0.72          1\n"
     ]
    },
    {
     "name": "stderr",
     "output_type": "stream",
     "text": [
      "\n"
     ]
    },
    {
     "name": "stdout",
     "output_type": "stream",
     "text": [
      "\n",
      "      Epoch    GPU_mem       loss  Instances       Size\n"
     ]
    },
    {
     "name": "stderr",
     "output_type": "stream",
     "text": [
      "      10/50         0G     0.1751          4        352: 100%|██████████| 53/53 [03:44<00:00,  4.24s/it]\n",
      "               classes   top1_acc   top5_acc: 100%|██████████| 2/2 [00:09<00:00,  4.95s/it]"
     ]
    },
    {
     "name": "stdout",
     "output_type": "stream",
     "text": [
      "                   all       0.74          1\n"
     ]
    },
    {
     "name": "stderr",
     "output_type": "stream",
     "text": [
      "\n"
     ]
    },
    {
     "name": "stdout",
     "output_type": "stream",
     "text": [
      "\n",
      "      Epoch    GPU_mem       loss  Instances       Size\n"
     ]
    },
    {
     "name": "stderr",
     "output_type": "stream",
     "text": [
      "      11/50         0G     0.1145          4        352: 100%|██████████| 53/53 [03:53<00:00,  4.40s/it]\n",
      "               classes   top1_acc   top5_acc: 100%|██████████| 2/2 [00:10<00:00,  5.19s/it]"
     ]
    },
    {
     "name": "stdout",
     "output_type": "stream",
     "text": [
      "                   all       0.78          1\n"
     ]
    },
    {
     "name": "stderr",
     "output_type": "stream",
     "text": [
      "\n"
     ]
    },
    {
     "name": "stdout",
     "output_type": "stream",
     "text": [
      "\n",
      "      Epoch    GPU_mem       loss  Instances       Size\n"
     ]
    },
    {
     "name": "stderr",
     "output_type": "stream",
     "text": [
      "      12/50         0G     0.1716          4        352: 100%|██████████| 53/53 [03:49<00:00,  4.33s/it]\n",
      "               classes   top1_acc   top5_acc: 100%|██████████| 2/2 [00:09<00:00,  4.99s/it]"
     ]
    },
    {
     "name": "stdout",
     "output_type": "stream",
     "text": [
      "                   all        0.8          1\n"
     ]
    },
    {
     "name": "stderr",
     "output_type": "stream",
     "text": [
      "\n"
     ]
    },
    {
     "name": "stdout",
     "output_type": "stream",
     "text": [
      "\n",
      "      Epoch    GPU_mem       loss  Instances       Size\n"
     ]
    },
    {
     "name": "stderr",
     "output_type": "stream",
     "text": [
      "      13/50         0G     0.1522          4        352: 100%|██████████| 53/53 [03:46<00:00,  4.27s/it]\n",
      "               classes   top1_acc   top5_acc: 100%|██████████| 2/2 [00:10<00:00,  5.21s/it]"
     ]
    },
    {
     "name": "stdout",
     "output_type": "stream",
     "text": [
      "                   all       0.72          1\n"
     ]
    },
    {
     "name": "stderr",
     "output_type": "stream",
     "text": [
      "\n"
     ]
    },
    {
     "name": "stdout",
     "output_type": "stream",
     "text": [
      "\n",
      "      Epoch    GPU_mem       loss  Instances       Size\n"
     ]
    },
    {
     "name": "stderr",
     "output_type": "stream",
     "text": [
      "      14/50         0G     0.1826          4        352: 100%|██████████| 53/53 [04:28<00:00,  5.07s/it]\n",
      "               classes   top1_acc   top5_acc: 100%|██████████| 2/2 [00:11<00:00,  5.95s/it]"
     ]
    },
    {
     "name": "stdout",
     "output_type": "stream",
     "text": [
      "                   all       0.56          1\n"
     ]
    },
    {
     "name": "stderr",
     "output_type": "stream",
     "text": [
      "\n"
     ]
    },
    {
     "name": "stdout",
     "output_type": "stream",
     "text": [
      "\n",
      "      Epoch    GPU_mem       loss  Instances       Size\n"
     ]
    },
    {
     "name": "stderr",
     "output_type": "stream",
     "text": [
      "      15/50         0G       0.18          4        352: 100%|██████████| 53/53 [04:40<00:00,  5.29s/it]\n",
      "               classes   top1_acc   top5_acc: 100%|██████████| 2/2 [00:12<00:00,  6.30s/it]"
     ]
    },
    {
     "name": "stdout",
     "output_type": "stream",
     "text": [
      "                   all       0.74          1\n"
     ]
    },
    {
     "name": "stderr",
     "output_type": "stream",
     "text": [
      "\n"
     ]
    },
    {
     "name": "stdout",
     "output_type": "stream",
     "text": [
      "\n",
      "      Epoch    GPU_mem       loss  Instances       Size\n"
     ]
    },
    {
     "name": "stderr",
     "output_type": "stream",
     "text": [
      "      16/50         0G     0.1173          4        352: 100%|██████████| 53/53 [04:18<00:00,  4.88s/it]\n",
      "               classes   top1_acc   top5_acc: 100%|██████████| 2/2 [00:11<00:00,  5.70s/it]"
     ]
    },
    {
     "name": "stdout",
     "output_type": "stream",
     "text": [
      "                   all       0.72          1\n"
     ]
    },
    {
     "name": "stderr",
     "output_type": "stream",
     "text": [
      "\n"
     ]
    },
    {
     "name": "stdout",
     "output_type": "stream",
     "text": [
      "\n",
      "      Epoch    GPU_mem       loss  Instances       Size\n"
     ]
    },
    {
     "name": "stderr",
     "output_type": "stream",
     "text": [
      "      17/50         0G     0.1282          4        352: 100%|██████████| 53/53 [04:40<00:00,  5.29s/it]\n",
      "               classes   top1_acc   top5_acc: 100%|██████████| 2/2 [00:13<00:00,  6.54s/it]"
     ]
    },
    {
     "name": "stdout",
     "output_type": "stream",
     "text": [
      "                   all       0.74          1\n"
     ]
    },
    {
     "name": "stderr",
     "output_type": "stream",
     "text": [
      "\n"
     ]
    },
    {
     "name": "stdout",
     "output_type": "stream",
     "text": [
      "\n",
      "      Epoch    GPU_mem       loss  Instances       Size\n"
     ]
    },
    {
     "name": "stderr",
     "output_type": "stream",
     "text": [
      "      18/50         0G    0.08904          4        352: 100%|██████████| 53/53 [04:22<00:00,  4.95s/it]\n",
      "               classes   top1_acc   top5_acc: 100%|██████████| 2/2 [00:11<00:00,  5.87s/it]"
     ]
    },
    {
     "name": "stdout",
     "output_type": "stream",
     "text": [
      "                   all       0.68          1\n"
     ]
    },
    {
     "name": "stderr",
     "output_type": "stream",
     "text": [
      "\n"
     ]
    },
    {
     "name": "stdout",
     "output_type": "stream",
     "text": [
      "\n",
      "      Epoch    GPU_mem       loss  Instances       Size\n"
     ]
    },
    {
     "name": "stderr",
     "output_type": "stream",
     "text": [
      "      19/50         0G    0.08497          4        352: 100%|██████████| 53/53 [04:25<00:00,  5.01s/it]\n",
      "               classes   top1_acc   top5_acc: 100%|██████████| 2/2 [00:10<00:00,  5.44s/it]"
     ]
    },
    {
     "name": "stdout",
     "output_type": "stream",
     "text": [
      "                   all        0.8          1\n"
     ]
    },
    {
     "name": "stderr",
     "output_type": "stream",
     "text": [
      "\n"
     ]
    },
    {
     "name": "stdout",
     "output_type": "stream",
     "text": [
      "\n",
      "      Epoch    GPU_mem       loss  Instances       Size\n"
     ]
    },
    {
     "name": "stderr",
     "output_type": "stream",
     "text": [
      "      20/50         0G    0.05556          4        352: 100%|██████████| 53/53 [05:36<00:00,  6.35s/it]\n",
      "               classes   top1_acc   top5_acc: 100%|██████████| 2/2 [00:12<00:00,  6.28s/it]"
     ]
    },
    {
     "name": "stdout",
     "output_type": "stream",
     "text": [
      "                   all       0.78          1\n"
     ]
    },
    {
     "name": "stderr",
     "output_type": "stream",
     "text": [
      "\n"
     ]
    },
    {
     "name": "stdout",
     "output_type": "stream",
     "text": [
      "\n",
      "      Epoch    GPU_mem       loss  Instances       Size\n"
     ]
    },
    {
     "name": "stderr",
     "output_type": "stream",
     "text": [
      "      21/50         0G    0.05315          4        352: 100%|██████████| 53/53 [04:24<00:00,  5.00s/it]\n",
      "               classes   top1_acc   top5_acc: 100%|██████████| 2/2 [00:12<00:00,  6.06s/it]"
     ]
    },
    {
     "name": "stdout",
     "output_type": "stream",
     "text": [
      "                   all       0.78          1\n"
     ]
    },
    {
     "name": "stderr",
     "output_type": "stream",
     "text": [
      "\n"
     ]
    },
    {
     "name": "stdout",
     "output_type": "stream",
     "text": [
      "\n",
      "      Epoch    GPU_mem       loss  Instances       Size\n"
     ]
    },
    {
     "name": "stderr",
     "output_type": "stream",
     "text": [
      "      22/50         0G    0.05938          4        352: 100%|██████████| 53/53 [04:15<00:00,  4.82s/it]\n",
      "               classes   top1_acc   top5_acc: 100%|██████████| 2/2 [00:10<00:00,  5.08s/it]"
     ]
    },
    {
     "name": "stdout",
     "output_type": "stream",
     "text": [
      "                   all       0.78          1\n"
     ]
    },
    {
     "name": "stderr",
     "output_type": "stream",
     "text": [
      "\n"
     ]
    },
    {
     "name": "stdout",
     "output_type": "stream",
     "text": [
      "\n",
      "      Epoch    GPU_mem       loss  Instances       Size\n"
     ]
    },
    {
     "name": "stderr",
     "output_type": "stream",
     "text": [
      "      23/50         0G    0.05492          4        352: 100%|██████████| 53/53 [03:49<00:00,  4.33s/it]\n",
      "               classes   top1_acc   top5_acc: 100%|██████████| 2/2 [00:11<00:00,  5.88s/it]"
     ]
    },
    {
     "name": "stdout",
     "output_type": "stream",
     "text": [
      "                   all       0.74          1\n"
     ]
    },
    {
     "name": "stderr",
     "output_type": "stream",
     "text": [
      "\n"
     ]
    },
    {
     "name": "stdout",
     "output_type": "stream",
     "text": [
      "\n",
      "      Epoch    GPU_mem       loss  Instances       Size\n"
     ]
    },
    {
     "name": "stderr",
     "output_type": "stream",
     "text": [
      "      24/50         0G    0.07311          4        352: 100%|██████████| 53/53 [03:54<00:00,  4.42s/it]\n",
      "               classes   top1_acc   top5_acc: 100%|██████████| 2/2 [00:09<00:00,  4.98s/it]"
     ]
    },
    {
     "name": "stdout",
     "output_type": "stream",
     "text": [
      "                   all       0.74          1\n"
     ]
    },
    {
     "name": "stderr",
     "output_type": "stream",
     "text": [
      "\n"
     ]
    },
    {
     "name": "stdout",
     "output_type": "stream",
     "text": [
      "\n",
      "      Epoch    GPU_mem       loss  Instances       Size\n"
     ]
    },
    {
     "name": "stderr",
     "output_type": "stream",
     "text": [
      "      25/50         0G    0.05877          4        352: 100%|██████████| 53/53 [04:10<00:00,  4.73s/it]\n",
      "               classes   top1_acc   top5_acc: 100%|██████████| 2/2 [00:10<00:00,  5.25s/it]"
     ]
    },
    {
     "name": "stdout",
     "output_type": "stream",
     "text": [
      "                   all       0.78          1\n"
     ]
    },
    {
     "name": "stderr",
     "output_type": "stream",
     "text": [
      "\n"
     ]
    },
    {
     "name": "stdout",
     "output_type": "stream",
     "text": [
      "\n",
      "      Epoch    GPU_mem       loss  Instances       Size\n"
     ]
    },
    {
     "name": "stderr",
     "output_type": "stream",
     "text": [
      "      26/50         0G     0.0506          4        352: 100%|██████████| 53/53 [04:05<00:00,  4.62s/it]\n",
      "               classes   top1_acc   top5_acc: 100%|██████████| 2/2 [00:11<00:00,  5.56s/it]"
     ]
    },
    {
     "name": "stdout",
     "output_type": "stream",
     "text": [
      "                   all        0.8          1\n"
     ]
    },
    {
     "name": "stderr",
     "output_type": "stream",
     "text": [
      "\n"
     ]
    },
    {
     "name": "stdout",
     "output_type": "stream",
     "text": [
      "\n",
      "      Epoch    GPU_mem       loss  Instances       Size\n"
     ]
    },
    {
     "name": "stderr",
     "output_type": "stream",
     "text": [
      "      27/50         0G    0.06713          4        352: 100%|██████████| 53/53 [04:57<00:00,  5.60s/it]\n",
      "               classes   top1_acc   top5_acc: 100%|██████████| 2/2 [00:13<00:00,  6.67s/it]"
     ]
    },
    {
     "name": "stdout",
     "output_type": "stream",
     "text": [
      "                   all        0.7          1\n"
     ]
    },
    {
     "name": "stderr",
     "output_type": "stream",
     "text": [
      "\n"
     ]
    },
    {
     "name": "stdout",
     "output_type": "stream",
     "text": [
      "\n",
      "      Epoch    GPU_mem       loss  Instances       Size\n"
     ]
    },
    {
     "name": "stderr",
     "output_type": "stream",
     "text": [
      "      28/50         0G    0.05565          4        352: 100%|██████████| 53/53 [04:07<00:00,  4.67s/it]\n",
      "               classes   top1_acc   top5_acc: 100%|██████████| 2/2 [00:10<00:00,  5.42s/it]"
     ]
    },
    {
     "name": "stdout",
     "output_type": "stream",
     "text": [
      "                   all       0.74          1\n"
     ]
    },
    {
     "name": "stderr",
     "output_type": "stream",
     "text": [
      "\n"
     ]
    },
    {
     "name": "stdout",
     "output_type": "stream",
     "text": [
      "\n",
      "      Epoch    GPU_mem       loss  Instances       Size\n"
     ]
    },
    {
     "name": "stderr",
     "output_type": "stream",
     "text": [
      "      29/50         0G    0.06935          4        352: 100%|██████████| 53/53 [04:16<00:00,  4.84s/it]\n",
      "               classes   top1_acc   top5_acc: 100%|██████████| 2/2 [00:21<00:00, 10.90s/it]"
     ]
    },
    {
     "name": "stdout",
     "output_type": "stream",
     "text": [
      "                   all       0.76          1\n"
     ]
    },
    {
     "name": "stderr",
     "output_type": "stream",
     "text": [
      "\n"
     ]
    },
    {
     "name": "stdout",
     "output_type": "stream",
     "text": [
      "\n",
      "      Epoch    GPU_mem       loss  Instances       Size\n"
     ]
    },
    {
     "name": "stderr",
     "output_type": "stream",
     "text": [
      "      30/50         0G    0.06121          4        352: 100%|██████████| 53/53 [05:36<00:00,  6.34s/it]\n",
      "               classes   top1_acc   top5_acc: 100%|██████████| 2/2 [00:10<00:00,  5.33s/it]"
     ]
    },
    {
     "name": "stdout",
     "output_type": "stream",
     "text": [
      "                   all       0.68          1\n"
     ]
    },
    {
     "name": "stderr",
     "output_type": "stream",
     "text": [
      "\n"
     ]
    },
    {
     "name": "stdout",
     "output_type": "stream",
     "text": [
      "\n",
      "      Epoch    GPU_mem       loss  Instances       Size\n"
     ]
    },
    {
     "name": "stderr",
     "output_type": "stream",
     "text": [
      "      31/50         0G    0.04919          4        352: 100%|██████████| 53/53 [04:24<00:00,  4.99s/it]\n",
      "               classes   top1_acc   top5_acc: 100%|██████████| 2/2 [00:10<00:00,  5.15s/it]"
     ]
    },
    {
     "name": "stdout",
     "output_type": "stream",
     "text": [
      "                   all       0.74          1\n"
     ]
    },
    {
     "name": "stderr",
     "output_type": "stream",
     "text": [
      "\n"
     ]
    },
    {
     "name": "stdout",
     "output_type": "stream",
     "text": [
      "\n",
      "      Epoch    GPU_mem       loss  Instances       Size\n"
     ]
    },
    {
     "name": "stderr",
     "output_type": "stream",
     "text": [
      "      32/50         0G    0.06606          4        352: 100%|██████████| 53/53 [04:03<00:00,  4.59s/it]\n",
      "               classes   top1_acc   top5_acc: 100%|██████████| 2/2 [00:11<00:00,  5.96s/it]"
     ]
    },
    {
     "name": "stdout",
     "output_type": "stream",
     "text": [
      "                   all       0.74          1\n"
     ]
    },
    {
     "name": "stderr",
     "output_type": "stream",
     "text": [
      "\n"
     ]
    },
    {
     "name": "stdout",
     "output_type": "stream",
     "text": [
      "\n",
      "      Epoch    GPU_mem       loss  Instances       Size\n"
     ]
    },
    {
     "name": "stderr",
     "output_type": "stream",
     "text": [
      "      33/50         0G    0.05051          4        352: 100%|██████████| 53/53 [04:33<00:00,  5.17s/it]\n",
      "               classes   top1_acc   top5_acc: 100%|██████████| 2/2 [00:11<00:00,  5.83s/it]"
     ]
    },
    {
     "name": "stdout",
     "output_type": "stream",
     "text": [
      "                   all       0.72          1\n"
     ]
    },
    {
     "name": "stderr",
     "output_type": "stream",
     "text": [
      "\n"
     ]
    },
    {
     "name": "stdout",
     "output_type": "stream",
     "text": [
      "\n",
      "      Epoch    GPU_mem       loss  Instances       Size\n"
     ]
    },
    {
     "name": "stderr",
     "output_type": "stream",
     "text": [
      "      34/50         0G    0.03791          4        352: 100%|██████████| 53/53 [04:08<00:00,  4.68s/it]\n",
      "               classes   top1_acc   top5_acc: 100%|██████████| 2/2 [00:11<00:00,  5.77s/it]"
     ]
    },
    {
     "name": "stdout",
     "output_type": "stream",
     "text": [
      "                   all       0.78          1\n"
     ]
    },
    {
     "name": "stderr",
     "output_type": "stream",
     "text": [
      "\n"
     ]
    },
    {
     "name": "stdout",
     "output_type": "stream",
     "text": [
      "\n",
      "      Epoch    GPU_mem       loss  Instances       Size\n"
     ]
    },
    {
     "name": "stderr",
     "output_type": "stream",
     "text": [
      "      35/50         0G    0.03844          4        352: 100%|██████████| 53/53 [04:21<00:00,  4.93s/it]\n",
      "               classes   top1_acc   top5_acc: 100%|██████████| 2/2 [00:10<00:00,  5.17s/it]"
     ]
    },
    {
     "name": "stdout",
     "output_type": "stream",
     "text": [
      "                   all       0.76          1\n"
     ]
    },
    {
     "name": "stderr",
     "output_type": "stream",
     "text": [
      "\n"
     ]
    },
    {
     "name": "stdout",
     "output_type": "stream",
     "text": [
      "\n",
      "      Epoch    GPU_mem       loss  Instances       Size\n"
     ]
    },
    {
     "name": "stderr",
     "output_type": "stream",
     "text": [
      "      36/50         0G     0.0387          4        352: 100%|██████████| 53/53 [03:46<00:00,  4.27s/it]\n",
      "               classes   top1_acc   top5_acc: 100%|██████████| 2/2 [00:09<00:00,  4.84s/it]"
     ]
    },
    {
     "name": "stdout",
     "output_type": "stream",
     "text": [
      "                   all       0.72          1\n"
     ]
    },
    {
     "name": "stderr",
     "output_type": "stream",
     "text": [
      "\n"
     ]
    },
    {
     "name": "stdout",
     "output_type": "stream",
     "text": [
      "\n",
      "      Epoch    GPU_mem       loss  Instances       Size\n"
     ]
    },
    {
     "name": "stderr",
     "output_type": "stream",
     "text": [
      "      37/50         0G    0.04487          4        352: 100%|██████████| 53/53 [04:12<00:00,  4.76s/it]\n",
      "               classes   top1_acc   top5_acc: 100%|██████████| 2/2 [00:11<00:00,  5.71s/it]"
     ]
    },
    {
     "name": "stdout",
     "output_type": "stream",
     "text": [
      "                   all       0.72          1\n"
     ]
    },
    {
     "name": "stderr",
     "output_type": "stream",
     "text": [
      "\n"
     ]
    },
    {
     "name": "stdout",
     "output_type": "stream",
     "text": [
      "\n",
      "      Epoch    GPU_mem       loss  Instances       Size\n"
     ]
    },
    {
     "name": "stderr",
     "output_type": "stream",
     "text": [
      "      38/50         0G    0.03282          4        352: 100%|██████████| 53/53 [04:13<00:00,  4.77s/it]\n",
      "               classes   top1_acc   top5_acc: 100%|██████████| 2/2 [00:09<00:00,  4.97s/it]"
     ]
    },
    {
     "name": "stdout",
     "output_type": "stream",
     "text": [
      "                   all       0.76          1\n"
     ]
    },
    {
     "name": "stderr",
     "output_type": "stream",
     "text": [
      "\n"
     ]
    },
    {
     "name": "stdout",
     "output_type": "stream",
     "text": [
      "\n",
      "      Epoch    GPU_mem       loss  Instances       Size\n"
     ]
    },
    {
     "name": "stderr",
     "output_type": "stream",
     "text": [
      "      39/50         0G    0.02811          4        352: 100%|██████████| 53/53 [04:15<00:00,  4.82s/it]\n",
      "               classes   top1_acc   top5_acc: 100%|██████████| 2/2 [00:11<00:00,  5.51s/it]"
     ]
    },
    {
     "name": "stdout",
     "output_type": "stream",
     "text": [
      "                   all       0.74          1\n"
     ]
    },
    {
     "name": "stderr",
     "output_type": "stream",
     "text": [
      "\n"
     ]
    },
    {
     "name": "stdout",
     "output_type": "stream",
     "text": [
      "\n",
      "      Epoch    GPU_mem       loss  Instances       Size\n"
     ]
    },
    {
     "name": "stderr",
     "output_type": "stream",
     "text": [
      "      40/50         0G    0.02854          4        352: 100%|██████████| 53/53 [04:28<00:00,  5.07s/it]\n",
      "               classes   top1_acc   top5_acc: 100%|██████████| 2/2 [00:10<00:00,  5.47s/it]"
     ]
    },
    {
     "name": "stdout",
     "output_type": "stream",
     "text": [
      "                   all       0.74          1\n"
     ]
    },
    {
     "name": "stderr",
     "output_type": "stream",
     "text": [
      "\n"
     ]
    },
    {
     "name": "stdout",
     "output_type": "stream",
     "text": [
      "\n",
      "      Epoch    GPU_mem       loss  Instances       Size\n"
     ]
    },
    {
     "name": "stderr",
     "output_type": "stream",
     "text": [
      "c:\\Users\\adelgado\\AppData\\Local\\Programs\\Python\\Python312\\Lib\\site-packages\\torch\\utils\\data\\dataloader.py:665: UserWarning: 'pin_memory' argument is set as true but no accelerator is found, then device pinned memory won't be used.\n",
      "  warnings.warn(warn_msg)\n",
      "      41/50         0G    0.03649          4        352: 100%|██████████| 53/53 [04:44<00:00,  5.36s/it]\n",
      "               classes   top1_acc   top5_acc: 100%|██████████| 2/2 [00:11<00:00,  5.98s/it]"
     ]
    },
    {
     "name": "stdout",
     "output_type": "stream",
     "text": [
      "                   all       0.74          1\n"
     ]
    },
    {
     "name": "stderr",
     "output_type": "stream",
     "text": [
      "\n"
     ]
    },
    {
     "name": "stdout",
     "output_type": "stream",
     "text": [
      "\n",
      "      Epoch    GPU_mem       loss  Instances       Size\n"
     ]
    },
    {
     "name": "stderr",
     "output_type": "stream",
     "text": [
      "      42/50         0G    0.02139          4        352: 100%|██████████| 53/53 [04:25<00:00,  5.00s/it]\n",
      "               classes   top1_acc   top5_acc: 100%|██████████| 2/2 [00:11<00:00,  5.88s/it]"
     ]
    },
    {
     "name": "stdout",
     "output_type": "stream",
     "text": [
      "                   all       0.72          1\n"
     ]
    },
    {
     "name": "stderr",
     "output_type": "stream",
     "text": [
      "\n"
     ]
    },
    {
     "name": "stdout",
     "output_type": "stream",
     "text": [
      "\n",
      "      Epoch    GPU_mem       loss  Instances       Size\n"
     ]
    },
    {
     "name": "stderr",
     "output_type": "stream",
     "text": [
      "      43/50         0G    0.03476          4        352: 100%|██████████| 53/53 [04:13<00:00,  4.79s/it]\n",
      "               classes   top1_acc   top5_acc: 100%|██████████| 2/2 [00:13<00:00,  6.70s/it]"
     ]
    },
    {
     "name": "stdout",
     "output_type": "stream",
     "text": [
      "                   all       0.74          1\n"
     ]
    },
    {
     "name": "stderr",
     "output_type": "stream",
     "text": [
      "\n"
     ]
    },
    {
     "name": "stdout",
     "output_type": "stream",
     "text": [
      "\n",
      "      Epoch    GPU_mem       loss  Instances       Size\n"
     ]
    },
    {
     "name": "stderr",
     "output_type": "stream",
     "text": [
      "      44/50         0G    0.02529          4        352: 100%|██████████| 53/53 [04:43<00:00,  5.35s/it]\n",
      "               classes   top1_acc   top5_acc: 100%|██████████| 2/2 [00:15<00:00,  7.65s/it]"
     ]
    },
    {
     "name": "stdout",
     "output_type": "stream",
     "text": [
      "                   all       0.76          1\n"
     ]
    },
    {
     "name": "stderr",
     "output_type": "stream",
     "text": [
      "\n"
     ]
    },
    {
     "name": "stdout",
     "output_type": "stream",
     "text": [
      "\n",
      "      Epoch    GPU_mem       loss  Instances       Size\n"
     ]
    },
    {
     "name": "stderr",
     "output_type": "stream",
     "text": [
      "      45/50         0G    0.02743          4        352: 100%|██████████| 53/53 [04:46<00:00,  5.41s/it]\n",
      "               classes   top1_acc   top5_acc: 100%|██████████| 2/2 [00:11<00:00,  5.99s/it]"
     ]
    },
    {
     "name": "stdout",
     "output_type": "stream",
     "text": [
      "                   all       0.72          1\n"
     ]
    },
    {
     "name": "stderr",
     "output_type": "stream",
     "text": [
      "\n"
     ]
    },
    {
     "name": "stdout",
     "output_type": "stream",
     "text": [
      "\n",
      "      Epoch    GPU_mem       loss  Instances       Size\n"
     ]
    },
    {
     "name": "stderr",
     "output_type": "stream",
     "text": [
      "      46/50         0G    0.04522          4        352: 100%|██████████| 53/53 [04:38<00:00,  5.26s/it]\n",
      "               classes   top1_acc   top5_acc: 100%|██████████| 2/2 [00:13<00:00,  6.74s/it]"
     ]
    },
    {
     "name": "stdout",
     "output_type": "stream",
     "text": [
      "                   all       0.74          1\n"
     ]
    },
    {
     "name": "stderr",
     "output_type": "stream",
     "text": [
      "\n"
     ]
    },
    {
     "name": "stdout",
     "output_type": "stream",
     "text": [
      "\n",
      "      Epoch    GPU_mem       loss  Instances       Size\n"
     ]
    },
    {
     "name": "stderr",
     "output_type": "stream",
     "text": [
      "      47/50         0G    0.03653          4        352: 100%|██████████| 53/53 [04:43<00:00,  5.34s/it]\n",
      "               classes   top1_acc   top5_acc: 100%|██████████| 2/2 [00:11<00:00,  5.90s/it]"
     ]
    },
    {
     "name": "stdout",
     "output_type": "stream",
     "text": [
      "                   all       0.76          1\n"
     ]
    },
    {
     "name": "stderr",
     "output_type": "stream",
     "text": [
      "\n"
     ]
    },
    {
     "name": "stdout",
     "output_type": "stream",
     "text": [
      "\n",
      "      Epoch    GPU_mem       loss  Instances       Size\n"
     ]
    },
    {
     "name": "stderr",
     "output_type": "stream",
     "text": [
      "      48/50         0G    0.02511          4        352: 100%|██████████| 53/53 [05:11<00:00,  5.89s/it]\n",
      "               classes   top1_acc   top5_acc: 100%|██████████| 2/2 [00:33<00:00, 16.88s/it]"
     ]
    },
    {
     "name": "stdout",
     "output_type": "stream",
     "text": [
      "                   all       0.76          1\n"
     ]
    },
    {
     "name": "stderr",
     "output_type": "stream",
     "text": [
      "\n"
     ]
    },
    {
     "name": "stdout",
     "output_type": "stream",
     "text": [
      "\n",
      "      Epoch    GPU_mem       loss  Instances       Size\n"
     ]
    },
    {
     "name": "stderr",
     "output_type": "stream",
     "text": [
      "      49/50         0G    0.01851          4        352: 100%|██████████| 53/53 [09:03<00:00, 10.25s/it]\n",
      "               classes   top1_acc   top5_acc: 100%|██████████| 2/2 [00:16<00:00,  8.12s/it]"
     ]
    },
    {
     "name": "stdout",
     "output_type": "stream",
     "text": [
      "                   all       0.74          1\n"
     ]
    },
    {
     "name": "stderr",
     "output_type": "stream",
     "text": [
      "\n"
     ]
    },
    {
     "name": "stdout",
     "output_type": "stream",
     "text": [
      "\n",
      "      Epoch    GPU_mem       loss  Instances       Size\n"
     ]
    },
    {
     "name": "stderr",
     "output_type": "stream",
     "text": [
      "      50/50         0G    0.03926          4        352: 100%|██████████| 53/53 [08:54<00:00, 10.09s/it]\n",
      "               classes   top1_acc   top5_acc: 100%|██████████| 2/2 [00:11<00:00,  5.58s/it]"
     ]
    },
    {
     "name": "stdout",
     "output_type": "stream",
     "text": [
      "                   all       0.74          1\n"
     ]
    },
    {
     "name": "stderr",
     "output_type": "stream",
     "text": [
      "\n"
     ]
    },
    {
     "name": "stdout",
     "output_type": "stream",
     "text": [
      "\n",
      "50 epochs completed in 3.907 hours.\n",
      "Optimizer stripped from runs\\classify\\train\\weights\\last.pt, 3.0MB\n",
      "Optimizer stripped from runs\\classify\\train\\weights\\best.pt, 3.0MB\n",
      "\n",
      "Validating runs\\classify\\train\\weights\\best.pt...\n",
      "Ultralytics 8.3.140  Python-3.12.10 torch-2.7.0+cpu CPU (Intel Core(TM) i7-10610U 1.80GHz)\n",
      "YOLOv8n-cls summary (fused): 30 layers, 1,438,723 parameters, 0 gradients\n",
      "\u001b[34m\u001b[1mtrain:\u001b[0m C:\\Users\\adelgado\\Documents\\Personal\\Universidad\\ML\\Proyecto\\Data\\train... found 836 images in 3 classes  \n",
      "\u001b[34m\u001b[1mval:\u001b[0m C:\\Users\\adelgado\\Documents\\Personal\\Universidad\\ML\\Proyecto\\Data\\val... found 50 images in 3 classes  \n",
      "\u001b[34m\u001b[1mtest:\u001b[0m None...\n"
     ]
    },
    {
     "name": "stderr",
     "output_type": "stream",
     "text": [
      "               classes   top1_acc   top5_acc: 100%|██████████| 2/2 [00:12<00:00,  6.46s/it]\n"
     ]
    },
    {
     "name": "stdout",
     "output_type": "stream",
     "text": [
      "                   all        0.8          1\n",
      "Speed: 0.0ms preprocess, 23.6ms inference, 0.0ms loss, 0.0ms postprocess per image\n",
      "Results saved to \u001b[1mruns\\classify\\train\u001b[0m\n"
     ]
    },
    {
     "data": {
      "text/plain": [
       "ultralytics.utils.metrics.ClassifyMetrics object with attributes:\n",
       "\n",
       "confusion_matrix: <ultralytics.utils.metrics.ConfusionMatrix object at 0x000001DDA52ED820>\n",
       "curves: []\n",
       "curves_results: []\n",
       "fitness: 0.9000000059604645\n",
       "keys: ['metrics/accuracy_top1', 'metrics/accuracy_top5']\n",
       "results_dict: {'metrics/accuracy_top1': 0.800000011920929, 'metrics/accuracy_top5': 1.0, 'fitness': 0.9000000059604645}\n",
       "save_dir: WindowsPath('runs/classify/train')\n",
       "speed: {'preprocess': 0.0014539999392582104, 'inference': 23.630429999975604, 'loss': 7.199996616691351e-05, 'postprocess': 0.000351999988197349}\n",
       "task: 'classify'\n",
       "top1: 0.800000011920929\n",
       "top5: 1.0"
      ]
     },
     "execution_count": 33,
     "metadata": {},
     "output_type": "execute_result"
    }
   ],
   "source": [
    "model.train(data = pathAll, epochs=50, imgsz=img_height,batch=16, patience=0, augment=False)"
   ]
  },
  {
   "cell_type": "code",
   "execution_count": 35,
   "id": "d42526d0",
   "metadata": {},
   "outputs": [
    {
     "name": "stdout",
     "output_type": "stream",
     "text": [
      "Ultralytics 8.3.140  Python-3.12.10 torch-2.7.0+cpu CPU (Intel Core(TM) i7-10610U 1.80GHz)\n",
      "\u001b[34m\u001b[1mtrain:\u001b[0m C:\\Users\\adelgado\\Documents\\Personal\\Universidad\\ML\\Proyecto\\Data\\train... found 836 images in 3 classes  \n",
      "\u001b[34m\u001b[1mval:\u001b[0m C:\\Users\\adelgado\\Documents\\Personal\\Universidad\\ML\\Proyecto\\Data\\val... found 50 images in 3 classes  \n",
      "\u001b[34m\u001b[1mtest:\u001b[0m None...\n",
      "\u001b[34m\u001b[1mval: \u001b[0mFast image access  (ping: 1.21.8 ms, read: 431.0287.6 MB/s, size: 2027.1 KB)\n"
     ]
    },
    {
     "name": "stderr",
     "output_type": "stream",
     "text": [
      "\u001b[34m\u001b[1mval: \u001b[0mScanning C:\\Users\\adelgado\\Documents\\Personal\\Universidad\\ML\\Proyecto\\Data\\val... 50 images, 0 corrupt: 100%|██████████| 50/50 [00:00<?, ?it/s]"
     ]
    },
    {
     "name": "stdout",
     "output_type": "stream",
     "text": [
      "\u001b[34m\u001b[1mval: \u001b[0mC:\\Users\\adelgado\\Documents\\Personal\\Universidad\\ML\\Proyecto\\Data\\val\\Grietas_Fisuras\\58144_1730459084180.jpg: corrupt JPEG restored and saved\n",
      "\u001b[34m\u001b[1mval: \u001b[0mC:\\Users\\adelgado\\Documents\\Personal\\Universidad\\ML\\Proyecto\\Data\\val\\Grietas_Fisuras\\58144_1730459102186.jpg: corrupt JPEG restored and saved\n",
      "\u001b[34m\u001b[1mval: \u001b[0mC:\\Users\\adelgado\\Documents\\Personal\\Universidad\\ML\\Proyecto\\Data\\val\\Hormiguero\\52202_1722428841887.jpg: corrupt JPEG restored and saved\n",
      "\u001b[34m\u001b[1mval: \u001b[0mC:\\Users\\adelgado\\Documents\\Personal\\Universidad\\ML\\Proyecto\\Data\\val\\Hormiguero\\52202_1722428902223.jpg: corrupt JPEG restored and saved\n",
      "\u001b[34m\u001b[1mval: \u001b[0mC:\\Users\\adelgado\\Documents\\Personal\\Universidad\\ML\\Proyecto\\Data\\val\\Hormiguero\\52202_1722428928960.jpg: corrupt JPEG restored and saved\n"
     ]
    },
    {
     "name": "stderr",
     "output_type": "stream",
     "text": [
      "\n",
      "c:\\Users\\adelgado\\AppData\\Local\\Programs\\Python\\Python312\\Lib\\site-packages\\torch\\utils\\data\\dataloader.py:665: UserWarning: 'pin_memory' argument is set as true but no accelerator is found, then device pinned memory won't be used.\n",
      "  warnings.warn(warn_msg)\n",
      "               classes   top1_acc   top5_acc: 100%|██████████| 4/4 [00:15<00:00,  3.77s/it]\n"
     ]
    },
    {
     "name": "stdout",
     "output_type": "stream",
     "text": [
      "                   all        0.8          1\n",
      "Speed: 0.0ms preprocess, 30.7ms inference, 0.0ms loss, 0.0ms postprocess per image\n",
      "Results saved to \u001b[1mruns\\classify\\train3\u001b[0m\n"
     ]
    }
   ],
   "source": [
    "m = model.val()"
   ]
  },
  {
   "cell_type": "code",
   "execution_count": 54,
   "id": "dbc66992",
   "metadata": {},
   "outputs": [
    {
     "name": "stdout",
     "output_type": "stream",
     "text": [
      "\n",
      "image 1/1 C:\\Users\\adelgado\\Documents\\Personal\\Universidad\\ML\\Proyecto\\Data\\train\\Acero_expuesto\\10319_WhatsApp Image 2021-11-24 at 6.26.54 PM (1).jpeg: 352x352 Acero_expuesto 1.00, Hormiguero 0.00, Grietas_Fisuras 0.00, 71.8ms\n",
      "Speed: 39.5ms preprocess, 71.8ms inference, 0.1ms postprocess per image at shape (1, 3, 352, 352)\n"
     ]
    }
   ],
   "source": [
    "model = YOLO(\"C:/Users/adelgado/Documents/Personal/Universidad/ML/Proyecto/runs/classify/train/weights/best.pt\")\n",
    "resultados = model(\"C:/Users/adelgado/Documents/Personal/Universidad/ML/Proyecto/Data/train/Acero_expuesto/10319_WhatsApp Image 2021-11-24 at 6.26.54 PM (1).jpeg\")"
   ]
  },
  {
   "cell_type": "code",
   "execution_count": 57,
   "id": "b22a8b80",
   "metadata": {},
   "outputs": [
    {
     "data": {
      "text/plain": [
       "[0.9999762773513794, 8.032684517544908e-10, 2.368110654060729e-05]"
      ]
     },
     "execution_count": 57,
     "metadata": {},
     "output_type": "execute_result"
    }
   ],
   "source": [
    "resultados[0].probs.data.tolist()"
   ]
  },
  {
   "cell_type": "code",
   "execution_count": 58,
   "id": "08957afe",
   "metadata": {},
   "outputs": [
    {
     "name": "stdout",
     "output_type": "stream",
     "text": [
      "Ultralytics 8.3.140  Python-3.12.10 torch-2.7.0+cpu CPU (Intel Core(TM) i7-10610U 1.80GHz)\n",
      "\u001b[34m\u001b[1mtrain:\u001b[0m C:\\Users\\adelgado\\Documents\\Personal\\Universidad\\ML\\Proyecto\\Data\\train... found 836 images in 3 classes  \n",
      "\u001b[34m\u001b[1mval:\u001b[0m C:\\Users\\adelgado\\Documents\\Personal\\Universidad\\ML\\Proyecto\\Data\\val... found 50 images in 3 classes  \n",
      "\u001b[34m\u001b[1mtest:\u001b[0m None...\n",
      "\u001b[34m\u001b[1mval: \u001b[0mFast image access  (ping: 3.94.9 ms, read: 326.4320.3 MB/s, size: 2027.1 KB)\n"
     ]
    },
    {
     "name": "stderr",
     "output_type": "stream",
     "text": [
      "\u001b[34m\u001b[1mval: \u001b[0mScanning C:\\Users\\adelgado\\Documents\\Personal\\Universidad\\ML\\Proyecto\\Data\\val... 50 images, 0 corrupt: 100%|██████████| 50/50 [00:00<?, ?it/s]"
     ]
    },
    {
     "name": "stdout",
     "output_type": "stream",
     "text": [
      "\u001b[34m\u001b[1mval: \u001b[0mC:\\Users\\adelgado\\Documents\\Personal\\Universidad\\ML\\Proyecto\\Data\\val\\Grietas_Fisuras\\58144_1730459084180.jpg: corrupt JPEG restored and saved\n",
      "\u001b[34m\u001b[1mval: \u001b[0mC:\\Users\\adelgado\\Documents\\Personal\\Universidad\\ML\\Proyecto\\Data\\val\\Grietas_Fisuras\\58144_1730459102186.jpg: corrupt JPEG restored and saved\n",
      "\u001b[34m\u001b[1mval: \u001b[0mC:\\Users\\adelgado\\Documents\\Personal\\Universidad\\ML\\Proyecto\\Data\\val\\Hormiguero\\52202_1722428841887.jpg: corrupt JPEG restored and saved\n",
      "\u001b[34m\u001b[1mval: \u001b[0mC:\\Users\\adelgado\\Documents\\Personal\\Universidad\\ML\\Proyecto\\Data\\val\\Hormiguero\\52202_1722428902223.jpg: corrupt JPEG restored and saved\n",
      "\u001b[34m\u001b[1mval: \u001b[0mC:\\Users\\adelgado\\Documents\\Personal\\Universidad\\ML\\Proyecto\\Data\\val\\Hormiguero\\52202_1722428928960.jpg: corrupt JPEG restored and saved\n"
     ]
    },
    {
     "name": "stderr",
     "output_type": "stream",
     "text": [
      "\n",
      "c:\\Users\\adelgado\\AppData\\Local\\Programs\\Python\\Python312\\Lib\\site-packages\\torch\\utils\\data\\dataloader.py:665: UserWarning: 'pin_memory' argument is set as true but no accelerator is found, then device pinned memory won't be used.\n",
      "  warnings.warn(warn_msg)\n",
      "               classes   top1_acc   top5_acc: 100%|██████████| 4/4 [00:20<00:00,  5.06s/it]\n"
     ]
    },
    {
     "name": "stdout",
     "output_type": "stream",
     "text": [
      "                   all        0.8          1\n",
      "Speed: 0.0ms preprocess, 56.5ms inference, 0.0ms loss, 0.0ms postprocess per image\n",
      "Results saved to \u001b[1mruns\\classify\\val2\u001b[0m\n"
     ]
    }
   ],
   "source": [
    "# Métricas del modelo\n",
    "metrics = model.val() \n",
    "results = model.metrics\n"
   ]
  },
  {
   "cell_type": "code",
   "execution_count": 59,
   "id": "4f4642d7",
   "metadata": {},
   "outputs": [
    {
     "data": {
      "text/plain": [
       "ultralytics.utils.metrics.ClassifyMetrics object with attributes:\n",
       "\n",
       "confusion_matrix: <ultralytics.utils.metrics.ConfusionMatrix object at 0x000001DD9042FD40>\n",
       "curves: []\n",
       "curves_results: []\n",
       "fitness: 0.9000000059604645\n",
       "keys: ['metrics/accuracy_top1', 'metrics/accuracy_top5']\n",
       "results_dict: {'metrics/accuracy_top1': 0.800000011920929, 'metrics/accuracy_top5': 1.0, 'fitness': 0.9000000059604645}\n",
       "save_dir: WindowsPath('runs/classify/val2')\n",
       "speed: {'preprocess': 0.002626000059535727, 'inference': 56.49572000002081, 'loss': 0.00015600002370774746, 'postprocess': 0.0006580000626854599}\n",
       "task: 'classify'\n",
       "top1: 0.800000011920929\n",
       "top5: 1.0"
      ]
     },
     "execution_count": 59,
     "metadata": {},
     "output_type": "execute_result"
    }
   ],
   "source": [
    "results"
   ]
  },
  {
   "cell_type": "code",
   "execution_count": 73,
   "id": "351f0ebc",
   "metadata": {},
   "outputs": [
    {
     "name": "stdout",
     "output_type": "stream",
     "text": [
      "Ultralytics 8.3.140  Python-3.12.10 torch-2.7.0+cpu CPU (Intel Core(TM) i7-10610U 1.80GHz)\n",
      "\n",
      "\u001b[34m\u001b[1mPyTorch:\u001b[0m starting from 'C:\\Users\\adelgado\\Documents\\Personal\\Universidad\\ML\\Proyecto\\runs\\classify\\train\\weights\\best.pt' with input shape (1, 3, 352, 352) BCHW and output shape(s) (1, 3) (2.8 MB)\n",
      "\n",
      "\u001b[34m\u001b[1mTorchScript:\u001b[0m starting export with torch 2.7.0+cpu...\n",
      "\u001b[34m\u001b[1mTorchScript:\u001b[0m export success  1.7s, saved as 'C:\\Users\\adelgado\\Documents\\Personal\\Universidad\\ML\\Proyecto\\runs\\classify\\train\\weights\\best.torchscript' (5.6 MB)\n",
      "\n",
      "Export complete (1.9s)\n",
      "Results saved to \u001b[1mC:\\Users\\adelgado\\Documents\\Personal\\Universidad\\ML\\Proyecto\\runs\\classify\\train\\weights\u001b[0m\n",
      "Predict:         yolo predict task=classify model=C:\\Users\\adelgado\\Documents\\Personal\\Universidad\\ML\\Proyecto\\runs\\classify\\train\\weights\\best.torchscript imgsz=352  \n",
      "Validate:        yolo val task=classify model=C:\\Users\\adelgado\\Documents\\Personal\\Universidad\\ML\\Proyecto\\runs\\classify\\train\\weights\\best.torchscript imgsz=352 data=/Users/adelgado/Documents/Personal/Universidad/ML/Proyecto/Data  \n",
      "Visualize:       https://netron.app\n"
     ]
    },
    {
     "data": {
      "text/plain": [
       "'C:\\\\Users\\\\adelgado\\\\Documents\\\\Personal\\\\Universidad\\\\ML\\\\Proyecto\\\\runs\\\\classify\\\\train\\\\weights\\\\best.torchscript'"
      ]
     },
     "execution_count": 73,
     "metadata": {},
     "output_type": "execute_result"
    }
   ],
   "source": [
    "model.export(format='torchscript')"
   ]
  },
  {
   "cell_type": "code",
   "execution_count": 75,
   "id": "7fb94bd1",
   "metadata": {},
   "outputs": [
    {
     "name": "stdout",
     "output_type": "stream",
     "text": [
      "\u001b[34m\u001b[1mTuner: \u001b[0mInitialized Tuner instance with 'tune_dir=runs\\classify\\tune2'\n",
      "\u001b[34m\u001b[1mTuner: \u001b[0m Learn about tuning at https://docs.ultralytics.com/guides/hyperparameter-tuning\n",
      "\u001b[34m\u001b[1mTuner: \u001b[0mStarting iteration 1/30 with hyperparameters: {'lr0': 0.01, 'lrf': 0.01, 'momentum': 0.937, 'weight_decay': 0.0005, 'warmup_epochs': 3.0, 'warmup_momentum': 0.8, 'box': 7.5, 'cls': 0.5, 'dfl': 1.5, 'hsv_h': 0.015, 'hsv_s': 0.7, 'hsv_v': 0.4, 'degrees': 0.0, 'translate': 0.1, 'scale': 0.5, 'shear': 0.0, 'perspective': 0.0, 'flipud': 0.0, 'fliplr': 0.5, 'bgr': 0.0, 'mosaic': 1.0, 'mixup': 0.0, 'cutmix': 0.0, 'copy_paste': 0.0}\n",
      "ERROR training failure for hyperparameter tuning iteration 1\n",
      "Command '['c:\\\\Users\\\\adelgado\\\\AppData\\\\Local\\\\Programs\\\\Python\\\\Python312\\\\python.exe', '-m', 'ultralytics.cfg.__init__', 'train', 'task=classify', 'mode=train', 'model=C:/Users/adelgado/Documents/Personal/Universidad/ML/Proyecto/runs/classify/train/weights/best.pt', 'data=/Users/adelgado/Documents/Personal/Universidad/ML/Proyecto/Data', 'epochs=30', 'time=None', 'patience=100', 'batch=16', 'imgsz=352', 'save=True', 'save_period=-1', 'cache=False', 'device=None', 'workers=8', 'project=None', 'name=None', 'exist_ok=False', 'pretrained=True', 'optimizer=AdamW', 'verbose=True', 'seed=0', 'deterministic=True', 'single_cls=False', 'rect=False', 'cos_lr=False', 'close_mosaic=10', 'resume=False', 'amp=True', 'fraction=1.0', 'profile=False', 'freeze=None', 'multi_scale=False', 'overlap_mask=True', 'mask_ratio=4', 'dropout=0.0', 'val=True', 'split=val', 'save_json=False', 'conf=None', 'iou=0.7', 'max_det=300', 'half=False', 'dnn=False', 'plots=True', 'source=None', 'vid_stride=1', 'stream_buffer=False', 'visualize=False', 'augment=False', 'agnostic_nms=False', 'classes=None', 'retina_masks=False', 'embed=None', 'show=False', 'save_frames=False', 'save_txt=False', 'save_conf=False', 'save_crop=False', 'show_labels=True', 'show_conf=True', 'show_boxes=True', 'line_width=None', 'format=torchscript', 'keras=False', 'optimize=False', 'int8=False', 'dynamic=False', 'simplify=True', 'opset=None', 'workspace=None', 'nms=False', 'lr0=0.01', 'lrf=0.01', 'momentum=0.937', 'weight_decay=0.0005', 'warmup_epochs=3.0', 'warmup_momentum=0.8', 'warmup_bias_lr=0.1', 'box=7.5', 'cls=0.5', 'dfl=1.5', 'pose=12.0', 'kobj=1.0', 'nbs=64', 'hsv_h=0.015', 'hsv_s=0.7', 'hsv_v=0.4', 'degrees=0.0', 'translate=0.1', 'scale=0.5', 'shear=0.0', 'perspective=0.0', 'flipud=0.0', 'fliplr=0.5', 'bgr=0.0', 'mosaic=1.0', 'mixup=0.0', 'cutmix=0.0', 'copy_paste=0.0', 'copy_paste_mode=flip', 'auto_augment=randaugment', 'erasing=0.4', 'cfg=None', 'tracker=botsort.yaml']' returned non-zero exit status 1.\n",
      "Saved runs\\classify\\tune2\\tune_scatter_plots.png\n",
      "Saved runs\\classify\\tune2\\tune_fitness.png\n",
      "\n",
      "\u001b[34m\u001b[1mTuner: \u001b[0m1/30 iterations complete  (6.57s)\n",
      "\u001b[34m\u001b[1mTuner: \u001b[0mResults saved to \u001b[1mruns\\classify\\tune2\u001b[0m\n",
      "\u001b[34m\u001b[1mTuner: \u001b[0mBest fitness=0.0 observed at iteration 1\n",
      "\u001b[34m\u001b[1mTuner: \u001b[0mBest fitness metrics are {}\n",
      "\u001b[34m\u001b[1mTuner: \u001b[0mBest fitness model is runs\\classify\\train4\n",
      "\u001b[34m\u001b[1mTuner: \u001b[0mBest fitness hyperparameters are printed below.\n",
      "\n",
      "Printing '\u001b[1m\u001b[30mruns\\classify\\tune2\\best_hyperparameters.yaml\u001b[0m'\n",
      "\n",
      "lr0: 0.01\n",
      "lrf: 0.01\n",
      "momentum: 0.937\n",
      "weight_decay: 0.0005\n",
      "warmup_epochs: 3.0\n",
      "warmup_momentum: 0.8\n",
      "box: 7.5\n",
      "cls: 0.5\n",
      "dfl: 1.5\n",
      "hsv_h: 0.015\n",
      "hsv_s: 0.7\n",
      "hsv_v: 0.4\n",
      "degrees: 0.0\n",
      "translate: 0.1\n",
      "scale: 0.5\n",
      "shear: 0.0\n",
      "perspective: 0.0\n",
      "flipud: 0.0\n",
      "fliplr: 0.5\n",
      "bgr: 0.0\n",
      "mosaic: 1.0\n",
      "mixup: 0.0\n",
      "cutmix: 0.0\n",
      "copy_paste: 0.0\n",
      "\n",
      "\u001b[34m\u001b[1mTuner: \u001b[0mStarting iteration 2/30 with hyperparameters: {'lr0': 0.01, 'lrf': 0.01, 'momentum': 0.91394, 'weight_decay': 0.00053, 'warmup_epochs': 3.14252, 'warmup_momentum': 0.73644, 'box': 7.26328, 'cls': 0.4298, 'dfl': 1.50155, 'hsv_h': 0.01474, 'hsv_s': 0.76364, 'hsv_v': 0.39739, 'degrees': 0.0, 'translate': 0.1, 'scale': 0.43626, 'shear': 0.0, 'perspective': 0.0, 'flipud': 0.0, 'fliplr': 0.54567, 'bgr': 0.0, 'mosaic': 1.0, 'mixup': 0.0, 'cutmix': 0.0, 'copy_paste': 0.0}\n",
      "ERROR training failure for hyperparameter tuning iteration 2\n",
      "Command '['c:\\\\Users\\\\adelgado\\\\AppData\\\\Local\\\\Programs\\\\Python\\\\Python312\\\\python.exe', '-m', 'ultralytics.cfg.__init__', 'train', 'task=classify', 'mode=train', 'model=C:/Users/adelgado/Documents/Personal/Universidad/ML/Proyecto/runs/classify/train/weights/best.pt', 'data=/Users/adelgado/Documents/Personal/Universidad/ML/Proyecto/Data', 'epochs=30', 'time=None', 'patience=100', 'batch=16', 'imgsz=352', 'save=True', 'save_period=-1', 'cache=False', 'device=None', 'workers=8', 'project=None', 'name=None', 'exist_ok=False', 'pretrained=True', 'optimizer=AdamW', 'verbose=True', 'seed=0', 'deterministic=True', 'single_cls=False', 'rect=False', 'cos_lr=False', 'close_mosaic=10', 'resume=False', 'amp=True', 'fraction=1.0', 'profile=False', 'freeze=None', 'multi_scale=False', 'overlap_mask=True', 'mask_ratio=4', 'dropout=0.0', 'val=True', 'split=val', 'save_json=False', 'conf=None', 'iou=0.7', 'max_det=300', 'half=False', 'dnn=False', 'plots=True', 'source=None', 'vid_stride=1', 'stream_buffer=False', 'visualize=False', 'augment=False', 'agnostic_nms=False', 'classes=None', 'retina_masks=False', 'embed=None', 'show=False', 'save_frames=False', 'save_txt=False', 'save_conf=False', 'save_crop=False', 'show_labels=True', 'show_conf=True', 'show_boxes=True', 'line_width=None', 'format=torchscript', 'keras=False', 'optimize=False', 'int8=False', 'dynamic=False', 'simplify=True', 'opset=None', 'workspace=None', 'nms=False', 'lr0=0.01', 'lrf=0.01', 'momentum=0.91394', 'weight_decay=0.00053', 'warmup_epochs=3.14252', 'warmup_momentum=0.73644', 'warmup_bias_lr=0.1', 'box=7.26328', 'cls=0.4298', 'dfl=1.50155', 'pose=12.0', 'kobj=1.0', 'nbs=64', 'hsv_h=0.01474', 'hsv_s=0.76364', 'hsv_v=0.39739', 'degrees=0.0', 'translate=0.1', 'scale=0.43626', 'shear=0.0', 'perspective=0.0', 'flipud=0.0', 'fliplr=0.54567', 'bgr=0.0', 'mosaic=1.0', 'mixup=0.0', 'cutmix=0.0', 'copy_paste=0.0', 'copy_paste_mode=flip', 'auto_augment=randaugment', 'erasing=0.4', 'cfg=None', 'tracker=botsort.yaml']' returned non-zero exit status 1.\n",
      "Saved runs\\classify\\tune2\\tune_scatter_plots.png\n",
      "Saved runs\\classify\\tune2\\tune_fitness.png\n",
      "\n",
      "\u001b[34m\u001b[1mTuner: \u001b[0m2/30 iterations complete  (13.75s)\n",
      "\u001b[34m\u001b[1mTuner: \u001b[0mResults saved to \u001b[1mruns\\classify\\tune2\u001b[0m\n",
      "\u001b[34m\u001b[1mTuner: \u001b[0mBest fitness=0.0 observed at iteration 1\n",
      "\u001b[34m\u001b[1mTuner: \u001b[0mBest fitness metrics are {}\n",
      "\u001b[34m\u001b[1mTuner: \u001b[0mBest fitness model is runs\\classify\\train4\n",
      "\u001b[34m\u001b[1mTuner: \u001b[0mBest fitness hyperparameters are printed below.\n",
      "\n",
      "Printing '\u001b[1m\u001b[30mruns\\classify\\tune2\\best_hyperparameters.yaml\u001b[0m'\n",
      "\n",
      "lr0: 0.01\n",
      "lrf: 0.01\n",
      "momentum: 0.937\n",
      "weight_decay: 0.0005\n",
      "warmup_epochs: 3.0\n",
      "warmup_momentum: 0.8\n",
      "box: 7.5\n",
      "cls: 0.5\n",
      "dfl: 1.5\n",
      "hsv_h: 0.015\n",
      "hsv_s: 0.7\n",
      "hsv_v: 0.4\n",
      "degrees: 0.0\n",
      "translate: 0.1\n",
      "scale: 0.5\n",
      "shear: 0.0\n",
      "perspective: 0.0\n",
      "flipud: 0.0\n",
      "fliplr: 0.5\n",
      "bgr: 0.0\n",
      "mosaic: 1.0\n",
      "mixup: 0.0\n",
      "cutmix: 0.0\n",
      "copy_paste: 0.0\n",
      "\n",
      "\u001b[34m\u001b[1mTuner: \u001b[0mStarting iteration 3/30 with hyperparameters: {'lr0': 0.01, 'lrf': 0.01, 'momentum': 0.95002, 'weight_decay': 0.00056, 'warmup_epochs': 2.93187, 'warmup_momentum': 0.60257, 'box': 7.5, 'cls': 0.5, 'dfl': 1.5, 'hsv_h': 0.01119, 'hsv_s': 0.76181, 'hsv_v': 0.4, 'degrees': 0.0, 'translate': 0.1, 'scale': 0.5, 'shear': 0.0, 'perspective': 0.0, 'flipud': 0.0, 'fliplr': 0.48412, 'bgr': 0.0, 'mosaic': 1.0, 'mixup': 0.0, 'cutmix': 0.0, 'copy_paste': 0.0}\n",
      "ERROR training failure for hyperparameter tuning iteration 3\n",
      "Command '['c:\\\\Users\\\\adelgado\\\\AppData\\\\Local\\\\Programs\\\\Python\\\\Python312\\\\python.exe', '-m', 'ultralytics.cfg.__init__', 'train', 'task=classify', 'mode=train', 'model=C:/Users/adelgado/Documents/Personal/Universidad/ML/Proyecto/runs/classify/train/weights/best.pt', 'data=/Users/adelgado/Documents/Personal/Universidad/ML/Proyecto/Data', 'epochs=30', 'time=None', 'patience=100', 'batch=16', 'imgsz=352', 'save=True', 'save_period=-1', 'cache=False', 'device=None', 'workers=8', 'project=None', 'name=None', 'exist_ok=False', 'pretrained=True', 'optimizer=AdamW', 'verbose=True', 'seed=0', 'deterministic=True', 'single_cls=False', 'rect=False', 'cos_lr=False', 'close_mosaic=10', 'resume=False', 'amp=True', 'fraction=1.0', 'profile=False', 'freeze=None', 'multi_scale=False', 'overlap_mask=True', 'mask_ratio=4', 'dropout=0.0', 'val=True', 'split=val', 'save_json=False', 'conf=None', 'iou=0.7', 'max_det=300', 'half=False', 'dnn=False', 'plots=True', 'source=None', 'vid_stride=1', 'stream_buffer=False', 'visualize=False', 'augment=False', 'agnostic_nms=False', 'classes=None', 'retina_masks=False', 'embed=None', 'show=False', 'save_frames=False', 'save_txt=False', 'save_conf=False', 'save_crop=False', 'show_labels=True', 'show_conf=True', 'show_boxes=True', 'line_width=None', 'format=torchscript', 'keras=False', 'optimize=False', 'int8=False', 'dynamic=False', 'simplify=True', 'opset=None', 'workspace=None', 'nms=False', 'lr0=0.01', 'lrf=0.01', 'momentum=0.95002', 'weight_decay=0.00056', 'warmup_epochs=2.93187', 'warmup_momentum=0.60257', 'warmup_bias_lr=0.1', 'box=7.5', 'cls=0.5', 'dfl=1.5', 'pose=12.0', 'kobj=1.0', 'nbs=64', 'hsv_h=0.01119', 'hsv_s=0.76181', 'hsv_v=0.4', 'degrees=0.0', 'translate=0.1', 'scale=0.5', 'shear=0.0', 'perspective=0.0', 'flipud=0.0', 'fliplr=0.48412', 'bgr=0.0', 'mosaic=1.0', 'mixup=0.0', 'cutmix=0.0', 'copy_paste=0.0', 'copy_paste_mode=flip', 'auto_augment=randaugment', 'erasing=0.4', 'cfg=None', 'tracker=botsort.yaml']' returned non-zero exit status 1.\n",
      "Saved runs\\classify\\tune2\\tune_scatter_plots.png\n",
      "Saved runs\\classify\\tune2\\tune_fitness.png\n",
      "\n",
      "\u001b[34m\u001b[1mTuner: \u001b[0m3/30 iterations complete  (19.23s)\n",
      "\u001b[34m\u001b[1mTuner: \u001b[0mResults saved to \u001b[1mruns\\classify\\tune2\u001b[0m\n",
      "\u001b[34m\u001b[1mTuner: \u001b[0mBest fitness=0.0 observed at iteration 1\n",
      "\u001b[34m\u001b[1mTuner: \u001b[0mBest fitness metrics are {}\n",
      "\u001b[34m\u001b[1mTuner: \u001b[0mBest fitness model is runs\\classify\\train4\n",
      "\u001b[34m\u001b[1mTuner: \u001b[0mBest fitness hyperparameters are printed below.\n",
      "\n",
      "Printing '\u001b[1m\u001b[30mruns\\classify\\tune2\\best_hyperparameters.yaml\u001b[0m'\n",
      "\n",
      "lr0: 0.01\n",
      "lrf: 0.01\n",
      "momentum: 0.937\n",
      "weight_decay: 0.0005\n",
      "warmup_epochs: 3.0\n",
      "warmup_momentum: 0.8\n",
      "box: 7.5\n",
      "cls: 0.5\n",
      "dfl: 1.5\n",
      "hsv_h: 0.015\n",
      "hsv_s: 0.7\n",
      "hsv_v: 0.4\n",
      "degrees: 0.0\n",
      "translate: 0.1\n",
      "scale: 0.5\n",
      "shear: 0.0\n",
      "perspective: 0.0\n",
      "flipud: 0.0\n",
      "fliplr: 0.5\n",
      "bgr: 0.0\n",
      "mosaic: 1.0\n",
      "mixup: 0.0\n",
      "cutmix: 0.0\n",
      "copy_paste: 0.0\n",
      "\n",
      "\u001b[34m\u001b[1mTuner: \u001b[0mStarting iteration 4/30 with hyperparameters: {'lr0': 0.00951, 'lrf': 0.01061, 'momentum': 0.91705, 'weight_decay': 0.00053, 'warmup_epochs': 3.10269, 'warmup_momentum': 0.72652, 'box': 7.26526, 'cls': 0.43999, 'dfl': 1.50155, 'hsv_h': 0.01474, 'hsv_s': 0.76364, 'hsv_v': 0.3965, 'degrees': 0.0, 'translate': 0.09952, 'scale': 0.43044, 'shear': 0.0, 'perspective': 0.0, 'flipud': 0.0, 'fliplr': 0.53604, 'bgr': 0.0, 'mosaic': 1.0, 'mixup': 0.0, 'cutmix': 0.0, 'copy_paste': 0.0}\n",
      "ERROR training failure for hyperparameter tuning iteration 4\n",
      "Command '['c:\\\\Users\\\\adelgado\\\\AppData\\\\Local\\\\Programs\\\\Python\\\\Python312\\\\python.exe', '-m', 'ultralytics.cfg.__init__', 'train', 'task=classify', 'mode=train', 'model=C:/Users/adelgado/Documents/Personal/Universidad/ML/Proyecto/runs/classify/train/weights/best.pt', 'data=/Users/adelgado/Documents/Personal/Universidad/ML/Proyecto/Data', 'epochs=30', 'time=None', 'patience=100', 'batch=16', 'imgsz=352', 'save=True', 'save_period=-1', 'cache=False', 'device=None', 'workers=8', 'project=None', 'name=None', 'exist_ok=False', 'pretrained=True', 'optimizer=AdamW', 'verbose=True', 'seed=0', 'deterministic=True', 'single_cls=False', 'rect=False', 'cos_lr=False', 'close_mosaic=10', 'resume=False', 'amp=True', 'fraction=1.0', 'profile=False', 'freeze=None', 'multi_scale=False', 'overlap_mask=True', 'mask_ratio=4', 'dropout=0.0', 'val=True', 'split=val', 'save_json=False', 'conf=None', 'iou=0.7', 'max_det=300', 'half=False', 'dnn=False', 'plots=True', 'source=None', 'vid_stride=1', 'stream_buffer=False', 'visualize=False', 'augment=False', 'agnostic_nms=False', 'classes=None', 'retina_masks=False', 'embed=None', 'show=False', 'save_frames=False', 'save_txt=False', 'save_conf=False', 'save_crop=False', 'show_labels=True', 'show_conf=True', 'show_boxes=True', 'line_width=None', 'format=torchscript', 'keras=False', 'optimize=False', 'int8=False', 'dynamic=False', 'simplify=True', 'opset=None', 'workspace=None', 'nms=False', 'lr0=0.00951', 'lrf=0.01061', 'momentum=0.91705', 'weight_decay=0.00053', 'warmup_epochs=3.10269', 'warmup_momentum=0.72652', 'warmup_bias_lr=0.1', 'box=7.26526', 'cls=0.43999', 'dfl=1.50155', 'pose=12.0', 'kobj=1.0', 'nbs=64', 'hsv_h=0.01474', 'hsv_s=0.76364', 'hsv_v=0.3965', 'degrees=0.0', 'translate=0.09952', 'scale=0.43044', 'shear=0.0', 'perspective=0.0', 'flipud=0.0', 'fliplr=0.53604', 'bgr=0.0', 'mosaic=1.0', 'mixup=0.0', 'cutmix=0.0', 'copy_paste=0.0', 'copy_paste_mode=flip', 'auto_augment=randaugment', 'erasing=0.4', 'cfg=None', 'tracker=botsort.yaml']' returned non-zero exit status 1.\n",
      "Saved runs\\classify\\tune2\\tune_scatter_plots.png\n",
      "Saved runs\\classify\\tune2\\tune_fitness.png\n",
      "\n",
      "\u001b[34m\u001b[1mTuner: \u001b[0m4/30 iterations complete  (24.48s)\n",
      "\u001b[34m\u001b[1mTuner: \u001b[0mResults saved to \u001b[1mruns\\classify\\tune2\u001b[0m\n",
      "\u001b[34m\u001b[1mTuner: \u001b[0mBest fitness=0.0 observed at iteration 1\n",
      "\u001b[34m\u001b[1mTuner: \u001b[0mBest fitness metrics are {}\n",
      "\u001b[34m\u001b[1mTuner: \u001b[0mBest fitness model is runs\\classify\\train4\n",
      "\u001b[34m\u001b[1mTuner: \u001b[0mBest fitness hyperparameters are printed below.\n",
      "\n",
      "Printing '\u001b[1m\u001b[30mruns\\classify\\tune2\\best_hyperparameters.yaml\u001b[0m'\n",
      "\n",
      "lr0: 0.01\n",
      "lrf: 0.01\n",
      "momentum: 0.937\n",
      "weight_decay: 0.0005\n",
      "warmup_epochs: 3.0\n",
      "warmup_momentum: 0.8\n",
      "box: 7.5\n",
      "cls: 0.5\n",
      "dfl: 1.5\n",
      "hsv_h: 0.015\n",
      "hsv_s: 0.7\n",
      "hsv_v: 0.4\n",
      "degrees: 0.0\n",
      "translate: 0.1\n",
      "scale: 0.5\n",
      "shear: 0.0\n",
      "perspective: 0.0\n",
      "flipud: 0.0\n",
      "fliplr: 0.5\n",
      "bgr: 0.0\n",
      "mosaic: 1.0\n",
      "mixup: 0.0\n",
      "cutmix: 0.0\n",
      "copy_paste: 0.0\n",
      "\n",
      "\u001b[34m\u001b[1mTuner: \u001b[0mStarting iteration 5/30 with hyperparameters: {'lr0': 0.01008, 'lrf': 0.0102, 'momentum': 0.91394, 'weight_decay': 0.00053, 'warmup_epochs': 3.10591, 'warmup_momentum': 0.7259, 'box': 7.24312, 'cls': 0.43094, 'dfl': 1.49097, 'hsv_h': 0.01445, 'hsv_s': 0.76364, 'hsv_v': 0.39474, 'degrees': 0.0, 'translate': 0.09945, 'scale': 0.43906, 'shear': 0.0, 'perspective': 0.0, 'flipud': 0.0, 'fliplr': 0.54567, 'bgr': 0.0, 'mosaic': 0.9848, 'mixup': 0.0, 'cutmix': 0.0, 'copy_paste': 0.0}\n",
      "ERROR training failure for hyperparameter tuning iteration 5\n",
      "Command '['c:\\\\Users\\\\adelgado\\\\AppData\\\\Local\\\\Programs\\\\Python\\\\Python312\\\\python.exe', '-m', 'ultralytics.cfg.__init__', 'train', 'task=classify', 'mode=train', 'model=C:/Users/adelgado/Documents/Personal/Universidad/ML/Proyecto/runs/classify/train/weights/best.pt', 'data=/Users/adelgado/Documents/Personal/Universidad/ML/Proyecto/Data', 'epochs=30', 'time=None', 'patience=100', 'batch=16', 'imgsz=352', 'save=True', 'save_period=-1', 'cache=False', 'device=None', 'workers=8', 'project=None', 'name=None', 'exist_ok=False', 'pretrained=True', 'optimizer=AdamW', 'verbose=True', 'seed=0', 'deterministic=True', 'single_cls=False', 'rect=False', 'cos_lr=False', 'close_mosaic=10', 'resume=False', 'amp=True', 'fraction=1.0', 'profile=False', 'freeze=None', 'multi_scale=False', 'overlap_mask=True', 'mask_ratio=4', 'dropout=0.0', 'val=True', 'split=val', 'save_json=False', 'conf=None', 'iou=0.7', 'max_det=300', 'half=False', 'dnn=False', 'plots=True', 'source=None', 'vid_stride=1', 'stream_buffer=False', 'visualize=False', 'augment=False', 'agnostic_nms=False', 'classes=None', 'retina_masks=False', 'embed=None', 'show=False', 'save_frames=False', 'save_txt=False', 'save_conf=False', 'save_crop=False', 'show_labels=True', 'show_conf=True', 'show_boxes=True', 'line_width=None', 'format=torchscript', 'keras=False', 'optimize=False', 'int8=False', 'dynamic=False', 'simplify=True', 'opset=None', 'workspace=None', 'nms=False', 'lr0=0.01008', 'lrf=0.0102', 'momentum=0.91394', 'weight_decay=0.00053', 'warmup_epochs=3.10591', 'warmup_momentum=0.7259', 'warmup_bias_lr=0.1', 'box=7.24312', 'cls=0.43094', 'dfl=1.49097', 'pose=12.0', 'kobj=1.0', 'nbs=64', 'hsv_h=0.01445', 'hsv_s=0.76364', 'hsv_v=0.39474', 'degrees=0.0', 'translate=0.09945', 'scale=0.43906', 'shear=0.0', 'perspective=0.0', 'flipud=0.0', 'fliplr=0.54567', 'bgr=0.0', 'mosaic=0.9848', 'mixup=0.0', 'cutmix=0.0', 'copy_paste=0.0', 'copy_paste_mode=flip', 'auto_augment=randaugment', 'erasing=0.4', 'cfg=None', 'tracker=botsort.yaml']' returned non-zero exit status 1.\n",
      "Saved runs\\classify\\tune2\\tune_scatter_plots.png\n",
      "Saved runs\\classify\\tune2\\tune_fitness.png\n",
      "\n",
      "\u001b[34m\u001b[1mTuner: \u001b[0m5/30 iterations complete  (28.93s)\n",
      "\u001b[34m\u001b[1mTuner: \u001b[0mResults saved to \u001b[1mruns\\classify\\tune2\u001b[0m\n",
      "\u001b[34m\u001b[1mTuner: \u001b[0mBest fitness=0.0 observed at iteration 1\n",
      "\u001b[34m\u001b[1mTuner: \u001b[0mBest fitness metrics are {}\n",
      "\u001b[34m\u001b[1mTuner: \u001b[0mBest fitness model is runs\\classify\\train4\n",
      "\u001b[34m\u001b[1mTuner: \u001b[0mBest fitness hyperparameters are printed below.\n",
      "\n",
      "Printing '\u001b[1m\u001b[30mruns\\classify\\tune2\\best_hyperparameters.yaml\u001b[0m'\n",
      "\n",
      "lr0: 0.01\n",
      "lrf: 0.01\n",
      "momentum: 0.937\n",
      "weight_decay: 0.0005\n",
      "warmup_epochs: 3.0\n",
      "warmup_momentum: 0.8\n",
      "box: 7.5\n",
      "cls: 0.5\n",
      "dfl: 1.5\n",
      "hsv_h: 0.015\n",
      "hsv_s: 0.7\n",
      "hsv_v: 0.4\n",
      "degrees: 0.0\n",
      "translate: 0.1\n",
      "scale: 0.5\n",
      "shear: 0.0\n",
      "perspective: 0.0\n",
      "flipud: 0.0\n",
      "fliplr: 0.5\n",
      "bgr: 0.0\n",
      "mosaic: 1.0\n",
      "mixup: 0.0\n",
      "cutmix: 0.0\n",
      "copy_paste: 0.0\n",
      "\n",
      "\u001b[34m\u001b[1mTuner: \u001b[0mStarting iteration 6/30 with hyperparameters: {'lr0': 0.00951, 'lrf': 0.00985, 'momentum': 0.91705, 'weight_decay': 0.0005, 'warmup_epochs': 3.1491, 'warmup_momentum': 0.74433, 'box': 7.3132, 'cls': 0.40295, 'dfl': 1.47464, 'hsv_h': 0.01495, 'hsv_s': 0.86926, 'hsv_v': 0.37501, 'degrees': 0.0, 'translate': 0.09803, 'scale': 0.43044, 'shear': 0.0, 'perspective': 0.0, 'flipud': 0.0, 'fliplr': 0.57132, 'bgr': 0.0, 'mosaic': 1.0, 'mixup': 0.0, 'cutmix': 0.0, 'copy_paste': 0.0}\n",
      "ERROR training failure for hyperparameter tuning iteration 6\n",
      "Command '['c:\\\\Users\\\\adelgado\\\\AppData\\\\Local\\\\Programs\\\\Python\\\\Python312\\\\python.exe', '-m', 'ultralytics.cfg.__init__', 'train', 'task=classify', 'mode=train', 'model=C:/Users/adelgado/Documents/Personal/Universidad/ML/Proyecto/runs/classify/train/weights/best.pt', 'data=/Users/adelgado/Documents/Personal/Universidad/ML/Proyecto/Data', 'epochs=30', 'time=None', 'patience=100', 'batch=16', 'imgsz=352', 'save=True', 'save_period=-1', 'cache=False', 'device=None', 'workers=8', 'project=None', 'name=None', 'exist_ok=False', 'pretrained=True', 'optimizer=AdamW', 'verbose=True', 'seed=0', 'deterministic=True', 'single_cls=False', 'rect=False', 'cos_lr=False', 'close_mosaic=10', 'resume=False', 'amp=True', 'fraction=1.0', 'profile=False', 'freeze=None', 'multi_scale=False', 'overlap_mask=True', 'mask_ratio=4', 'dropout=0.0', 'val=True', 'split=val', 'save_json=False', 'conf=None', 'iou=0.7', 'max_det=300', 'half=False', 'dnn=False', 'plots=True', 'source=None', 'vid_stride=1', 'stream_buffer=False', 'visualize=False', 'augment=False', 'agnostic_nms=False', 'classes=None', 'retina_masks=False', 'embed=None', 'show=False', 'save_frames=False', 'save_txt=False', 'save_conf=False', 'save_crop=False', 'show_labels=True', 'show_conf=True', 'show_boxes=True', 'line_width=None', 'format=torchscript', 'keras=False', 'optimize=False', 'int8=False', 'dynamic=False', 'simplify=True', 'opset=None', 'workspace=None', 'nms=False', 'lr0=0.00951', 'lrf=0.00985', 'momentum=0.91705', 'weight_decay=0.0005', 'warmup_epochs=3.1491', 'warmup_momentum=0.74433', 'warmup_bias_lr=0.1', 'box=7.3132', 'cls=0.40295', 'dfl=1.47464', 'pose=12.0', 'kobj=1.0', 'nbs=64', 'hsv_h=0.01495', 'hsv_s=0.86926', 'hsv_v=0.37501', 'degrees=0.0', 'translate=0.09803', 'scale=0.43044', 'shear=0.0', 'perspective=0.0', 'flipud=0.0', 'fliplr=0.57132', 'bgr=0.0', 'mosaic=1.0', 'mixup=0.0', 'cutmix=0.0', 'copy_paste=0.0', 'copy_paste_mode=flip', 'auto_augment=randaugment', 'erasing=0.4', 'cfg=None', 'tracker=botsort.yaml']' returned non-zero exit status 1.\n",
      "Saved runs\\classify\\tune2\\tune_scatter_plots.png\n",
      "Saved runs\\classify\\tune2\\tune_fitness.png\n",
      "\n",
      "\u001b[34m\u001b[1mTuner: \u001b[0m6/30 iterations complete  (33.51s)\n",
      "\u001b[34m\u001b[1mTuner: \u001b[0mResults saved to \u001b[1mruns\\classify\\tune2\u001b[0m\n",
      "\u001b[34m\u001b[1mTuner: \u001b[0mBest fitness=0.0 observed at iteration 1\n",
      "\u001b[34m\u001b[1mTuner: \u001b[0mBest fitness metrics are {}\n",
      "\u001b[34m\u001b[1mTuner: \u001b[0mBest fitness model is runs\\classify\\train4\n",
      "\u001b[34m\u001b[1mTuner: \u001b[0mBest fitness hyperparameters are printed below.\n",
      "\n",
      "Printing '\u001b[1m\u001b[30mruns\\classify\\tune2\\best_hyperparameters.yaml\u001b[0m'\n",
      "\n",
      "lr0: 0.01\n",
      "lrf: 0.01\n",
      "momentum: 0.937\n",
      "weight_decay: 0.0005\n",
      "warmup_epochs: 3.0\n",
      "warmup_momentum: 0.8\n",
      "box: 7.5\n",
      "cls: 0.5\n",
      "dfl: 1.5\n",
      "hsv_h: 0.015\n",
      "hsv_s: 0.7\n",
      "hsv_v: 0.4\n",
      "degrees: 0.0\n",
      "translate: 0.1\n",
      "scale: 0.5\n",
      "shear: 0.0\n",
      "perspective: 0.0\n",
      "flipud: 0.0\n",
      "fliplr: 0.5\n",
      "bgr: 0.0\n",
      "mosaic: 1.0\n",
      "mixup: 0.0\n",
      "cutmix: 0.0\n",
      "copy_paste: 0.0\n",
      "\n",
      "\u001b[34m\u001b[1mTuner: \u001b[0mStarting iteration 7/30 with hyperparameters: {'lr0': 0.00912, 'lrf': 0.01437, 'momentum': 0.90437, 'weight_decay': 0.00055, 'warmup_epochs': 2.4234, 'warmup_momentum': 0.73644, 'box': 7.26328, 'cls': 0.43699, 'dfl': 1.2366, 'hsv_h': 0.01257, 'hsv_s': 0.76364, 'hsv_v': 0.56281, 'degrees': 0.0, 'translate': 0.10302, 'scale': 0.32072, 'shear': 0.0, 'perspective': 0.0, 'flipud': 0.0, 'fliplr': 0.49202, 'bgr': 0.0, 'mosaic': 1.0, 'mixup': 0.0, 'cutmix': 0.0, 'copy_paste': 0.0}\n",
      "ERROR training failure for hyperparameter tuning iteration 7\n",
      "Command '['c:\\\\Users\\\\adelgado\\\\AppData\\\\Local\\\\Programs\\\\Python\\\\Python312\\\\python.exe', '-m', 'ultralytics.cfg.__init__', 'train', 'task=classify', 'mode=train', 'model=C:/Users/adelgado/Documents/Personal/Universidad/ML/Proyecto/runs/classify/train/weights/best.pt', 'data=/Users/adelgado/Documents/Personal/Universidad/ML/Proyecto/Data', 'epochs=30', 'time=None', 'patience=100', 'batch=16', 'imgsz=352', 'save=True', 'save_period=-1', 'cache=False', 'device=None', 'workers=8', 'project=None', 'name=None', 'exist_ok=False', 'pretrained=True', 'optimizer=AdamW', 'verbose=True', 'seed=0', 'deterministic=True', 'single_cls=False', 'rect=False', 'cos_lr=False', 'close_mosaic=10', 'resume=False', 'amp=True', 'fraction=1.0', 'profile=False', 'freeze=None', 'multi_scale=False', 'overlap_mask=True', 'mask_ratio=4', 'dropout=0.0', 'val=True', 'split=val', 'save_json=False', 'conf=None', 'iou=0.7', 'max_det=300', 'half=False', 'dnn=False', 'plots=True', 'source=None', 'vid_stride=1', 'stream_buffer=False', 'visualize=False', 'augment=False', 'agnostic_nms=False', 'classes=None', 'retina_masks=False', 'embed=None', 'show=False', 'save_frames=False', 'save_txt=False', 'save_conf=False', 'save_crop=False', 'show_labels=True', 'show_conf=True', 'show_boxes=True', 'line_width=None', 'format=torchscript', 'keras=False', 'optimize=False', 'int8=False', 'dynamic=False', 'simplify=True', 'opset=None', 'workspace=None', 'nms=False', 'lr0=0.00912', 'lrf=0.01437', 'momentum=0.90437', 'weight_decay=0.00055', 'warmup_epochs=2.4234', 'warmup_momentum=0.73644', 'warmup_bias_lr=0.1', 'box=7.26328', 'cls=0.43699', 'dfl=1.2366', 'pose=12.0', 'kobj=1.0', 'nbs=64', 'hsv_h=0.01257', 'hsv_s=0.76364', 'hsv_v=0.56281', 'degrees=0.0', 'translate=0.10302', 'scale=0.32072', 'shear=0.0', 'perspective=0.0', 'flipud=0.0', 'fliplr=0.49202', 'bgr=0.0', 'mosaic=1.0', 'mixup=0.0', 'cutmix=0.0', 'copy_paste=0.0', 'copy_paste_mode=flip', 'auto_augment=randaugment', 'erasing=0.4', 'cfg=None', 'tracker=botsort.yaml']' returned non-zero exit status 1.\n",
      "Saved runs\\classify\\tune2\\tune_scatter_plots.png\n",
      "Saved runs\\classify\\tune2\\tune_fitness.png\n",
      "\n",
      "\u001b[34m\u001b[1mTuner: \u001b[0m7/30 iterations complete  (38.35s)\n",
      "\u001b[34m\u001b[1mTuner: \u001b[0mResults saved to \u001b[1mruns\\classify\\tune2\u001b[0m\n",
      "\u001b[34m\u001b[1mTuner: \u001b[0mBest fitness=0.0 observed at iteration 1\n",
      "\u001b[34m\u001b[1mTuner: \u001b[0mBest fitness metrics are {}\n",
      "\u001b[34m\u001b[1mTuner: \u001b[0mBest fitness model is runs\\classify\\train4\n",
      "\u001b[34m\u001b[1mTuner: \u001b[0mBest fitness hyperparameters are printed below.\n",
      "\n",
      "Printing '\u001b[1m\u001b[30mruns\\classify\\tune2\\best_hyperparameters.yaml\u001b[0m'\n",
      "\n",
      "lr0: 0.01\n",
      "lrf: 0.01\n",
      "momentum: 0.937\n",
      "weight_decay: 0.0005\n",
      "warmup_epochs: 3.0\n",
      "warmup_momentum: 0.8\n",
      "box: 7.5\n",
      "cls: 0.5\n",
      "dfl: 1.5\n",
      "hsv_h: 0.015\n",
      "hsv_s: 0.7\n",
      "hsv_v: 0.4\n",
      "degrees: 0.0\n",
      "translate: 0.1\n",
      "scale: 0.5\n",
      "shear: 0.0\n",
      "perspective: 0.0\n",
      "flipud: 0.0\n",
      "fliplr: 0.5\n",
      "bgr: 0.0\n",
      "mosaic: 1.0\n",
      "mixup: 0.0\n",
      "cutmix: 0.0\n",
      "copy_paste: 0.0\n",
      "\n",
      "\u001b[34m\u001b[1mTuner: \u001b[0mStarting iteration 8/30 with hyperparameters: {'lr0': 0.00911, 'lrf': 0.01029, 'momentum': 0.94999, 'weight_decay': 0.00056, 'warmup_epochs': 2.89885, 'warmup_momentum': 0.66491, 'box': 7.54376, 'cls': 0.5, 'dfl': 1.5, 'hsv_h': 0.01046, 'hsv_s': 0.66193, 'hsv_v': 0.40748, 'degrees': 0.0, 'translate': 0.0951, 'scale': 0.52938, 'shear': 0.0, 'perspective': 0.0, 'flipud': 0.0, 'fliplr': 0.4566, 'bgr': 0.0, 'mosaic': 1.0, 'mixup': 0.0, 'cutmix': 0.0, 'copy_paste': 0.0}\n",
      "ERROR training failure for hyperparameter tuning iteration 8\n",
      "Command '['c:\\\\Users\\\\adelgado\\\\AppData\\\\Local\\\\Programs\\\\Python\\\\Python312\\\\python.exe', '-m', 'ultralytics.cfg.__init__', 'train', 'task=classify', 'mode=train', 'model=C:/Users/adelgado/Documents/Personal/Universidad/ML/Proyecto/runs/classify/train/weights/best.pt', 'data=/Users/adelgado/Documents/Personal/Universidad/ML/Proyecto/Data', 'epochs=30', 'time=None', 'patience=100', 'batch=16', 'imgsz=352', 'save=True', 'save_period=-1', 'cache=False', 'device=None', 'workers=8', 'project=None', 'name=None', 'exist_ok=False', 'pretrained=True', 'optimizer=AdamW', 'verbose=True', 'seed=0', 'deterministic=True', 'single_cls=False', 'rect=False', 'cos_lr=False', 'close_mosaic=10', 'resume=False', 'amp=True', 'fraction=1.0', 'profile=False', 'freeze=None', 'multi_scale=False', 'overlap_mask=True', 'mask_ratio=4', 'dropout=0.0', 'val=True', 'split=val', 'save_json=False', 'conf=None', 'iou=0.7', 'max_det=300', 'half=False', 'dnn=False', 'plots=True', 'source=None', 'vid_stride=1', 'stream_buffer=False', 'visualize=False', 'augment=False', 'agnostic_nms=False', 'classes=None', 'retina_masks=False', 'embed=None', 'show=False', 'save_frames=False', 'save_txt=False', 'save_conf=False', 'save_crop=False', 'show_labels=True', 'show_conf=True', 'show_boxes=True', 'line_width=None', 'format=torchscript', 'keras=False', 'optimize=False', 'int8=False', 'dynamic=False', 'simplify=True', 'opset=None', 'workspace=None', 'nms=False', 'lr0=0.00911', 'lrf=0.01029', 'momentum=0.94999', 'weight_decay=0.00056', 'warmup_epochs=2.89885', 'warmup_momentum=0.66491', 'warmup_bias_lr=0.1', 'box=7.54376', 'cls=0.5', 'dfl=1.5', 'pose=12.0', 'kobj=1.0', 'nbs=64', 'hsv_h=0.01046', 'hsv_s=0.66193', 'hsv_v=0.40748', 'degrees=0.0', 'translate=0.0951', 'scale=0.52938', 'shear=0.0', 'perspective=0.0', 'flipud=0.0', 'fliplr=0.4566', 'bgr=0.0', 'mosaic=1.0', 'mixup=0.0', 'cutmix=0.0', 'copy_paste=0.0', 'copy_paste_mode=flip', 'auto_augment=randaugment', 'erasing=0.4', 'cfg=None', 'tracker=botsort.yaml']' returned non-zero exit status 1.\n",
      "Saved runs\\classify\\tune2\\tune_scatter_plots.png\n",
      "Saved runs\\classify\\tune2\\tune_fitness.png\n",
      "\n",
      "\u001b[34m\u001b[1mTuner: \u001b[0m8/30 iterations complete  (42.67s)\n",
      "\u001b[34m\u001b[1mTuner: \u001b[0mResults saved to \u001b[1mruns\\classify\\tune2\u001b[0m\n",
      "\u001b[34m\u001b[1mTuner: \u001b[0mBest fitness=0.0 observed at iteration 1\n",
      "\u001b[34m\u001b[1mTuner: \u001b[0mBest fitness metrics are {}\n",
      "\u001b[34m\u001b[1mTuner: \u001b[0mBest fitness model is runs\\classify\\train4\n",
      "\u001b[34m\u001b[1mTuner: \u001b[0mBest fitness hyperparameters are printed below.\n",
      "\n",
      "Printing '\u001b[1m\u001b[30mruns\\classify\\tune2\\best_hyperparameters.yaml\u001b[0m'\n",
      "\n",
      "lr0: 0.01\n",
      "lrf: 0.01\n",
      "momentum: 0.937\n",
      "weight_decay: 0.0005\n",
      "warmup_epochs: 3.0\n",
      "warmup_momentum: 0.8\n",
      "box: 7.5\n",
      "cls: 0.5\n",
      "dfl: 1.5\n",
      "hsv_h: 0.015\n",
      "hsv_s: 0.7\n",
      "hsv_v: 0.4\n",
      "degrees: 0.0\n",
      "translate: 0.1\n",
      "scale: 0.5\n",
      "shear: 0.0\n",
      "perspective: 0.0\n",
      "flipud: 0.0\n",
      "fliplr: 0.5\n",
      "bgr: 0.0\n",
      "mosaic: 1.0\n",
      "mixup: 0.0\n",
      "cutmix: 0.0\n",
      "copy_paste: 0.0\n",
      "\n",
      "\u001b[34m\u001b[1mTuner: \u001b[0mStarting iteration 9/30 with hyperparameters: {'lr0': 0.01032, 'lrf': 0.00981, 'momentum': 0.96159, 'weight_decay': 0.00061, 'warmup_epochs': 2.93187, 'warmup_momentum': 0.57851, 'box': 7.5, 'cls': 0.53814, 'dfl': 1.44654, 'hsv_h': 0.01119, 'hsv_s': 0.79047, 'hsv_v': 0.4, 'degrees': 0.0, 'translate': 0.10765, 'scale': 0.51872, 'shear': 0.0, 'perspective': 0.0, 'flipud': 0.0, 'fliplr': 0.48242, 'bgr': 0.0, 'mosaic': 0.96283, 'mixup': 0.0, 'cutmix': 0.0, 'copy_paste': 0.0}\n",
      "ERROR training failure for hyperparameter tuning iteration 9\n",
      "Command '['c:\\\\Users\\\\adelgado\\\\AppData\\\\Local\\\\Programs\\\\Python\\\\Python312\\\\python.exe', '-m', 'ultralytics.cfg.__init__', 'train', 'task=classify', 'mode=train', 'model=C:/Users/adelgado/Documents/Personal/Universidad/ML/Proyecto/runs/classify/train/weights/best.pt', 'data=/Users/adelgado/Documents/Personal/Universidad/ML/Proyecto/Data', 'epochs=30', 'time=None', 'patience=100', 'batch=16', 'imgsz=352', 'save=True', 'save_period=-1', 'cache=False', 'device=None', 'workers=8', 'project=None', 'name=None', 'exist_ok=False', 'pretrained=True', 'optimizer=AdamW', 'verbose=True', 'seed=0', 'deterministic=True', 'single_cls=False', 'rect=False', 'cos_lr=False', 'close_mosaic=10', 'resume=False', 'amp=True', 'fraction=1.0', 'profile=False', 'freeze=None', 'multi_scale=False', 'overlap_mask=True', 'mask_ratio=4', 'dropout=0.0', 'val=True', 'split=val', 'save_json=False', 'conf=None', 'iou=0.7', 'max_det=300', 'half=False', 'dnn=False', 'plots=True', 'source=None', 'vid_stride=1', 'stream_buffer=False', 'visualize=False', 'augment=False', 'agnostic_nms=False', 'classes=None', 'retina_masks=False', 'embed=None', 'show=False', 'save_frames=False', 'save_txt=False', 'save_conf=False', 'save_crop=False', 'show_labels=True', 'show_conf=True', 'show_boxes=True', 'line_width=None', 'format=torchscript', 'keras=False', 'optimize=False', 'int8=False', 'dynamic=False', 'simplify=True', 'opset=None', 'workspace=None', 'nms=False', 'lr0=0.01032', 'lrf=0.00981', 'momentum=0.96159', 'weight_decay=0.00061', 'warmup_epochs=2.93187', 'warmup_momentum=0.57851', 'warmup_bias_lr=0.1', 'box=7.5', 'cls=0.53814', 'dfl=1.44654', 'pose=12.0', 'kobj=1.0', 'nbs=64', 'hsv_h=0.01119', 'hsv_s=0.79047', 'hsv_v=0.4', 'degrees=0.0', 'translate=0.10765', 'scale=0.51872', 'shear=0.0', 'perspective=0.0', 'flipud=0.0', 'fliplr=0.48242', 'bgr=0.0', 'mosaic=0.96283', 'mixup=0.0', 'cutmix=0.0', 'copy_paste=0.0', 'copy_paste_mode=flip', 'auto_augment=randaugment', 'erasing=0.4', 'cfg=None', 'tracker=botsort.yaml']' returned non-zero exit status 1.\n",
      "Saved runs\\classify\\tune2\\tune_scatter_plots.png\n",
      "Saved runs\\classify\\tune2\\tune_fitness.png\n",
      "\n",
      "\u001b[34m\u001b[1mTuner: \u001b[0m9/30 iterations complete  (47.02s)\n",
      "\u001b[34m\u001b[1mTuner: \u001b[0mResults saved to \u001b[1mruns\\classify\\tune2\u001b[0m\n",
      "\u001b[34m\u001b[1mTuner: \u001b[0mBest fitness=0.0 observed at iteration 1\n",
      "\u001b[34m\u001b[1mTuner: \u001b[0mBest fitness metrics are {}\n",
      "\u001b[34m\u001b[1mTuner: \u001b[0mBest fitness model is runs\\classify\\train4\n",
      "\u001b[34m\u001b[1mTuner: \u001b[0mBest fitness hyperparameters are printed below.\n",
      "\n",
      "Printing '\u001b[1m\u001b[30mruns\\classify\\tune2\\best_hyperparameters.yaml\u001b[0m'\n",
      "\n",
      "lr0: 0.01\n",
      "lrf: 0.01\n",
      "momentum: 0.937\n",
      "weight_decay: 0.0005\n",
      "warmup_epochs: 3.0\n",
      "warmup_momentum: 0.8\n",
      "box: 7.5\n",
      "cls: 0.5\n",
      "dfl: 1.5\n",
      "hsv_h: 0.015\n",
      "hsv_s: 0.7\n",
      "hsv_v: 0.4\n",
      "degrees: 0.0\n",
      "translate: 0.1\n",
      "scale: 0.5\n",
      "shear: 0.0\n",
      "perspective: 0.0\n",
      "flipud: 0.0\n",
      "fliplr: 0.5\n",
      "bgr: 0.0\n",
      "mosaic: 1.0\n",
      "mixup: 0.0\n",
      "cutmix: 0.0\n",
      "copy_paste: 0.0\n",
      "\n",
      "\u001b[34m\u001b[1mTuner: \u001b[0mStarting iteration 10/30 with hyperparameters: {'lr0': 0.01008, 'lrf': 0.01035, 'momentum': 0.92046, 'weight_decay': 0.00052, 'warmup_epochs': 3.03534, 'warmup_momentum': 0.70564, 'box': 7.24312, 'cls': 0.41847, 'dfl': 1.45438, 'hsv_h': 0.01424, 'hsv_s': 0.76857, 'hsv_v': 0.39999, 'degrees': 0.0, 'translate': 0.09783, 'scale': 0.44788, 'shear': 0.0, 'perspective': 0.0, 'flipud': 0.0, 'fliplr': 0.53723, 'bgr': 0.0, 'mosaic': 0.96141, 'mixup': 0.0, 'cutmix': 0.0, 'copy_paste': 0.0}\n",
      "ERROR training failure for hyperparameter tuning iteration 10\n",
      "Command '['c:\\\\Users\\\\adelgado\\\\AppData\\\\Local\\\\Programs\\\\Python\\\\Python312\\\\python.exe', '-m', 'ultralytics.cfg.__init__', 'train', 'task=classify', 'mode=train', 'model=C:/Users/adelgado/Documents/Personal/Universidad/ML/Proyecto/runs/classify/train/weights/best.pt', 'data=/Users/adelgado/Documents/Personal/Universidad/ML/Proyecto/Data', 'epochs=30', 'time=None', 'patience=100', 'batch=16', 'imgsz=352', 'save=True', 'save_period=-1', 'cache=False', 'device=None', 'workers=8', 'project=None', 'name=None', 'exist_ok=False', 'pretrained=True', 'optimizer=AdamW', 'verbose=True', 'seed=0', 'deterministic=True', 'single_cls=False', 'rect=False', 'cos_lr=False', 'close_mosaic=10', 'resume=False', 'amp=True', 'fraction=1.0', 'profile=False', 'freeze=None', 'multi_scale=False', 'overlap_mask=True', 'mask_ratio=4', 'dropout=0.0', 'val=True', 'split=val', 'save_json=False', 'conf=None', 'iou=0.7', 'max_det=300', 'half=False', 'dnn=False', 'plots=True', 'source=None', 'vid_stride=1', 'stream_buffer=False', 'visualize=False', 'augment=False', 'agnostic_nms=False', 'classes=None', 'retina_masks=False', 'embed=None', 'show=False', 'save_frames=False', 'save_txt=False', 'save_conf=False', 'save_crop=False', 'show_labels=True', 'show_conf=True', 'show_boxes=True', 'line_width=None', 'format=torchscript', 'keras=False', 'optimize=False', 'int8=False', 'dynamic=False', 'simplify=True', 'opset=None', 'workspace=None', 'nms=False', 'lr0=0.01008', 'lrf=0.01035', 'momentum=0.92046', 'weight_decay=0.00052', 'warmup_epochs=3.03534', 'warmup_momentum=0.70564', 'warmup_bias_lr=0.1', 'box=7.24312', 'cls=0.41847', 'dfl=1.45438', 'pose=12.0', 'kobj=1.0', 'nbs=64', 'hsv_h=0.01424', 'hsv_s=0.76857', 'hsv_v=0.39999', 'degrees=0.0', 'translate=0.09783', 'scale=0.44788', 'shear=0.0', 'perspective=0.0', 'flipud=0.0', 'fliplr=0.53723', 'bgr=0.0', 'mosaic=0.96141', 'mixup=0.0', 'cutmix=0.0', 'copy_paste=0.0', 'copy_paste_mode=flip', 'auto_augment=randaugment', 'erasing=0.4', 'cfg=None', 'tracker=botsort.yaml']' returned non-zero exit status 1.\n",
      "Saved runs\\classify\\tune2\\tune_scatter_plots.png\n",
      "Saved runs\\classify\\tune2\\tune_fitness.png\n",
      "\n",
      "\u001b[34m\u001b[1mTuner: \u001b[0m10/30 iterations complete  (51.40s)\n",
      "\u001b[34m\u001b[1mTuner: \u001b[0mResults saved to \u001b[1mruns\\classify\\tune2\u001b[0m\n",
      "\u001b[34m\u001b[1mTuner: \u001b[0mBest fitness=0.0 observed at iteration 1\n",
      "\u001b[34m\u001b[1mTuner: \u001b[0mBest fitness metrics are {}\n",
      "\u001b[34m\u001b[1mTuner: \u001b[0mBest fitness model is runs\\classify\\train4\n",
      "\u001b[34m\u001b[1mTuner: \u001b[0mBest fitness hyperparameters are printed below.\n",
      "\n",
      "Printing '\u001b[1m\u001b[30mruns\\classify\\tune2\\best_hyperparameters.yaml\u001b[0m'\n",
      "\n",
      "lr0: 0.01\n",
      "lrf: 0.01\n",
      "momentum: 0.937\n",
      "weight_decay: 0.0005\n",
      "warmup_epochs: 3.0\n",
      "warmup_momentum: 0.8\n",
      "box: 7.5\n",
      "cls: 0.5\n",
      "dfl: 1.5\n",
      "hsv_h: 0.015\n",
      "hsv_s: 0.7\n",
      "hsv_v: 0.4\n",
      "degrees: 0.0\n",
      "translate: 0.1\n",
      "scale: 0.5\n",
      "shear: 0.0\n",
      "perspective: 0.0\n",
      "flipud: 0.0\n",
      "fliplr: 0.5\n",
      "bgr: 0.0\n",
      "mosaic: 1.0\n",
      "mixup: 0.0\n",
      "cutmix: 0.0\n",
      "copy_paste: 0.0\n",
      "\n",
      "\u001b[34m\u001b[1mTuner: \u001b[0mStarting iteration 11/30 with hyperparameters: {'lr0': 0.01065, 'lrf': 0.011, 'momentum': 0.89804, 'weight_decay': 0.00063, 'warmup_epochs': 3.19538, 'warmup_momentum': 0.77671, 'box': 7.30424, 'cls': 0.47068, 'dfl': 1.57263, 'hsv_h': 0.00877, 'hsv_s': 0.82107, 'hsv_v': 0.35493, 'degrees': 0.0, 'translate': 0.09991, 'scale': 0.55487, 'shear': 0.0, 'perspective': 0.0, 'flipud': 0.0, 'fliplr': 0.48412, 'bgr': 0.0, 'mosaic': 1.0, 'mixup': 0.0, 'cutmix': 0.0, 'copy_paste': 0.0}\n",
      "ERROR training failure for hyperparameter tuning iteration 11\n",
      "Command '['c:\\\\Users\\\\adelgado\\\\AppData\\\\Local\\\\Programs\\\\Python\\\\Python312\\\\python.exe', '-m', 'ultralytics.cfg.__init__', 'train', 'task=classify', 'mode=train', 'model=C:/Users/adelgado/Documents/Personal/Universidad/ML/Proyecto/runs/classify/train/weights/best.pt', 'data=/Users/adelgado/Documents/Personal/Universidad/ML/Proyecto/Data', 'epochs=30', 'time=None', 'patience=100', 'batch=16', 'imgsz=352', 'save=True', 'save_period=-1', 'cache=False', 'device=None', 'workers=8', 'project=None', 'name=None', 'exist_ok=False', 'pretrained=True', 'optimizer=AdamW', 'verbose=True', 'seed=0', 'deterministic=True', 'single_cls=False', 'rect=False', 'cos_lr=False', 'close_mosaic=10', 'resume=False', 'amp=True', 'fraction=1.0', 'profile=False', 'freeze=None', 'multi_scale=False', 'overlap_mask=True', 'mask_ratio=4', 'dropout=0.0', 'val=True', 'split=val', 'save_json=False', 'conf=None', 'iou=0.7', 'max_det=300', 'half=False', 'dnn=False', 'plots=True', 'source=None', 'vid_stride=1', 'stream_buffer=False', 'visualize=False', 'augment=False', 'agnostic_nms=False', 'classes=None', 'retina_masks=False', 'embed=None', 'show=False', 'save_frames=False', 'save_txt=False', 'save_conf=False', 'save_crop=False', 'show_labels=True', 'show_conf=True', 'show_boxes=True', 'line_width=None', 'format=torchscript', 'keras=False', 'optimize=False', 'int8=False', 'dynamic=False', 'simplify=True', 'opset=None', 'workspace=None', 'nms=False', 'lr0=0.01065', 'lrf=0.011', 'momentum=0.89804', 'weight_decay=0.00063', 'warmup_epochs=3.19538', 'warmup_momentum=0.77671', 'warmup_bias_lr=0.1', 'box=7.30424', 'cls=0.47068', 'dfl=1.57263', 'pose=12.0', 'kobj=1.0', 'nbs=64', 'hsv_h=0.00877', 'hsv_s=0.82107', 'hsv_v=0.35493', 'degrees=0.0', 'translate=0.09991', 'scale=0.55487', 'shear=0.0', 'perspective=0.0', 'flipud=0.0', 'fliplr=0.48412', 'bgr=0.0', 'mosaic=1.0', 'mixup=0.0', 'cutmix=0.0', 'copy_paste=0.0', 'copy_paste_mode=flip', 'auto_augment=randaugment', 'erasing=0.4', 'cfg=None', 'tracker=botsort.yaml']' returned non-zero exit status 1.\n",
      "Saved runs\\classify\\tune2\\tune_scatter_plots.png\n",
      "Saved runs\\classify\\tune2\\tune_fitness.png\n",
      "\n",
      "\u001b[34m\u001b[1mTuner: \u001b[0m11/30 iterations complete  (55.65s)\n",
      "\u001b[34m\u001b[1mTuner: \u001b[0mResults saved to \u001b[1mruns\\classify\\tune2\u001b[0m\n",
      "\u001b[34m\u001b[1mTuner: \u001b[0mBest fitness=0.0 observed at iteration 1\n",
      "\u001b[34m\u001b[1mTuner: \u001b[0mBest fitness metrics are {}\n",
      "\u001b[34m\u001b[1mTuner: \u001b[0mBest fitness model is runs\\classify\\train4\n",
      "\u001b[34m\u001b[1mTuner: \u001b[0mBest fitness hyperparameters are printed below.\n",
      "\n",
      "Printing '\u001b[1m\u001b[30mruns\\classify\\tune2\\best_hyperparameters.yaml\u001b[0m'\n",
      "\n",
      "lr0: 0.01\n",
      "lrf: 0.01\n",
      "momentum: 0.937\n",
      "weight_decay: 0.0005\n",
      "warmup_epochs: 3.0\n",
      "warmup_momentum: 0.8\n",
      "box: 7.5\n",
      "cls: 0.5\n",
      "dfl: 1.5\n",
      "hsv_h: 0.015\n",
      "hsv_s: 0.7\n",
      "hsv_v: 0.4\n",
      "degrees: 0.0\n",
      "translate: 0.1\n",
      "scale: 0.5\n",
      "shear: 0.0\n",
      "perspective: 0.0\n",
      "flipud: 0.0\n",
      "fliplr: 0.5\n",
      "bgr: 0.0\n",
      "mosaic: 1.0\n",
      "mixup: 0.0\n",
      "cutmix: 0.0\n",
      "copy_paste: 0.0\n",
      "\n",
      "\u001b[34m\u001b[1mTuner: \u001b[0mStarting iteration 12/30 with hyperparameters: {'lr0': 0.01, 'lrf': 0.01, 'momentum': 0.91345, 'weight_decay': 0.00055, 'warmup_epochs': 2.53537, 'warmup_momentum': 0.72538, 'box': 8.81424, 'cls': 0.40991, 'dfl': 1.87623, 'hsv_h': 0.01746, 'hsv_s': 0.9, 'hsv_v': 0.49878, 'degrees': 0.0, 'translate': 0.1, 'scale': 0.45266, 'shear': 0.0, 'perspective': 0.0, 'flipud': 0.0, 'fliplr': 0.60302, 'bgr': 0.0, 'mosaic': 0.71417, 'mixup': 0.0, 'cutmix': 0.0, 'copy_paste': 0.0}\n",
      "ERROR training failure for hyperparameter tuning iteration 12\n",
      "Command '['c:\\\\Users\\\\adelgado\\\\AppData\\\\Local\\\\Programs\\\\Python\\\\Python312\\\\python.exe', '-m', 'ultralytics.cfg.__init__', 'train', 'task=classify', 'mode=train', 'model=C:/Users/adelgado/Documents/Personal/Universidad/ML/Proyecto/runs/classify/train/weights/best.pt', 'data=/Users/adelgado/Documents/Personal/Universidad/ML/Proyecto/Data', 'epochs=30', 'time=None', 'patience=100', 'batch=16', 'imgsz=352', 'save=True', 'save_period=-1', 'cache=False', 'device=None', 'workers=8', 'project=None', 'name=None', 'exist_ok=False', 'pretrained=True', 'optimizer=AdamW', 'verbose=True', 'seed=0', 'deterministic=True', 'single_cls=False', 'rect=False', 'cos_lr=False', 'close_mosaic=10', 'resume=False', 'amp=True', 'fraction=1.0', 'profile=False', 'freeze=None', 'multi_scale=False', 'overlap_mask=True', 'mask_ratio=4', 'dropout=0.0', 'val=True', 'split=val', 'save_json=False', 'conf=None', 'iou=0.7', 'max_det=300', 'half=False', 'dnn=False', 'plots=True', 'source=None', 'vid_stride=1', 'stream_buffer=False', 'visualize=False', 'augment=False', 'agnostic_nms=False', 'classes=None', 'retina_masks=False', 'embed=None', 'show=False', 'save_frames=False', 'save_txt=False', 'save_conf=False', 'save_crop=False', 'show_labels=True', 'show_conf=True', 'show_boxes=True', 'line_width=None', 'format=torchscript', 'keras=False', 'optimize=False', 'int8=False', 'dynamic=False', 'simplify=True', 'opset=None', 'workspace=None', 'nms=False', 'lr0=0.01', 'lrf=0.01', 'momentum=0.91345', 'weight_decay=0.00055', 'warmup_epochs=2.53537', 'warmup_momentum=0.72538', 'warmup_bias_lr=0.1', 'box=8.81424', 'cls=0.40991', 'dfl=1.87623', 'pose=12.0', 'kobj=1.0', 'nbs=64', 'hsv_h=0.01746', 'hsv_s=0.9', 'hsv_v=0.49878', 'degrees=0.0', 'translate=0.1', 'scale=0.45266', 'shear=0.0', 'perspective=0.0', 'flipud=0.0', 'fliplr=0.60302', 'bgr=0.0', 'mosaic=0.71417', 'mixup=0.0', 'cutmix=0.0', 'copy_paste=0.0', 'copy_paste_mode=flip', 'auto_augment=randaugment', 'erasing=0.4', 'cfg=None', 'tracker=botsort.yaml']' returned non-zero exit status 1.\n",
      "Saved runs\\classify\\tune2\\tune_scatter_plots.png\n",
      "Saved runs\\classify\\tune2\\tune_fitness.png\n",
      "\n",
      "\u001b[34m\u001b[1mTuner: \u001b[0m12/30 iterations complete  (60.70s)\n",
      "\u001b[34m\u001b[1mTuner: \u001b[0mResults saved to \u001b[1mruns\\classify\\tune2\u001b[0m\n",
      "\u001b[34m\u001b[1mTuner: \u001b[0mBest fitness=0.0 observed at iteration 1\n",
      "\u001b[34m\u001b[1mTuner: \u001b[0mBest fitness metrics are {}\n",
      "\u001b[34m\u001b[1mTuner: \u001b[0mBest fitness model is runs\\classify\\train4\n",
      "\u001b[34m\u001b[1mTuner: \u001b[0mBest fitness hyperparameters are printed below.\n",
      "\n",
      "Printing '\u001b[1m\u001b[30mruns\\classify\\tune2\\best_hyperparameters.yaml\u001b[0m'\n",
      "\n",
      "lr0: 0.01\n",
      "lrf: 0.01\n",
      "momentum: 0.937\n",
      "weight_decay: 0.0005\n",
      "warmup_epochs: 3.0\n",
      "warmup_momentum: 0.8\n",
      "box: 7.5\n",
      "cls: 0.5\n",
      "dfl: 1.5\n",
      "hsv_h: 0.015\n",
      "hsv_s: 0.7\n",
      "hsv_v: 0.4\n",
      "degrees: 0.0\n",
      "translate: 0.1\n",
      "scale: 0.5\n",
      "shear: 0.0\n",
      "perspective: 0.0\n",
      "flipud: 0.0\n",
      "fliplr: 0.5\n",
      "bgr: 0.0\n",
      "mosaic: 1.0\n",
      "mixup: 0.0\n",
      "cutmix: 0.0\n",
      "copy_paste: 0.0\n",
      "\n",
      "\u001b[34m\u001b[1mTuner: \u001b[0mStarting iteration 13/30 with hyperparameters: {'lr0': 0.00937, 'lrf': 0.01025, 'momentum': 0.91587, 'weight_decay': 0.00053, 'warmup_epochs': 2.72122, 'warmup_momentum': 0.77539, 'box': 5.56689, 'cls': 0.41147, 'dfl': 1.76943, 'hsv_h': 0.0142, 'hsv_s': 0.48799, 'hsv_v': 0.43498, 'degrees': 0.0, 'translate': 0.07783, 'scale': 0.4548, 'shear': 0.0, 'perspective': 0.0, 'flipud': 0.0, 'fliplr': 0.66953, 'bgr': 0.0, 'mosaic': 0.8199, 'mixup': 0.0, 'cutmix': 0.0, 'copy_paste': 0.0}\n",
      "ERROR training failure for hyperparameter tuning iteration 13\n",
      "Command '['c:\\\\Users\\\\adelgado\\\\AppData\\\\Local\\\\Programs\\\\Python\\\\Python312\\\\python.exe', '-m', 'ultralytics.cfg.__init__', 'train', 'task=classify', 'mode=train', 'model=C:/Users/adelgado/Documents/Personal/Universidad/ML/Proyecto/runs/classify/train/weights/best.pt', 'data=/Users/adelgado/Documents/Personal/Universidad/ML/Proyecto/Data', 'epochs=30', 'time=None', 'patience=100', 'batch=16', 'imgsz=352', 'save=True', 'save_period=-1', 'cache=False', 'device=None', 'workers=8', 'project=None', 'name=None', 'exist_ok=False', 'pretrained=True', 'optimizer=AdamW', 'verbose=True', 'seed=0', 'deterministic=True', 'single_cls=False', 'rect=False', 'cos_lr=False', 'close_mosaic=10', 'resume=False', 'amp=True', 'fraction=1.0', 'profile=False', 'freeze=None', 'multi_scale=False', 'overlap_mask=True', 'mask_ratio=4', 'dropout=0.0', 'val=True', 'split=val', 'save_json=False', 'conf=None', 'iou=0.7', 'max_det=300', 'half=False', 'dnn=False', 'plots=True', 'source=None', 'vid_stride=1', 'stream_buffer=False', 'visualize=False', 'augment=False', 'agnostic_nms=False', 'classes=None', 'retina_masks=False', 'embed=None', 'show=False', 'save_frames=False', 'save_txt=False', 'save_conf=False', 'save_crop=False', 'show_labels=True', 'show_conf=True', 'show_boxes=True', 'line_width=None', 'format=torchscript', 'keras=False', 'optimize=False', 'int8=False', 'dynamic=False', 'simplify=True', 'opset=None', 'workspace=None', 'nms=False', 'lr0=0.00937', 'lrf=0.01025', 'momentum=0.91587', 'weight_decay=0.00053', 'warmup_epochs=2.72122', 'warmup_momentum=0.77539', 'warmup_bias_lr=0.1', 'box=5.56689', 'cls=0.41147', 'dfl=1.76943', 'pose=12.0', 'kobj=1.0', 'nbs=64', 'hsv_h=0.0142', 'hsv_s=0.48799', 'hsv_v=0.43498', 'degrees=0.0', 'translate=0.07783', 'scale=0.4548', 'shear=0.0', 'perspective=0.0', 'flipud=0.0', 'fliplr=0.66953', 'bgr=0.0', 'mosaic=0.8199', 'mixup=0.0', 'cutmix=0.0', 'copy_paste=0.0', 'copy_paste_mode=flip', 'auto_augment=randaugment', 'erasing=0.4', 'cfg=None', 'tracker=botsort.yaml']' returned non-zero exit status 1.\n",
      "Saved runs\\classify\\tune2\\tune_scatter_plots.png\n",
      "Saved runs\\classify\\tune2\\tune_fitness.png\n",
      "\n",
      "\u001b[34m\u001b[1mTuner: \u001b[0m13/30 iterations complete  (65.54s)\n",
      "\u001b[34m\u001b[1mTuner: \u001b[0mResults saved to \u001b[1mruns\\classify\\tune2\u001b[0m\n",
      "\u001b[34m\u001b[1mTuner: \u001b[0mBest fitness=0.0 observed at iteration 1\n",
      "\u001b[34m\u001b[1mTuner: \u001b[0mBest fitness metrics are {}\n",
      "\u001b[34m\u001b[1mTuner: \u001b[0mBest fitness model is runs\\classify\\train4\n",
      "\u001b[34m\u001b[1mTuner: \u001b[0mBest fitness hyperparameters are printed below.\n",
      "\n",
      "Printing '\u001b[1m\u001b[30mruns\\classify\\tune2\\best_hyperparameters.yaml\u001b[0m'\n",
      "\n",
      "lr0: 0.01\n",
      "lrf: 0.01\n",
      "momentum: 0.937\n",
      "weight_decay: 0.0005\n",
      "warmup_epochs: 3.0\n",
      "warmup_momentum: 0.8\n",
      "box: 7.5\n",
      "cls: 0.5\n",
      "dfl: 1.5\n",
      "hsv_h: 0.015\n",
      "hsv_s: 0.7\n",
      "hsv_v: 0.4\n",
      "degrees: 0.0\n",
      "translate: 0.1\n",
      "scale: 0.5\n",
      "shear: 0.0\n",
      "perspective: 0.0\n",
      "flipud: 0.0\n",
      "fliplr: 0.5\n",
      "bgr: 0.0\n",
      "mosaic: 1.0\n",
      "mixup: 0.0\n",
      "cutmix: 0.0\n",
      "copy_paste: 0.0\n",
      "\n",
      "\u001b[34m\u001b[1mTuner: \u001b[0mStarting iteration 14/30 with hyperparameters: {'lr0': 0.00956, 'lrf': 0.0106, 'momentum': 0.91705, 'weight_decay': 0.00052, 'warmup_epochs': 3.07116, 'warmup_momentum': 0.7257, 'box': 7.3536, 'cls': 0.44593, 'dfl': 1.52811, 'hsv_h': 0.01474, 'hsv_s': 0.76725, 'hsv_v': 0.39018, 'degrees': 0.0, 'translate': 0.09857, 'scale': 0.43044, 'shear': 0.0, 'perspective': 0.0, 'flipud': 0.0, 'fliplr': 0.52853, 'bgr': 0.0, 'mosaic': 1.0, 'mixup': 0.0, 'cutmix': 0.0, 'copy_paste': 0.0}\n",
      "ERROR training failure for hyperparameter tuning iteration 14\n",
      "Command '['c:\\\\Users\\\\adelgado\\\\AppData\\\\Local\\\\Programs\\\\Python\\\\Python312\\\\python.exe', '-m', 'ultralytics.cfg.__init__', 'train', 'task=classify', 'mode=train', 'model=C:/Users/adelgado/Documents/Personal/Universidad/ML/Proyecto/runs/classify/train/weights/best.pt', 'data=/Users/adelgado/Documents/Personal/Universidad/ML/Proyecto/Data', 'epochs=30', 'time=None', 'patience=100', 'batch=16', 'imgsz=352', 'save=True', 'save_period=-1', 'cache=False', 'device=None', 'workers=8', 'project=None', 'name=None', 'exist_ok=False', 'pretrained=True', 'optimizer=AdamW', 'verbose=True', 'seed=0', 'deterministic=True', 'single_cls=False', 'rect=False', 'cos_lr=False', 'close_mosaic=10', 'resume=False', 'amp=True', 'fraction=1.0', 'profile=False', 'freeze=None', 'multi_scale=False', 'overlap_mask=True', 'mask_ratio=4', 'dropout=0.0', 'val=True', 'split=val', 'save_json=False', 'conf=None', 'iou=0.7', 'max_det=300', 'half=False', 'dnn=False', 'plots=True', 'source=None', 'vid_stride=1', 'stream_buffer=False', 'visualize=False', 'augment=False', 'agnostic_nms=False', 'classes=None', 'retina_masks=False', 'embed=None', 'show=False', 'save_frames=False', 'save_txt=False', 'save_conf=False', 'save_crop=False', 'show_labels=True', 'show_conf=True', 'show_boxes=True', 'line_width=None', 'format=torchscript', 'keras=False', 'optimize=False', 'int8=False', 'dynamic=False', 'simplify=True', 'opset=None', 'workspace=None', 'nms=False', 'lr0=0.00956', 'lrf=0.0106', 'momentum=0.91705', 'weight_decay=0.00052', 'warmup_epochs=3.07116', 'warmup_momentum=0.7257', 'warmup_bias_lr=0.1', 'box=7.3536', 'cls=0.44593', 'dfl=1.52811', 'pose=12.0', 'kobj=1.0', 'nbs=64', 'hsv_h=0.01474', 'hsv_s=0.76725', 'hsv_v=0.39018', 'degrees=0.0', 'translate=0.09857', 'scale=0.43044', 'shear=0.0', 'perspective=0.0', 'flipud=0.0', 'fliplr=0.52853', 'bgr=0.0', 'mosaic=1.0', 'mixup=0.0', 'cutmix=0.0', 'copy_paste=0.0', 'copy_paste_mode=flip', 'auto_augment=randaugment', 'erasing=0.4', 'cfg=None', 'tracker=botsort.yaml']' returned non-zero exit status 1.\n",
      "Saved runs\\classify\\tune2\\tune_scatter_plots.png\n",
      "Saved runs\\classify\\tune2\\tune_fitness.png\n",
      "\n",
      "\u001b[34m\u001b[1mTuner: \u001b[0m14/30 iterations complete  (70.10s)\n",
      "\u001b[34m\u001b[1mTuner: \u001b[0mResults saved to \u001b[1mruns\\classify\\tune2\u001b[0m\n",
      "\u001b[34m\u001b[1mTuner: \u001b[0mBest fitness=0.0 observed at iteration 1\n",
      "\u001b[34m\u001b[1mTuner: \u001b[0mBest fitness metrics are {}\n",
      "\u001b[34m\u001b[1mTuner: \u001b[0mBest fitness model is runs\\classify\\train4\n",
      "\u001b[34m\u001b[1mTuner: \u001b[0mBest fitness hyperparameters are printed below.\n",
      "\n",
      "Printing '\u001b[1m\u001b[30mruns\\classify\\tune2\\best_hyperparameters.yaml\u001b[0m'\n",
      "\n",
      "lr0: 0.01\n",
      "lrf: 0.01\n",
      "momentum: 0.937\n",
      "weight_decay: 0.0005\n",
      "warmup_epochs: 3.0\n",
      "warmup_momentum: 0.8\n",
      "box: 7.5\n",
      "cls: 0.5\n",
      "dfl: 1.5\n",
      "hsv_h: 0.015\n",
      "hsv_s: 0.7\n",
      "hsv_v: 0.4\n",
      "degrees: 0.0\n",
      "translate: 0.1\n",
      "scale: 0.5\n",
      "shear: 0.0\n",
      "perspective: 0.0\n",
      "flipud: 0.0\n",
      "fliplr: 0.5\n",
      "bgr: 0.0\n",
      "mosaic: 1.0\n",
      "mixup: 0.0\n",
      "cutmix: 0.0\n",
      "copy_paste: 0.0\n",
      "\n",
      "\u001b[34m\u001b[1mTuner: \u001b[0mStarting iteration 15/30 with hyperparameters: {'lr0': 0.01035, 'lrf': 0.01083, 'momentum': 0.86565, 'weight_decay': 0.00047, 'warmup_epochs': 2.81609, 'warmup_momentum': 0.62351, 'box': 7.25631, 'cls': 0.4298, 'dfl': 1.63559, 'hsv_h': 0.01601, 'hsv_s': 0.76364, 'hsv_v': 0.40797, 'degrees': 0.0, 'translate': 0.07714, 'scale': 0.43626, 'shear': 0.0, 'perspective': 0.0, 'flipud': 0.0, 'fliplr': 0.40967, 'bgr': 0.0, 'mosaic': 1.0, 'mixup': 0.0, 'cutmix': 0.0, 'copy_paste': 0.0}\n",
      "ERROR training failure for hyperparameter tuning iteration 15\n",
      "Command '['c:\\\\Users\\\\adelgado\\\\AppData\\\\Local\\\\Programs\\\\Python\\\\Python312\\\\python.exe', '-m', 'ultralytics.cfg.__init__', 'train', 'task=classify', 'mode=train', 'model=C:/Users/adelgado/Documents/Personal/Universidad/ML/Proyecto/runs/classify/train/weights/best.pt', 'data=/Users/adelgado/Documents/Personal/Universidad/ML/Proyecto/Data', 'epochs=30', 'time=None', 'patience=100', 'batch=16', 'imgsz=352', 'save=True', 'save_period=-1', 'cache=False', 'device=None', 'workers=8', 'project=None', 'name=None', 'exist_ok=False', 'pretrained=True', 'optimizer=AdamW', 'verbose=True', 'seed=0', 'deterministic=True', 'single_cls=False', 'rect=False', 'cos_lr=False', 'close_mosaic=10', 'resume=False', 'amp=True', 'fraction=1.0', 'profile=False', 'freeze=None', 'multi_scale=False', 'overlap_mask=True', 'mask_ratio=4', 'dropout=0.0', 'val=True', 'split=val', 'save_json=False', 'conf=None', 'iou=0.7', 'max_det=300', 'half=False', 'dnn=False', 'plots=True', 'source=None', 'vid_stride=1', 'stream_buffer=False', 'visualize=False', 'augment=False', 'agnostic_nms=False', 'classes=None', 'retina_masks=False', 'embed=None', 'show=False', 'save_frames=False', 'save_txt=False', 'save_conf=False', 'save_crop=False', 'show_labels=True', 'show_conf=True', 'show_boxes=True', 'line_width=None', 'format=torchscript', 'keras=False', 'optimize=False', 'int8=False', 'dynamic=False', 'simplify=True', 'opset=None', 'workspace=None', 'nms=False', 'lr0=0.01035', 'lrf=0.01083', 'momentum=0.86565', 'weight_decay=0.00047', 'warmup_epochs=2.81609', 'warmup_momentum=0.62351', 'warmup_bias_lr=0.1', 'box=7.25631', 'cls=0.4298', 'dfl=1.63559', 'pose=12.0', 'kobj=1.0', 'nbs=64', 'hsv_h=0.01601', 'hsv_s=0.76364', 'hsv_v=0.40797', 'degrees=0.0', 'translate=0.07714', 'scale=0.43626', 'shear=0.0', 'perspective=0.0', 'flipud=0.0', 'fliplr=0.40967', 'bgr=0.0', 'mosaic=1.0', 'mixup=0.0', 'cutmix=0.0', 'copy_paste=0.0', 'copy_paste_mode=flip', 'auto_augment=randaugment', 'erasing=0.4', 'cfg=None', 'tracker=botsort.yaml']' returned non-zero exit status 1.\n",
      "Saved runs\\classify\\tune2\\tune_scatter_plots.png\n",
      "Saved runs\\classify\\tune2\\tune_fitness.png\n",
      "\n",
      "\u001b[34m\u001b[1mTuner: \u001b[0m15/30 iterations complete  (75.01s)\n",
      "\u001b[34m\u001b[1mTuner: \u001b[0mResults saved to \u001b[1mruns\\classify\\tune2\u001b[0m\n",
      "\u001b[34m\u001b[1mTuner: \u001b[0mBest fitness=0.0 observed at iteration 1\n",
      "\u001b[34m\u001b[1mTuner: \u001b[0mBest fitness metrics are {}\n",
      "\u001b[34m\u001b[1mTuner: \u001b[0mBest fitness model is runs\\classify\\train4\n",
      "\u001b[34m\u001b[1mTuner: \u001b[0mBest fitness hyperparameters are printed below.\n",
      "\n",
      "Printing '\u001b[1m\u001b[30mruns\\classify\\tune2\\best_hyperparameters.yaml\u001b[0m'\n",
      "\n",
      "lr0: 0.01\n",
      "lrf: 0.01\n",
      "momentum: 0.937\n",
      "weight_decay: 0.0005\n",
      "warmup_epochs: 3.0\n",
      "warmup_momentum: 0.8\n",
      "box: 7.5\n",
      "cls: 0.5\n",
      "dfl: 1.5\n",
      "hsv_h: 0.015\n",
      "hsv_s: 0.7\n",
      "hsv_v: 0.4\n",
      "degrees: 0.0\n",
      "translate: 0.1\n",
      "scale: 0.5\n",
      "shear: 0.0\n",
      "perspective: 0.0\n",
      "flipud: 0.0\n",
      "fliplr: 0.5\n",
      "bgr: 0.0\n",
      "mosaic: 1.0\n",
      "mixup: 0.0\n",
      "cutmix: 0.0\n",
      "copy_paste: 0.0\n",
      "\n",
      "\u001b[34m\u001b[1mTuner: \u001b[0mStarting iteration 16/30 with hyperparameters: {'lr0': 0.01009, 'lrf': 0.01163, 'momentum': 0.92942, 'weight_decay': 0.00053, 'warmup_epochs': 3.03547, 'warmup_momentum': 0.81234, 'box': 7.53032, 'cls': 0.48448, 'dfl': 1.39896, 'hsv_h': 0.01349, 'hsv_s': 0.76364, 'hsv_v': 0.39474, 'degrees': 0.0, 'translate': 0.11143, 'scale': 0.57207, 'shear': 0.0, 'perspective': 0.0, 'flipud': 0.0, 'fliplr': 0.5005, 'bgr': 0.0, 'mosaic': 1.0, 'mixup': 0.0, 'cutmix': 0.0, 'copy_paste': 0.0}\n",
      "ERROR training failure for hyperparameter tuning iteration 16\n",
      "Command '['c:\\\\Users\\\\adelgado\\\\AppData\\\\Local\\\\Programs\\\\Python\\\\Python312\\\\python.exe', '-m', 'ultralytics.cfg.__init__', 'train', 'task=classify', 'mode=train', 'model=C:/Users/adelgado/Documents/Personal/Universidad/ML/Proyecto/runs/classify/train/weights/best.pt', 'data=/Users/adelgado/Documents/Personal/Universidad/ML/Proyecto/Data', 'epochs=30', 'time=None', 'patience=100', 'batch=16', 'imgsz=352', 'save=True', 'save_period=-1', 'cache=False', 'device=None', 'workers=8', 'project=None', 'name=None', 'exist_ok=False', 'pretrained=True', 'optimizer=AdamW', 'verbose=True', 'seed=0', 'deterministic=True', 'single_cls=False', 'rect=False', 'cos_lr=False', 'close_mosaic=10', 'resume=False', 'amp=True', 'fraction=1.0', 'profile=False', 'freeze=None', 'multi_scale=False', 'overlap_mask=True', 'mask_ratio=4', 'dropout=0.0', 'val=True', 'split=val', 'save_json=False', 'conf=None', 'iou=0.7', 'max_det=300', 'half=False', 'dnn=False', 'plots=True', 'source=None', 'vid_stride=1', 'stream_buffer=False', 'visualize=False', 'augment=False', 'agnostic_nms=False', 'classes=None', 'retina_masks=False', 'embed=None', 'show=False', 'save_frames=False', 'save_txt=False', 'save_conf=False', 'save_crop=False', 'show_labels=True', 'show_conf=True', 'show_boxes=True', 'line_width=None', 'format=torchscript', 'keras=False', 'optimize=False', 'int8=False', 'dynamic=False', 'simplify=True', 'opset=None', 'workspace=None', 'nms=False', 'lr0=0.01009', 'lrf=0.01163', 'momentum=0.92942', 'weight_decay=0.00053', 'warmup_epochs=3.03547', 'warmup_momentum=0.81234', 'warmup_bias_lr=0.1', 'box=7.53032', 'cls=0.48448', 'dfl=1.39896', 'pose=12.0', 'kobj=1.0', 'nbs=64', 'hsv_h=0.01349', 'hsv_s=0.76364', 'hsv_v=0.39474', 'degrees=0.0', 'translate=0.11143', 'scale=0.57207', 'shear=0.0', 'perspective=0.0', 'flipud=0.0', 'fliplr=0.5005', 'bgr=0.0', 'mosaic=1.0', 'mixup=0.0', 'cutmix=0.0', 'copy_paste=0.0', 'copy_paste_mode=flip', 'auto_augment=randaugment', 'erasing=0.4', 'cfg=None', 'tracker=botsort.yaml']' returned non-zero exit status 1.\n",
      "Saved runs\\classify\\tune2\\tune_scatter_plots.png\n",
      "Saved runs\\classify\\tune2\\tune_fitness.png\n",
      "\n",
      "\u001b[34m\u001b[1mTuner: \u001b[0m16/30 iterations complete  (79.70s)\n",
      "\u001b[34m\u001b[1mTuner: \u001b[0mResults saved to \u001b[1mruns\\classify\\tune2\u001b[0m\n",
      "\u001b[34m\u001b[1mTuner: \u001b[0mBest fitness=0.0 observed at iteration 1\n",
      "\u001b[34m\u001b[1mTuner: \u001b[0mBest fitness metrics are {}\n",
      "\u001b[34m\u001b[1mTuner: \u001b[0mBest fitness model is runs\\classify\\train4\n",
      "\u001b[34m\u001b[1mTuner: \u001b[0mBest fitness hyperparameters are printed below.\n",
      "\n",
      "Printing '\u001b[1m\u001b[30mruns\\classify\\tune2\\best_hyperparameters.yaml\u001b[0m'\n",
      "\n",
      "lr0: 0.01\n",
      "lrf: 0.01\n",
      "momentum: 0.937\n",
      "weight_decay: 0.0005\n",
      "warmup_epochs: 3.0\n",
      "warmup_momentum: 0.8\n",
      "box: 7.5\n",
      "cls: 0.5\n",
      "dfl: 1.5\n",
      "hsv_h: 0.015\n",
      "hsv_s: 0.7\n",
      "hsv_v: 0.4\n",
      "degrees: 0.0\n",
      "translate: 0.1\n",
      "scale: 0.5\n",
      "shear: 0.0\n",
      "perspective: 0.0\n",
      "flipud: 0.0\n",
      "fliplr: 0.5\n",
      "bgr: 0.0\n",
      "mosaic: 1.0\n",
      "mixup: 0.0\n",
      "cutmix: 0.0\n",
      "copy_paste: 0.0\n",
      "\n",
      "\u001b[34m\u001b[1mTuner: \u001b[0mStarting iteration 17/30 with hyperparameters: {'lr0': 0.01053, 'lrf': 0.00857, 'momentum': 0.98, 'weight_decay': 0.00053, 'warmup_epochs': 3.10591, 'warmup_momentum': 0.63457, 'box': 7.24312, 'cls': 0.29246, 'dfl': 1.65386, 'hsv_h': 0.0175, 'hsv_s': 0.59625, 'hsv_v': 0.39474, 'degrees': 0.0, 'translate': 0.09554, 'scale': 0.43906, 'shear': 0.0, 'perspective': 0.0, 'flipud': 0.0, 'fliplr': 0.54644, 'bgr': 0.0, 'mosaic': 1.0, 'mixup': 0.0, 'cutmix': 0.0, 'copy_paste': 0.0}\n",
      "ERROR training failure for hyperparameter tuning iteration 17\n",
      "Command '['c:\\\\Users\\\\adelgado\\\\AppData\\\\Local\\\\Programs\\\\Python\\\\Python312\\\\python.exe', '-m', 'ultralytics.cfg.__init__', 'train', 'task=classify', 'mode=train', 'model=C:/Users/adelgado/Documents/Personal/Universidad/ML/Proyecto/runs/classify/train/weights/best.pt', 'data=/Users/adelgado/Documents/Personal/Universidad/ML/Proyecto/Data', 'epochs=30', 'time=None', 'patience=100', 'batch=16', 'imgsz=352', 'save=True', 'save_period=-1', 'cache=False', 'device=None', 'workers=8', 'project=None', 'name=None', 'exist_ok=False', 'pretrained=True', 'optimizer=AdamW', 'verbose=True', 'seed=0', 'deterministic=True', 'single_cls=False', 'rect=False', 'cos_lr=False', 'close_mosaic=10', 'resume=False', 'amp=True', 'fraction=1.0', 'profile=False', 'freeze=None', 'multi_scale=False', 'overlap_mask=True', 'mask_ratio=4', 'dropout=0.0', 'val=True', 'split=val', 'save_json=False', 'conf=None', 'iou=0.7', 'max_det=300', 'half=False', 'dnn=False', 'plots=True', 'source=None', 'vid_stride=1', 'stream_buffer=False', 'visualize=False', 'augment=False', 'agnostic_nms=False', 'classes=None', 'retina_masks=False', 'embed=None', 'show=False', 'save_frames=False', 'save_txt=False', 'save_conf=False', 'save_crop=False', 'show_labels=True', 'show_conf=True', 'show_boxes=True', 'line_width=None', 'format=torchscript', 'keras=False', 'optimize=False', 'int8=False', 'dynamic=False', 'simplify=True', 'opset=None', 'workspace=None', 'nms=False', 'lr0=0.01053', 'lrf=0.00857', 'momentum=0.98', 'weight_decay=0.00053', 'warmup_epochs=3.10591', 'warmup_momentum=0.63457', 'warmup_bias_lr=0.1', 'box=7.24312', 'cls=0.29246', 'dfl=1.65386', 'pose=12.0', 'kobj=1.0', 'nbs=64', 'hsv_h=0.0175', 'hsv_s=0.59625', 'hsv_v=0.39474', 'degrees=0.0', 'translate=0.09554', 'scale=0.43906', 'shear=0.0', 'perspective=0.0', 'flipud=0.0', 'fliplr=0.54644', 'bgr=0.0', 'mosaic=1.0', 'mixup=0.0', 'cutmix=0.0', 'copy_paste=0.0', 'copy_paste_mode=flip', 'auto_augment=randaugment', 'erasing=0.4', 'cfg=None', 'tracker=botsort.yaml']' returned non-zero exit status 1.\n",
      "Saved runs\\classify\\tune2\\tune_scatter_plots.png\n",
      "Saved runs\\classify\\tune2\\tune_fitness.png\n",
      "\n",
      "\u001b[34m\u001b[1mTuner: \u001b[0m17/30 iterations complete  (85.67s)\n",
      "\u001b[34m\u001b[1mTuner: \u001b[0mResults saved to \u001b[1mruns\\classify\\tune2\u001b[0m\n",
      "\u001b[34m\u001b[1mTuner: \u001b[0mBest fitness=0.0 observed at iteration 1\n",
      "\u001b[34m\u001b[1mTuner: \u001b[0mBest fitness metrics are {}\n",
      "\u001b[34m\u001b[1mTuner: \u001b[0mBest fitness model is runs\\classify\\train4\n",
      "\u001b[34m\u001b[1mTuner: \u001b[0mBest fitness hyperparameters are printed below.\n",
      "\n",
      "Printing '\u001b[1m\u001b[30mruns\\classify\\tune2\\best_hyperparameters.yaml\u001b[0m'\n",
      "\n",
      "lr0: 0.01\n",
      "lrf: 0.01\n",
      "momentum: 0.937\n",
      "weight_decay: 0.0005\n",
      "warmup_epochs: 3.0\n",
      "warmup_momentum: 0.8\n",
      "box: 7.5\n",
      "cls: 0.5\n",
      "dfl: 1.5\n",
      "hsv_h: 0.015\n",
      "hsv_s: 0.7\n",
      "hsv_v: 0.4\n",
      "degrees: 0.0\n",
      "translate: 0.1\n",
      "scale: 0.5\n",
      "shear: 0.0\n",
      "perspective: 0.0\n",
      "flipud: 0.0\n",
      "fliplr: 0.5\n",
      "bgr: 0.0\n",
      "mosaic: 1.0\n",
      "mixup: 0.0\n",
      "cutmix: 0.0\n",
      "copy_paste: 0.0\n",
      "\n",
      "\u001b[34m\u001b[1mTuner: \u001b[0mStarting iteration 18/30 with hyperparameters: {'lr0': 0.00968, 'lrf': 0.01042, 'momentum': 0.91394, 'weight_decay': 0.00054, 'warmup_epochs': 3.10591, 'warmup_momentum': 0.72693, 'box': 7.36252, 'cls': 0.43115, 'dfl': 1.39637, 'hsv_h': 0.01411, 'hsv_s': 0.76011, 'hsv_v': 0.40004, 'degrees': 0.0, 'translate': 0.10258, 'scale': 0.45224, 'shear': 0.0, 'perspective': 0.0, 'flipud': 0.0, 'fliplr': 0.51212, 'bgr': 0.0, 'mosaic': 0.95201, 'mixup': 0.0, 'cutmix': 0.0, 'copy_paste': 0.0}\n",
      "ERROR training failure for hyperparameter tuning iteration 18\n",
      "Command '['c:\\\\Users\\\\adelgado\\\\AppData\\\\Local\\\\Programs\\\\Python\\\\Python312\\\\python.exe', '-m', 'ultralytics.cfg.__init__', 'train', 'task=classify', 'mode=train', 'model=C:/Users/adelgado/Documents/Personal/Universidad/ML/Proyecto/runs/classify/train/weights/best.pt', 'data=/Users/adelgado/Documents/Personal/Universidad/ML/Proyecto/Data', 'epochs=30', 'time=None', 'patience=100', 'batch=16', 'imgsz=352', 'save=True', 'save_period=-1', 'cache=False', 'device=None', 'workers=8', 'project=None', 'name=None', 'exist_ok=False', 'pretrained=True', 'optimizer=AdamW', 'verbose=True', 'seed=0', 'deterministic=True', 'single_cls=False', 'rect=False', 'cos_lr=False', 'close_mosaic=10', 'resume=False', 'amp=True', 'fraction=1.0', 'profile=False', 'freeze=None', 'multi_scale=False', 'overlap_mask=True', 'mask_ratio=4', 'dropout=0.0', 'val=True', 'split=val', 'save_json=False', 'conf=None', 'iou=0.7', 'max_det=300', 'half=False', 'dnn=False', 'plots=True', 'source=None', 'vid_stride=1', 'stream_buffer=False', 'visualize=False', 'augment=False', 'agnostic_nms=False', 'classes=None', 'retina_masks=False', 'embed=None', 'show=False', 'save_frames=False', 'save_txt=False', 'save_conf=False', 'save_crop=False', 'show_labels=True', 'show_conf=True', 'show_boxes=True', 'line_width=None', 'format=torchscript', 'keras=False', 'optimize=False', 'int8=False', 'dynamic=False', 'simplify=True', 'opset=None', 'workspace=None', 'nms=False', 'lr0=0.00968', 'lrf=0.01042', 'momentum=0.91394', 'weight_decay=0.00054', 'warmup_epochs=3.10591', 'warmup_momentum=0.72693', 'warmup_bias_lr=0.1', 'box=7.36252', 'cls=0.43115', 'dfl=1.39637', 'pose=12.0', 'kobj=1.0', 'nbs=64', 'hsv_h=0.01411', 'hsv_s=0.76011', 'hsv_v=0.40004', 'degrees=0.0', 'translate=0.10258', 'scale=0.45224', 'shear=0.0', 'perspective=0.0', 'flipud=0.0', 'fliplr=0.51212', 'bgr=0.0', 'mosaic=0.95201', 'mixup=0.0', 'cutmix=0.0', 'copy_paste=0.0', 'copy_paste_mode=flip', 'auto_augment=randaugment', 'erasing=0.4', 'cfg=None', 'tracker=botsort.yaml']' returned non-zero exit status 1.\n",
      "Saved runs\\classify\\tune2\\tune_scatter_plots.png\n",
      "Saved runs\\classify\\tune2\\tune_fitness.png\n",
      "\n",
      "\u001b[34m\u001b[1mTuner: \u001b[0m18/30 iterations complete  (90.38s)\n",
      "\u001b[34m\u001b[1mTuner: \u001b[0mResults saved to \u001b[1mruns\\classify\\tune2\u001b[0m\n",
      "\u001b[34m\u001b[1mTuner: \u001b[0mBest fitness=0.0 observed at iteration 1\n",
      "\u001b[34m\u001b[1mTuner: \u001b[0mBest fitness metrics are {}\n",
      "\u001b[34m\u001b[1mTuner: \u001b[0mBest fitness model is runs\\classify\\train4\n",
      "\u001b[34m\u001b[1mTuner: \u001b[0mBest fitness hyperparameters are printed below.\n",
      "\n",
      "Printing '\u001b[1m\u001b[30mruns\\classify\\tune2\\best_hyperparameters.yaml\u001b[0m'\n",
      "\n",
      "lr0: 0.01\n",
      "lrf: 0.01\n",
      "momentum: 0.937\n",
      "weight_decay: 0.0005\n",
      "warmup_epochs: 3.0\n",
      "warmup_momentum: 0.8\n",
      "box: 7.5\n",
      "cls: 0.5\n",
      "dfl: 1.5\n",
      "hsv_h: 0.015\n",
      "hsv_s: 0.7\n",
      "hsv_v: 0.4\n",
      "degrees: 0.0\n",
      "translate: 0.1\n",
      "scale: 0.5\n",
      "shear: 0.0\n",
      "perspective: 0.0\n",
      "flipud: 0.0\n",
      "fliplr: 0.5\n",
      "bgr: 0.0\n",
      "mosaic: 1.0\n",
      "mixup: 0.0\n",
      "cutmix: 0.0\n",
      "copy_paste: 0.0\n",
      "\n",
      "\u001b[34m\u001b[1mTuner: \u001b[0mStarting iteration 19/30 with hyperparameters: {'lr0': 0.00887, 'lrf': 0.00991, 'momentum': 0.96263, 'weight_decay': 0.00049, 'warmup_epochs': 2.73446, 'warmup_momentum': 0.80755, 'box': 7.41793, 'cls': 0.44829, 'dfl': 1.95792, 'hsv_h': 0.01518, 'hsv_s': 0.65161, 'hsv_v': 0.31626, 'degrees': 0.0, 'translate': 0.09471, 'scale': 0.42751, 'shear': 0.0, 'perspective': 0.0, 'flipud': 0.0, 'fliplr': 0.67642, 'bgr': 0.0, 'mosaic': 0.90173, 'mixup': 0.0, 'cutmix': 0.0, 'copy_paste': 0.0}\n",
      "ERROR training failure for hyperparameter tuning iteration 19\n",
      "Command '['c:\\\\Users\\\\adelgado\\\\AppData\\\\Local\\\\Programs\\\\Python\\\\Python312\\\\python.exe', '-m', 'ultralytics.cfg.__init__', 'train', 'task=classify', 'mode=train', 'model=C:/Users/adelgado/Documents/Personal/Universidad/ML/Proyecto/runs/classify/train/weights/best.pt', 'data=/Users/adelgado/Documents/Personal/Universidad/ML/Proyecto/Data', 'epochs=30', 'time=None', 'patience=100', 'batch=16', 'imgsz=352', 'save=True', 'save_period=-1', 'cache=False', 'device=None', 'workers=8', 'project=None', 'name=None', 'exist_ok=False', 'pretrained=True', 'optimizer=AdamW', 'verbose=True', 'seed=0', 'deterministic=True', 'single_cls=False', 'rect=False', 'cos_lr=False', 'close_mosaic=10', 'resume=False', 'amp=True', 'fraction=1.0', 'profile=False', 'freeze=None', 'multi_scale=False', 'overlap_mask=True', 'mask_ratio=4', 'dropout=0.0', 'val=True', 'split=val', 'save_json=False', 'conf=None', 'iou=0.7', 'max_det=300', 'half=False', 'dnn=False', 'plots=True', 'source=None', 'vid_stride=1', 'stream_buffer=False', 'visualize=False', 'augment=False', 'agnostic_nms=False', 'classes=None', 'retina_masks=False', 'embed=None', 'show=False', 'save_frames=False', 'save_txt=False', 'save_conf=False', 'save_crop=False', 'show_labels=True', 'show_conf=True', 'show_boxes=True', 'line_width=None', 'format=torchscript', 'keras=False', 'optimize=False', 'int8=False', 'dynamic=False', 'simplify=True', 'opset=None', 'workspace=None', 'nms=False', 'lr0=0.00887', 'lrf=0.00991', 'momentum=0.96263', 'weight_decay=0.00049', 'warmup_epochs=2.73446', 'warmup_momentum=0.80755', 'warmup_bias_lr=0.1', 'box=7.41793', 'cls=0.44829', 'dfl=1.95792', 'pose=12.0', 'kobj=1.0', 'nbs=64', 'hsv_h=0.01518', 'hsv_s=0.65161', 'hsv_v=0.31626', 'degrees=0.0', 'translate=0.09471', 'scale=0.42751', 'shear=0.0', 'perspective=0.0', 'flipud=0.0', 'fliplr=0.67642', 'bgr=0.0', 'mosaic=0.90173', 'mixup=0.0', 'cutmix=0.0', 'copy_paste=0.0', 'copy_paste_mode=flip', 'auto_augment=randaugment', 'erasing=0.4', 'cfg=None', 'tracker=botsort.yaml']' returned non-zero exit status 1.\n",
      "Saved runs\\classify\\tune2\\tune_scatter_plots.png\n",
      "Saved runs\\classify\\tune2\\tune_fitness.png\n",
      "\n",
      "\u001b[34m\u001b[1mTuner: \u001b[0m19/30 iterations complete  (94.93s)\n",
      "\u001b[34m\u001b[1mTuner: \u001b[0mResults saved to \u001b[1mruns\\classify\\tune2\u001b[0m\n",
      "\u001b[34m\u001b[1mTuner: \u001b[0mBest fitness=0.0 observed at iteration 1\n",
      "\u001b[34m\u001b[1mTuner: \u001b[0mBest fitness metrics are {}\n",
      "\u001b[34m\u001b[1mTuner: \u001b[0mBest fitness model is runs\\classify\\train4\n",
      "\u001b[34m\u001b[1mTuner: \u001b[0mBest fitness hyperparameters are printed below.\n",
      "\n",
      "Printing '\u001b[1m\u001b[30mruns\\classify\\tune2\\best_hyperparameters.yaml\u001b[0m'\n",
      "\n",
      "lr0: 0.01\n",
      "lrf: 0.01\n",
      "momentum: 0.937\n",
      "weight_decay: 0.0005\n",
      "warmup_epochs: 3.0\n",
      "warmup_momentum: 0.8\n",
      "box: 7.5\n",
      "cls: 0.5\n",
      "dfl: 1.5\n",
      "hsv_h: 0.015\n",
      "hsv_s: 0.7\n",
      "hsv_v: 0.4\n",
      "degrees: 0.0\n",
      "translate: 0.1\n",
      "scale: 0.5\n",
      "shear: 0.0\n",
      "perspective: 0.0\n",
      "flipud: 0.0\n",
      "fliplr: 0.5\n",
      "bgr: 0.0\n",
      "mosaic: 1.0\n",
      "mixup: 0.0\n",
      "cutmix: 0.0\n",
      "copy_paste: 0.0\n",
      "\n",
      "\u001b[34m\u001b[1mTuner: \u001b[0mStarting iteration 20/30 with hyperparameters: {'lr0': 0.01029, 'lrf': 0.01003, 'momentum': 0.91394, 'weight_decay': 0.00053, 'warmup_epochs': 3.10074, 'warmup_momentum': 0.70563, 'box': 7.26401, 'cls': 0.47111, 'dfl': 1.50155, 'hsv_h': 0.01508, 'hsv_s': 0.70108, 'hsv_v': 0.38616, 'degrees': 0.0, 'translate': 0.09161, 'scale': 0.43101, 'shear': 0.0, 'perspective': 0.0, 'flipud': 0.0, 'fliplr': 0.58384, 'bgr': 0.0, 'mosaic': 1.0, 'mixup': 0.0, 'cutmix': 0.0, 'copy_paste': 0.0}\n",
      "ERROR training failure for hyperparameter tuning iteration 20\n",
      "Command '['c:\\\\Users\\\\adelgado\\\\AppData\\\\Local\\\\Programs\\\\Python\\\\Python312\\\\python.exe', '-m', 'ultralytics.cfg.__init__', 'train', 'task=classify', 'mode=train', 'model=C:/Users/adelgado/Documents/Personal/Universidad/ML/Proyecto/runs/classify/train/weights/best.pt', 'data=/Users/adelgado/Documents/Personal/Universidad/ML/Proyecto/Data', 'epochs=30', 'time=None', 'patience=100', 'batch=16', 'imgsz=352', 'save=True', 'save_period=-1', 'cache=False', 'device=None', 'workers=8', 'project=None', 'name=None', 'exist_ok=False', 'pretrained=True', 'optimizer=AdamW', 'verbose=True', 'seed=0', 'deterministic=True', 'single_cls=False', 'rect=False', 'cos_lr=False', 'close_mosaic=10', 'resume=False', 'amp=True', 'fraction=1.0', 'profile=False', 'freeze=None', 'multi_scale=False', 'overlap_mask=True', 'mask_ratio=4', 'dropout=0.0', 'val=True', 'split=val', 'save_json=False', 'conf=None', 'iou=0.7', 'max_det=300', 'half=False', 'dnn=False', 'plots=True', 'source=None', 'vid_stride=1', 'stream_buffer=False', 'visualize=False', 'augment=False', 'agnostic_nms=False', 'classes=None', 'retina_masks=False', 'embed=None', 'show=False', 'save_frames=False', 'save_txt=False', 'save_conf=False', 'save_crop=False', 'show_labels=True', 'show_conf=True', 'show_boxes=True', 'line_width=None', 'format=torchscript', 'keras=False', 'optimize=False', 'int8=False', 'dynamic=False', 'simplify=True', 'opset=None', 'workspace=None', 'nms=False', 'lr0=0.01029', 'lrf=0.01003', 'momentum=0.91394', 'weight_decay=0.00053', 'warmup_epochs=3.10074', 'warmup_momentum=0.70563', 'warmup_bias_lr=0.1', 'box=7.26401', 'cls=0.47111', 'dfl=1.50155', 'pose=12.0', 'kobj=1.0', 'nbs=64', 'hsv_h=0.01508', 'hsv_s=0.70108', 'hsv_v=0.38616', 'degrees=0.0', 'translate=0.09161', 'scale=0.43101', 'shear=0.0', 'perspective=0.0', 'flipud=0.0', 'fliplr=0.58384', 'bgr=0.0', 'mosaic=1.0', 'mixup=0.0', 'cutmix=0.0', 'copy_paste=0.0', 'copy_paste_mode=flip', 'auto_augment=randaugment', 'erasing=0.4', 'cfg=None', 'tracker=botsort.yaml']' returned non-zero exit status 1.\n",
      "Saved runs\\classify\\tune2\\tune_scatter_plots.png\n",
      "Saved runs\\classify\\tune2\\tune_fitness.png\n",
      "\n",
      "\u001b[34m\u001b[1mTuner: \u001b[0m20/30 iterations complete  (99.33s)\n",
      "\u001b[34m\u001b[1mTuner: \u001b[0mResults saved to \u001b[1mruns\\classify\\tune2\u001b[0m\n",
      "\u001b[34m\u001b[1mTuner: \u001b[0mBest fitness=0.0 observed at iteration 1\n",
      "\u001b[34m\u001b[1mTuner: \u001b[0mBest fitness metrics are {}\n",
      "\u001b[34m\u001b[1mTuner: \u001b[0mBest fitness model is runs\\classify\\train4\n",
      "\u001b[34m\u001b[1mTuner: \u001b[0mBest fitness hyperparameters are printed below.\n",
      "\n",
      "Printing '\u001b[1m\u001b[30mruns\\classify\\tune2\\best_hyperparameters.yaml\u001b[0m'\n",
      "\n",
      "lr0: 0.01\n",
      "lrf: 0.01\n",
      "momentum: 0.937\n",
      "weight_decay: 0.0005\n",
      "warmup_epochs: 3.0\n",
      "warmup_momentum: 0.8\n",
      "box: 7.5\n",
      "cls: 0.5\n",
      "dfl: 1.5\n",
      "hsv_h: 0.015\n",
      "hsv_s: 0.7\n",
      "hsv_v: 0.4\n",
      "degrees: 0.0\n",
      "translate: 0.1\n",
      "scale: 0.5\n",
      "shear: 0.0\n",
      "perspective: 0.0\n",
      "flipud: 0.0\n",
      "fliplr: 0.5\n",
      "bgr: 0.0\n",
      "mosaic: 1.0\n",
      "mixup: 0.0\n",
      "cutmix: 0.0\n",
      "copy_paste: 0.0\n",
      "\n",
      "\u001b[34m\u001b[1mTuner: \u001b[0mStarting iteration 21/30 with hyperparameters: {'lr0': 0.00951, 'lrf': 0.0106, 'momentum': 0.91862, 'weight_decay': 0.00053, 'warmup_epochs': 3.08667, 'warmup_momentum': 0.75011, 'box': 7.27226, 'cls': 0.44794, 'dfl': 1.44818, 'hsv_h': 0.01519, 'hsv_s': 0.77823, 'hsv_v': 0.39935, 'degrees': 0.0, 'translate': 0.10076, 'scale': 0.43539, 'shear': 0.0, 'perspective': 0.0, 'flipud': 0.0, 'fliplr': 0.53107, 'bgr': 0.0, 'mosaic': 1.0, 'mixup': 0.0, 'cutmix': 0.0, 'copy_paste': 0.0}\n",
      "ERROR training failure for hyperparameter tuning iteration 21\n",
      "Command '['c:\\\\Users\\\\adelgado\\\\AppData\\\\Local\\\\Programs\\\\Python\\\\Python312\\\\python.exe', '-m', 'ultralytics.cfg.__init__', 'train', 'task=classify', 'mode=train', 'model=C:/Users/adelgado/Documents/Personal/Universidad/ML/Proyecto/runs/classify/train/weights/best.pt', 'data=/Users/adelgado/Documents/Personal/Universidad/ML/Proyecto/Data', 'epochs=30', 'time=None', 'patience=100', 'batch=16', 'imgsz=352', 'save=True', 'save_period=-1', 'cache=False', 'device=None', 'workers=8', 'project=None', 'name=None', 'exist_ok=False', 'pretrained=True', 'optimizer=AdamW', 'verbose=True', 'seed=0', 'deterministic=True', 'single_cls=False', 'rect=False', 'cos_lr=False', 'close_mosaic=10', 'resume=False', 'amp=True', 'fraction=1.0', 'profile=False', 'freeze=None', 'multi_scale=False', 'overlap_mask=True', 'mask_ratio=4', 'dropout=0.0', 'val=True', 'split=val', 'save_json=False', 'conf=None', 'iou=0.7', 'max_det=300', 'half=False', 'dnn=False', 'plots=True', 'source=None', 'vid_stride=1', 'stream_buffer=False', 'visualize=False', 'augment=False', 'agnostic_nms=False', 'classes=None', 'retina_masks=False', 'embed=None', 'show=False', 'save_frames=False', 'save_txt=False', 'save_conf=False', 'save_crop=False', 'show_labels=True', 'show_conf=True', 'show_boxes=True', 'line_width=None', 'format=torchscript', 'keras=False', 'optimize=False', 'int8=False', 'dynamic=False', 'simplify=True', 'opset=None', 'workspace=None', 'nms=False', 'lr0=0.00951', 'lrf=0.0106', 'momentum=0.91862', 'weight_decay=0.00053', 'warmup_epochs=3.08667', 'warmup_momentum=0.75011', 'warmup_bias_lr=0.1', 'box=7.27226', 'cls=0.44794', 'dfl=1.44818', 'pose=12.0', 'kobj=1.0', 'nbs=64', 'hsv_h=0.01519', 'hsv_s=0.77823', 'hsv_v=0.39935', 'degrees=0.0', 'translate=0.10076', 'scale=0.43539', 'shear=0.0', 'perspective=0.0', 'flipud=0.0', 'fliplr=0.53107', 'bgr=0.0', 'mosaic=1.0', 'mixup=0.0', 'cutmix=0.0', 'copy_paste=0.0', 'copy_paste_mode=flip', 'auto_augment=randaugment', 'erasing=0.4', 'cfg=None', 'tracker=botsort.yaml']' returned non-zero exit status 1.\n",
      "Saved runs\\classify\\tune2\\tune_scatter_plots.png\n",
      "Saved runs\\classify\\tune2\\tune_fitness.png\n",
      "\n",
      "\u001b[34m\u001b[1mTuner: \u001b[0m21/30 iterations complete  (103.88s)\n",
      "\u001b[34m\u001b[1mTuner: \u001b[0mResults saved to \u001b[1mruns\\classify\\tune2\u001b[0m\n",
      "\u001b[34m\u001b[1mTuner: \u001b[0mBest fitness=0.0 observed at iteration 1\n",
      "\u001b[34m\u001b[1mTuner: \u001b[0mBest fitness metrics are {}\n",
      "\u001b[34m\u001b[1mTuner: \u001b[0mBest fitness model is runs\\classify\\train4\n",
      "\u001b[34m\u001b[1mTuner: \u001b[0mBest fitness hyperparameters are printed below.\n",
      "\n",
      "Printing '\u001b[1m\u001b[30mruns\\classify\\tune2\\best_hyperparameters.yaml\u001b[0m'\n",
      "\n",
      "lr0: 0.01\n",
      "lrf: 0.01\n",
      "momentum: 0.937\n",
      "weight_decay: 0.0005\n",
      "warmup_epochs: 3.0\n",
      "warmup_momentum: 0.8\n",
      "box: 7.5\n",
      "cls: 0.5\n",
      "dfl: 1.5\n",
      "hsv_h: 0.015\n",
      "hsv_s: 0.7\n",
      "hsv_v: 0.4\n",
      "degrees: 0.0\n",
      "translate: 0.1\n",
      "scale: 0.5\n",
      "shear: 0.0\n",
      "perspective: 0.0\n",
      "flipud: 0.0\n",
      "fliplr: 0.5\n",
      "bgr: 0.0\n",
      "mosaic: 1.0\n",
      "mixup: 0.0\n",
      "cutmix: 0.0\n",
      "copy_paste: 0.0\n",
      "\n",
      "\u001b[34m\u001b[1mTuner: \u001b[0mStarting iteration 22/30 with hyperparameters: {'lr0': 0.01033, 'lrf': 0.00946, 'momentum': 0.90084, 'weight_decay': 0.00054, 'warmup_epochs': 3.10591, 'warmup_momentum': 0.81339, 'box': 7.25685, 'cls': 0.42904, 'dfl': 1.39365, 'hsv_h': 0.0146, 'hsv_s': 0.76997, 'hsv_v': 0.41191, 'degrees': 0.0, 'translate': 0.09482, 'scale': 0.42218, 'shear': 0.0, 'perspective': 0.0, 'flipud': 0.0, 'fliplr': 0.53482, 'bgr': 0.0, 'mosaic': 0.9848, 'mixup': 0.0, 'cutmix': 0.0, 'copy_paste': 0.0}\n",
      "ERROR training failure for hyperparameter tuning iteration 22\n",
      "Command '['c:\\\\Users\\\\adelgado\\\\AppData\\\\Local\\\\Programs\\\\Python\\\\Python312\\\\python.exe', '-m', 'ultralytics.cfg.__init__', 'train', 'task=classify', 'mode=train', 'model=C:/Users/adelgado/Documents/Personal/Universidad/ML/Proyecto/runs/classify/train/weights/best.pt', 'data=/Users/adelgado/Documents/Personal/Universidad/ML/Proyecto/Data', 'epochs=30', 'time=None', 'patience=100', 'batch=16', 'imgsz=352', 'save=True', 'save_period=-1', 'cache=False', 'device=None', 'workers=8', 'project=None', 'name=None', 'exist_ok=False', 'pretrained=True', 'optimizer=AdamW', 'verbose=True', 'seed=0', 'deterministic=True', 'single_cls=False', 'rect=False', 'cos_lr=False', 'close_mosaic=10', 'resume=False', 'amp=True', 'fraction=1.0', 'profile=False', 'freeze=None', 'multi_scale=False', 'overlap_mask=True', 'mask_ratio=4', 'dropout=0.0', 'val=True', 'split=val', 'save_json=False', 'conf=None', 'iou=0.7', 'max_det=300', 'half=False', 'dnn=False', 'plots=True', 'source=None', 'vid_stride=1', 'stream_buffer=False', 'visualize=False', 'augment=False', 'agnostic_nms=False', 'classes=None', 'retina_masks=False', 'embed=None', 'show=False', 'save_frames=False', 'save_txt=False', 'save_conf=False', 'save_crop=False', 'show_labels=True', 'show_conf=True', 'show_boxes=True', 'line_width=None', 'format=torchscript', 'keras=False', 'optimize=False', 'int8=False', 'dynamic=False', 'simplify=True', 'opset=None', 'workspace=None', 'nms=False', 'lr0=0.01033', 'lrf=0.00946', 'momentum=0.90084', 'weight_decay=0.00054', 'warmup_epochs=3.10591', 'warmup_momentum=0.81339', 'warmup_bias_lr=0.1', 'box=7.25685', 'cls=0.42904', 'dfl=1.39365', 'pose=12.0', 'kobj=1.0', 'nbs=64', 'hsv_h=0.0146', 'hsv_s=0.76997', 'hsv_v=0.41191', 'degrees=0.0', 'translate=0.09482', 'scale=0.42218', 'shear=0.0', 'perspective=0.0', 'flipud=0.0', 'fliplr=0.53482', 'bgr=0.0', 'mosaic=0.9848', 'mixup=0.0', 'cutmix=0.0', 'copy_paste=0.0', 'copy_paste_mode=flip', 'auto_augment=randaugment', 'erasing=0.4', 'cfg=None', 'tracker=botsort.yaml']' returned non-zero exit status 1.\n",
      "Saved runs\\classify\\tune2\\tune_scatter_plots.png\n",
      "Saved runs\\classify\\tune2\\tune_fitness.png\n",
      "\n",
      "\u001b[34m\u001b[1mTuner: \u001b[0m22/30 iterations complete  (108.75s)\n",
      "\u001b[34m\u001b[1mTuner: \u001b[0mResults saved to \u001b[1mruns\\classify\\tune2\u001b[0m\n",
      "\u001b[34m\u001b[1mTuner: \u001b[0mBest fitness=0.0 observed at iteration 1\n",
      "\u001b[34m\u001b[1mTuner: \u001b[0mBest fitness metrics are {}\n",
      "\u001b[34m\u001b[1mTuner: \u001b[0mBest fitness model is runs\\classify\\train4\n",
      "\u001b[34m\u001b[1mTuner: \u001b[0mBest fitness hyperparameters are printed below.\n",
      "\n",
      "Printing '\u001b[1m\u001b[30mruns\\classify\\tune2\\best_hyperparameters.yaml\u001b[0m'\n",
      "\n",
      "lr0: 0.01\n",
      "lrf: 0.01\n",
      "momentum: 0.937\n",
      "weight_decay: 0.0005\n",
      "warmup_epochs: 3.0\n",
      "warmup_momentum: 0.8\n",
      "box: 7.5\n",
      "cls: 0.5\n",
      "dfl: 1.5\n",
      "hsv_h: 0.015\n",
      "hsv_s: 0.7\n",
      "hsv_v: 0.4\n",
      "degrees: 0.0\n",
      "translate: 0.1\n",
      "scale: 0.5\n",
      "shear: 0.0\n",
      "perspective: 0.0\n",
      "flipud: 0.0\n",
      "fliplr: 0.5\n",
      "bgr: 0.0\n",
      "mosaic: 1.0\n",
      "mixup: 0.0\n",
      "cutmix: 0.0\n",
      "copy_paste: 0.0\n",
      "\n",
      "\u001b[34m\u001b[1mTuner: \u001b[0mStarting iteration 23/30 with hyperparameters: {'lr0': 0.00941, 'lrf': 0.01049, 'momentum': 0.91705, 'weight_decay': 0.00054, 'warmup_epochs': 3.10162, 'warmup_momentum': 0.73592, 'box': 7.26526, 'cls': 0.451, 'dfl': 1.54975, 'hsv_h': 0.01528, 'hsv_s': 0.76364, 'hsv_v': 0.43103, 'degrees': 0.0, 'translate': 0.10577, 'scale': 0.44682, 'shear': 0.0, 'perspective': 0.0, 'flipud': 0.0, 'fliplr': 0.54636, 'bgr': 0.0, 'mosaic': 1.0, 'mixup': 0.0, 'cutmix': 0.0, 'copy_paste': 0.0}\n",
      "ERROR training failure for hyperparameter tuning iteration 23\n",
      "Command '['c:\\\\Users\\\\adelgado\\\\AppData\\\\Local\\\\Programs\\\\Python\\\\Python312\\\\python.exe', '-m', 'ultralytics.cfg.__init__', 'train', 'task=classify', 'mode=train', 'model=C:/Users/adelgado/Documents/Personal/Universidad/ML/Proyecto/runs/classify/train/weights/best.pt', 'data=/Users/adelgado/Documents/Personal/Universidad/ML/Proyecto/Data', 'epochs=30', 'time=None', 'patience=100', 'batch=16', 'imgsz=352', 'save=True', 'save_period=-1', 'cache=False', 'device=None', 'workers=8', 'project=None', 'name=None', 'exist_ok=False', 'pretrained=True', 'optimizer=AdamW', 'verbose=True', 'seed=0', 'deterministic=True', 'single_cls=False', 'rect=False', 'cos_lr=False', 'close_mosaic=10', 'resume=False', 'amp=True', 'fraction=1.0', 'profile=False', 'freeze=None', 'multi_scale=False', 'overlap_mask=True', 'mask_ratio=4', 'dropout=0.0', 'val=True', 'split=val', 'save_json=False', 'conf=None', 'iou=0.7', 'max_det=300', 'half=False', 'dnn=False', 'plots=True', 'source=None', 'vid_stride=1', 'stream_buffer=False', 'visualize=False', 'augment=False', 'agnostic_nms=False', 'classes=None', 'retina_masks=False', 'embed=None', 'show=False', 'save_frames=False', 'save_txt=False', 'save_conf=False', 'save_crop=False', 'show_labels=True', 'show_conf=True', 'show_boxes=True', 'line_width=None', 'format=torchscript', 'keras=False', 'optimize=False', 'int8=False', 'dynamic=False', 'simplify=True', 'opset=None', 'workspace=None', 'nms=False', 'lr0=0.00941', 'lrf=0.01049', 'momentum=0.91705', 'weight_decay=0.00054', 'warmup_epochs=3.10162', 'warmup_momentum=0.73592', 'warmup_bias_lr=0.1', 'box=7.26526', 'cls=0.451', 'dfl=1.54975', 'pose=12.0', 'kobj=1.0', 'nbs=64', 'hsv_h=0.01528', 'hsv_s=0.76364', 'hsv_v=0.43103', 'degrees=0.0', 'translate=0.10577', 'scale=0.44682', 'shear=0.0', 'perspective=0.0', 'flipud=0.0', 'fliplr=0.54636', 'bgr=0.0', 'mosaic=1.0', 'mixup=0.0', 'cutmix=0.0', 'copy_paste=0.0', 'copy_paste_mode=flip', 'auto_augment=randaugment', 'erasing=0.4', 'cfg=None', 'tracker=botsort.yaml']' returned non-zero exit status 1.\n",
      "Saved runs\\classify\\tune2\\tune_scatter_plots.png\n",
      "Saved runs\\classify\\tune2\\tune_fitness.png\n",
      "\n",
      "\u001b[34m\u001b[1mTuner: \u001b[0m23/30 iterations complete  (113.03s)\n",
      "\u001b[34m\u001b[1mTuner: \u001b[0mResults saved to \u001b[1mruns\\classify\\tune2\u001b[0m\n",
      "\u001b[34m\u001b[1mTuner: \u001b[0mBest fitness=0.0 observed at iteration 1\n",
      "\u001b[34m\u001b[1mTuner: \u001b[0mBest fitness metrics are {}\n",
      "\u001b[34m\u001b[1mTuner: \u001b[0mBest fitness model is runs\\classify\\train4\n",
      "\u001b[34m\u001b[1mTuner: \u001b[0mBest fitness hyperparameters are printed below.\n",
      "\n",
      "Printing '\u001b[1m\u001b[30mruns\\classify\\tune2\\best_hyperparameters.yaml\u001b[0m'\n",
      "\n",
      "lr0: 0.01\n",
      "lrf: 0.01\n",
      "momentum: 0.937\n",
      "weight_decay: 0.0005\n",
      "warmup_epochs: 3.0\n",
      "warmup_momentum: 0.8\n",
      "box: 7.5\n",
      "cls: 0.5\n",
      "dfl: 1.5\n",
      "hsv_h: 0.015\n",
      "hsv_s: 0.7\n",
      "hsv_v: 0.4\n",
      "degrees: 0.0\n",
      "translate: 0.1\n",
      "scale: 0.5\n",
      "shear: 0.0\n",
      "perspective: 0.0\n",
      "flipud: 0.0\n",
      "fliplr: 0.5\n",
      "bgr: 0.0\n",
      "mosaic: 1.0\n",
      "mixup: 0.0\n",
      "cutmix: 0.0\n",
      "copy_paste: 0.0\n",
      "\n",
      "\u001b[34m\u001b[1mTuner: \u001b[0mStarting iteration 24/30 with hyperparameters: {'lr0': 0.01396, 'lrf': 0.00809, 'momentum': 0.94139, 'weight_decay': 0.00058, 'warmup_epochs': 2.92633, 'warmup_momentum': 0.51129, 'box': 7.5, 'cls': 0.54851, 'dfl': 1.36564, 'hsv_h': 0.01119, 'hsv_s': 0.74432, 'hsv_v': 0.39329, 'degrees': 0.0, 'translate': 0.1, 'scale': 0.6484, 'shear': 0.0, 'perspective': 0.0, 'flipud': 0.0, 'fliplr': 0.56563, 'bgr': 0.0, 'mosaic': 0.81805, 'mixup': 0.0, 'cutmix': 0.0, 'copy_paste': 0.0}\n",
      "ERROR training failure for hyperparameter tuning iteration 24\n",
      "Command '['c:\\\\Users\\\\adelgado\\\\AppData\\\\Local\\\\Programs\\\\Python\\\\Python312\\\\python.exe', '-m', 'ultralytics.cfg.__init__', 'train', 'task=classify', 'mode=train', 'model=C:/Users/adelgado/Documents/Personal/Universidad/ML/Proyecto/runs/classify/train/weights/best.pt', 'data=/Users/adelgado/Documents/Personal/Universidad/ML/Proyecto/Data', 'epochs=30', 'time=None', 'patience=100', 'batch=16', 'imgsz=352', 'save=True', 'save_period=-1', 'cache=False', 'device=None', 'workers=8', 'project=None', 'name=None', 'exist_ok=False', 'pretrained=True', 'optimizer=AdamW', 'verbose=True', 'seed=0', 'deterministic=True', 'single_cls=False', 'rect=False', 'cos_lr=False', 'close_mosaic=10', 'resume=False', 'amp=True', 'fraction=1.0', 'profile=False', 'freeze=None', 'multi_scale=False', 'overlap_mask=True', 'mask_ratio=4', 'dropout=0.0', 'val=True', 'split=val', 'save_json=False', 'conf=None', 'iou=0.7', 'max_det=300', 'half=False', 'dnn=False', 'plots=True', 'source=None', 'vid_stride=1', 'stream_buffer=False', 'visualize=False', 'augment=False', 'agnostic_nms=False', 'classes=None', 'retina_masks=False', 'embed=None', 'show=False', 'save_frames=False', 'save_txt=False', 'save_conf=False', 'save_crop=False', 'show_labels=True', 'show_conf=True', 'show_boxes=True', 'line_width=None', 'format=torchscript', 'keras=False', 'optimize=False', 'int8=False', 'dynamic=False', 'simplify=True', 'opset=None', 'workspace=None', 'nms=False', 'lr0=0.01396', 'lrf=0.00809', 'momentum=0.94139', 'weight_decay=0.00058', 'warmup_epochs=2.92633', 'warmup_momentum=0.51129', 'warmup_bias_lr=0.1', 'box=7.5', 'cls=0.54851', 'dfl=1.36564', 'pose=12.0', 'kobj=1.0', 'nbs=64', 'hsv_h=0.01119', 'hsv_s=0.74432', 'hsv_v=0.39329', 'degrees=0.0', 'translate=0.1', 'scale=0.6484', 'shear=0.0', 'perspective=0.0', 'flipud=0.0', 'fliplr=0.56563', 'bgr=0.0', 'mosaic=0.81805', 'mixup=0.0', 'cutmix=0.0', 'copy_paste=0.0', 'copy_paste_mode=flip', 'auto_augment=randaugment', 'erasing=0.4', 'cfg=None', 'tracker=botsort.yaml']' returned non-zero exit status 1.\n",
      "Saved runs\\classify\\tune2\\tune_scatter_plots.png\n",
      "Saved runs\\classify\\tune2\\tune_fitness.png\n",
      "\n",
      "\u001b[34m\u001b[1mTuner: \u001b[0m24/30 iterations complete  (117.36s)\n",
      "\u001b[34m\u001b[1mTuner: \u001b[0mResults saved to \u001b[1mruns\\classify\\tune2\u001b[0m\n",
      "\u001b[34m\u001b[1mTuner: \u001b[0mBest fitness=0.0 observed at iteration 1\n",
      "\u001b[34m\u001b[1mTuner: \u001b[0mBest fitness metrics are {}\n",
      "\u001b[34m\u001b[1mTuner: \u001b[0mBest fitness model is runs\\classify\\train4\n",
      "\u001b[34m\u001b[1mTuner: \u001b[0mBest fitness hyperparameters are printed below.\n",
      "\n",
      "Printing '\u001b[1m\u001b[30mruns\\classify\\tune2\\best_hyperparameters.yaml\u001b[0m'\n",
      "\n",
      "lr0: 0.01\n",
      "lrf: 0.01\n",
      "momentum: 0.937\n",
      "weight_decay: 0.0005\n",
      "warmup_epochs: 3.0\n",
      "warmup_momentum: 0.8\n",
      "box: 7.5\n",
      "cls: 0.5\n",
      "dfl: 1.5\n",
      "hsv_h: 0.015\n",
      "hsv_s: 0.7\n",
      "hsv_v: 0.4\n",
      "degrees: 0.0\n",
      "translate: 0.1\n",
      "scale: 0.5\n",
      "shear: 0.0\n",
      "perspective: 0.0\n",
      "flipud: 0.0\n",
      "fliplr: 0.5\n",
      "bgr: 0.0\n",
      "mosaic: 1.0\n",
      "mixup: 0.0\n",
      "cutmix: 0.0\n",
      "copy_paste: 0.0\n",
      "\n",
      "\u001b[34m\u001b[1mTuner: \u001b[0mStarting iteration 25/30 with hyperparameters: {'lr0': 0.00847, 'lrf': 0.01026, 'momentum': 0.90513, 'weight_decay': 0.00048, 'warmup_epochs': 2.42079, 'warmup_momentum': 0.91815, 'box': 7.72747, 'cls': 0.58949, 'dfl': 1.53902, 'hsv_h': 0.015, 'hsv_s': 0.60904, 'hsv_v': 0.50352, 'degrees': 0.0, 'translate': 0.09192, 'scale': 0.46842, 'shear': 0.0, 'perspective': 0.0, 'flipud': 0.0, 'fliplr': 0.4223, 'bgr': 0.0, 'mosaic': 1.0, 'mixup': 0.0, 'cutmix': 0.0, 'copy_paste': 0.0}\n",
      "ERROR training failure for hyperparameter tuning iteration 25\n",
      "Command '['c:\\\\Users\\\\adelgado\\\\AppData\\\\Local\\\\Programs\\\\Python\\\\Python312\\\\python.exe', '-m', 'ultralytics.cfg.__init__', 'train', 'task=classify', 'mode=train', 'model=C:/Users/adelgado/Documents/Personal/Universidad/ML/Proyecto/runs/classify/train/weights/best.pt', 'data=/Users/adelgado/Documents/Personal/Universidad/ML/Proyecto/Data', 'epochs=30', 'time=None', 'patience=100', 'batch=16', 'imgsz=352', 'save=True', 'save_period=-1', 'cache=False', 'device=None', 'workers=8', 'project=None', 'name=None', 'exist_ok=False', 'pretrained=True', 'optimizer=AdamW', 'verbose=True', 'seed=0', 'deterministic=True', 'single_cls=False', 'rect=False', 'cos_lr=False', 'close_mosaic=10', 'resume=False', 'amp=True', 'fraction=1.0', 'profile=False', 'freeze=None', 'multi_scale=False', 'overlap_mask=True', 'mask_ratio=4', 'dropout=0.0', 'val=True', 'split=val', 'save_json=False', 'conf=None', 'iou=0.7', 'max_det=300', 'half=False', 'dnn=False', 'plots=True', 'source=None', 'vid_stride=1', 'stream_buffer=False', 'visualize=False', 'augment=False', 'agnostic_nms=False', 'classes=None', 'retina_masks=False', 'embed=None', 'show=False', 'save_frames=False', 'save_txt=False', 'save_conf=False', 'save_crop=False', 'show_labels=True', 'show_conf=True', 'show_boxes=True', 'line_width=None', 'format=torchscript', 'keras=False', 'optimize=False', 'int8=False', 'dynamic=False', 'simplify=True', 'opset=None', 'workspace=None', 'nms=False', 'lr0=0.00847', 'lrf=0.01026', 'momentum=0.90513', 'weight_decay=0.00048', 'warmup_epochs=2.42079', 'warmup_momentum=0.91815', 'warmup_bias_lr=0.1', 'box=7.72747', 'cls=0.58949', 'dfl=1.53902', 'pose=12.0', 'kobj=1.0', 'nbs=64', 'hsv_h=0.015', 'hsv_s=0.60904', 'hsv_v=0.50352', 'degrees=0.0', 'translate=0.09192', 'scale=0.46842', 'shear=0.0', 'perspective=0.0', 'flipud=0.0', 'fliplr=0.4223', 'bgr=0.0', 'mosaic=1.0', 'mixup=0.0', 'cutmix=0.0', 'copy_paste=0.0', 'copy_paste_mode=flip', 'auto_augment=randaugment', 'erasing=0.4', 'cfg=None', 'tracker=botsort.yaml']' returned non-zero exit status 1.\n",
      "Saved runs\\classify\\tune2\\tune_scatter_plots.png\n",
      "Saved runs\\classify\\tune2\\tune_fitness.png\n",
      "\n",
      "\u001b[34m\u001b[1mTuner: \u001b[0m25/30 iterations complete  (122.40s)\n",
      "\u001b[34m\u001b[1mTuner: \u001b[0mResults saved to \u001b[1mruns\\classify\\tune2\u001b[0m\n",
      "\u001b[34m\u001b[1mTuner: \u001b[0mBest fitness=0.0 observed at iteration 1\n",
      "\u001b[34m\u001b[1mTuner: \u001b[0mBest fitness metrics are {}\n",
      "\u001b[34m\u001b[1mTuner: \u001b[0mBest fitness model is runs\\classify\\train4\n",
      "\u001b[34m\u001b[1mTuner: \u001b[0mBest fitness hyperparameters are printed below.\n",
      "\n",
      "Printing '\u001b[1m\u001b[30mruns\\classify\\tune2\\best_hyperparameters.yaml\u001b[0m'\n",
      "\n",
      "lr0: 0.01\n",
      "lrf: 0.01\n",
      "momentum: 0.937\n",
      "weight_decay: 0.0005\n",
      "warmup_epochs: 3.0\n",
      "warmup_momentum: 0.8\n",
      "box: 7.5\n",
      "cls: 0.5\n",
      "dfl: 1.5\n",
      "hsv_h: 0.015\n",
      "hsv_s: 0.7\n",
      "hsv_v: 0.4\n",
      "degrees: 0.0\n",
      "translate: 0.1\n",
      "scale: 0.5\n",
      "shear: 0.0\n",
      "perspective: 0.0\n",
      "flipud: 0.0\n",
      "fliplr: 0.5\n",
      "bgr: 0.0\n",
      "mosaic: 1.0\n",
      "mixup: 0.0\n",
      "cutmix: 0.0\n",
      "copy_paste: 0.0\n",
      "\n",
      "\u001b[34m\u001b[1mTuner: \u001b[0mStarting iteration 26/30 with hyperparameters: {'lr0': 0.01, 'lrf': 0.0084, 'momentum': 0.97246, 'weight_decay': 0.00058, 'warmup_epochs': 2.06486, 'warmup_momentum': 0.51664, 'box': 7.03103, 'cls': 0.5, 'dfl': 1.5, 'hsv_h': 0.01119, 'hsv_s': 0.76181, 'hsv_v': 0.48264, 'degrees': 0.0, 'translate': 0.1, 'scale': 0.47883, 'shear': 0.0, 'perspective': 0.0, 'flipud': 0.0, 'fliplr': 0.62362, 'bgr': 0.0, 'mosaic': 1.0, 'mixup': 0.0, 'cutmix': 0.0, 'copy_paste': 0.0}\n",
      "ERROR training failure for hyperparameter tuning iteration 26\n",
      "Command '['c:\\\\Users\\\\adelgado\\\\AppData\\\\Local\\\\Programs\\\\Python\\\\Python312\\\\python.exe', '-m', 'ultralytics.cfg.__init__', 'train', 'task=classify', 'mode=train', 'model=C:/Users/adelgado/Documents/Personal/Universidad/ML/Proyecto/runs/classify/train/weights/best.pt', 'data=/Users/adelgado/Documents/Personal/Universidad/ML/Proyecto/Data', 'epochs=30', 'time=None', 'patience=100', 'batch=16', 'imgsz=352', 'save=True', 'save_period=-1', 'cache=False', 'device=None', 'workers=8', 'project=None', 'name=None', 'exist_ok=False', 'pretrained=True', 'optimizer=AdamW', 'verbose=True', 'seed=0', 'deterministic=True', 'single_cls=False', 'rect=False', 'cos_lr=False', 'close_mosaic=10', 'resume=False', 'amp=True', 'fraction=1.0', 'profile=False', 'freeze=None', 'multi_scale=False', 'overlap_mask=True', 'mask_ratio=4', 'dropout=0.0', 'val=True', 'split=val', 'save_json=False', 'conf=None', 'iou=0.7', 'max_det=300', 'half=False', 'dnn=False', 'plots=True', 'source=None', 'vid_stride=1', 'stream_buffer=False', 'visualize=False', 'augment=False', 'agnostic_nms=False', 'classes=None', 'retina_masks=False', 'embed=None', 'show=False', 'save_frames=False', 'save_txt=False', 'save_conf=False', 'save_crop=False', 'show_labels=True', 'show_conf=True', 'show_boxes=True', 'line_width=None', 'format=torchscript', 'keras=False', 'optimize=False', 'int8=False', 'dynamic=False', 'simplify=True', 'opset=None', 'workspace=None', 'nms=False', 'lr0=0.01', 'lrf=0.0084', 'momentum=0.97246', 'weight_decay=0.00058', 'warmup_epochs=2.06486', 'warmup_momentum=0.51664', 'warmup_bias_lr=0.1', 'box=7.03103', 'cls=0.5', 'dfl=1.5', 'pose=12.0', 'kobj=1.0', 'nbs=64', 'hsv_h=0.01119', 'hsv_s=0.76181', 'hsv_v=0.48264', 'degrees=0.0', 'translate=0.1', 'scale=0.47883', 'shear=0.0', 'perspective=0.0', 'flipud=0.0', 'fliplr=0.62362', 'bgr=0.0', 'mosaic=1.0', 'mixup=0.0', 'cutmix=0.0', 'copy_paste=0.0', 'copy_paste_mode=flip', 'auto_augment=randaugment', 'erasing=0.4', 'cfg=None', 'tracker=botsort.yaml']' returned non-zero exit status 1.\n",
      "Saved runs\\classify\\tune2\\tune_scatter_plots.png\n",
      "Saved runs\\classify\\tune2\\tune_fitness.png\n",
      "\n",
      "\u001b[34m\u001b[1mTuner: \u001b[0m26/30 iterations complete  (128.04s)\n",
      "\u001b[34m\u001b[1mTuner: \u001b[0mResults saved to \u001b[1mruns\\classify\\tune2\u001b[0m\n",
      "\u001b[34m\u001b[1mTuner: \u001b[0mBest fitness=0.0 observed at iteration 1\n",
      "\u001b[34m\u001b[1mTuner: \u001b[0mBest fitness metrics are {}\n",
      "\u001b[34m\u001b[1mTuner: \u001b[0mBest fitness model is runs\\classify\\train4\n",
      "\u001b[34m\u001b[1mTuner: \u001b[0mBest fitness hyperparameters are printed below.\n",
      "\n",
      "Printing '\u001b[1m\u001b[30mruns\\classify\\tune2\\best_hyperparameters.yaml\u001b[0m'\n",
      "\n",
      "lr0: 0.01\n",
      "lrf: 0.01\n",
      "momentum: 0.937\n",
      "weight_decay: 0.0005\n",
      "warmup_epochs: 3.0\n",
      "warmup_momentum: 0.8\n",
      "box: 7.5\n",
      "cls: 0.5\n",
      "dfl: 1.5\n",
      "hsv_h: 0.015\n",
      "hsv_s: 0.7\n",
      "hsv_v: 0.4\n",
      "degrees: 0.0\n",
      "translate: 0.1\n",
      "scale: 0.5\n",
      "shear: 0.0\n",
      "perspective: 0.0\n",
      "flipud: 0.0\n",
      "fliplr: 0.5\n",
      "bgr: 0.0\n",
      "mosaic: 1.0\n",
      "mixup: 0.0\n",
      "cutmix: 0.0\n",
      "copy_paste: 0.0\n",
      "\n",
      "\u001b[34m\u001b[1mTuner: \u001b[0mStarting iteration 27/30 with hyperparameters: {'lr0': 0.00951, 'lrf': 0.01061, 'momentum': 0.93903, 'weight_decay': 0.00069, 'warmup_epochs': 3.05415, 'warmup_momentum': 0.56546, 'box': 7.06404, 'cls': 0.44472, 'dfl': 1.61342, 'hsv_h': 0.01474, 'hsv_s': 0.82688, 'hsv_v': 0.3852, 'degrees': 0.0, 'translate': 0.11558, 'scale': 0.45538, 'shear': 0.0, 'perspective': 0.0, 'flipud': 0.0, 'fliplr': 0.54555, 'bgr': 0.0, 'mosaic': 1.0, 'mixup': 0.0, 'cutmix': 0.0, 'copy_paste': 0.0}\n",
      "ERROR training failure for hyperparameter tuning iteration 27\n",
      "Command '['c:\\\\Users\\\\adelgado\\\\AppData\\\\Local\\\\Programs\\\\Python\\\\Python312\\\\python.exe', '-m', 'ultralytics.cfg.__init__', 'train', 'task=classify', 'mode=train', 'model=C:/Users/adelgado/Documents/Personal/Universidad/ML/Proyecto/runs/classify/train/weights/best.pt', 'data=/Users/adelgado/Documents/Personal/Universidad/ML/Proyecto/Data', 'epochs=30', 'time=None', 'patience=100', 'batch=16', 'imgsz=352', 'save=True', 'save_period=-1', 'cache=False', 'device=None', 'workers=8', 'project=None', 'name=None', 'exist_ok=False', 'pretrained=True', 'optimizer=AdamW', 'verbose=True', 'seed=0', 'deterministic=True', 'single_cls=False', 'rect=False', 'cos_lr=False', 'close_mosaic=10', 'resume=False', 'amp=True', 'fraction=1.0', 'profile=False', 'freeze=None', 'multi_scale=False', 'overlap_mask=True', 'mask_ratio=4', 'dropout=0.0', 'val=True', 'split=val', 'save_json=False', 'conf=None', 'iou=0.7', 'max_det=300', 'half=False', 'dnn=False', 'plots=True', 'source=None', 'vid_stride=1', 'stream_buffer=False', 'visualize=False', 'augment=False', 'agnostic_nms=False', 'classes=None', 'retina_masks=False', 'embed=None', 'show=False', 'save_frames=False', 'save_txt=False', 'save_conf=False', 'save_crop=False', 'show_labels=True', 'show_conf=True', 'show_boxes=True', 'line_width=None', 'format=torchscript', 'keras=False', 'optimize=False', 'int8=False', 'dynamic=False', 'simplify=True', 'opset=None', 'workspace=None', 'nms=False', 'lr0=0.00951', 'lrf=0.01061', 'momentum=0.93903', 'weight_decay=0.00069', 'warmup_epochs=3.05415', 'warmup_momentum=0.56546', 'warmup_bias_lr=0.1', 'box=7.06404', 'cls=0.44472', 'dfl=1.61342', 'pose=12.0', 'kobj=1.0', 'nbs=64', 'hsv_h=0.01474', 'hsv_s=0.82688', 'hsv_v=0.3852', 'degrees=0.0', 'translate=0.11558', 'scale=0.45538', 'shear=0.0', 'perspective=0.0', 'flipud=0.0', 'fliplr=0.54555', 'bgr=0.0', 'mosaic=1.0', 'mixup=0.0', 'cutmix=0.0', 'copy_paste=0.0', 'copy_paste_mode=flip', 'auto_augment=randaugment', 'erasing=0.4', 'cfg=None', 'tracker=botsort.yaml']' returned non-zero exit status 1.\n",
      "Saved runs\\classify\\tune2\\tune_scatter_plots.png\n",
      "Saved runs\\classify\\tune2\\tune_fitness.png\n",
      "\n",
      "\u001b[34m\u001b[1mTuner: \u001b[0m27/30 iterations complete  (131.83s)\n",
      "\u001b[34m\u001b[1mTuner: \u001b[0mResults saved to \u001b[1mruns\\classify\\tune2\u001b[0m\n",
      "\u001b[34m\u001b[1mTuner: \u001b[0mBest fitness=0.0 observed at iteration 1\n",
      "\u001b[34m\u001b[1mTuner: \u001b[0mBest fitness metrics are {}\n",
      "\u001b[34m\u001b[1mTuner: \u001b[0mBest fitness model is runs\\classify\\train4\n",
      "\u001b[34m\u001b[1mTuner: \u001b[0mBest fitness hyperparameters are printed below.\n",
      "\n",
      "Printing '\u001b[1m\u001b[30mruns\\classify\\tune2\\best_hyperparameters.yaml\u001b[0m'\n",
      "\n",
      "lr0: 0.01\n",
      "lrf: 0.01\n",
      "momentum: 0.937\n",
      "weight_decay: 0.0005\n",
      "warmup_epochs: 3.0\n",
      "warmup_momentum: 0.8\n",
      "box: 7.5\n",
      "cls: 0.5\n",
      "dfl: 1.5\n",
      "hsv_h: 0.015\n",
      "hsv_s: 0.7\n",
      "hsv_v: 0.4\n",
      "degrees: 0.0\n",
      "translate: 0.1\n",
      "scale: 0.5\n",
      "shear: 0.0\n",
      "perspective: 0.0\n",
      "flipud: 0.0\n",
      "fliplr: 0.5\n",
      "bgr: 0.0\n",
      "mosaic: 1.0\n",
      "mixup: 0.0\n",
      "cutmix: 0.0\n",
      "copy_paste: 0.0\n",
      "\n",
      "\u001b[34m\u001b[1mTuner: \u001b[0mStarting iteration 28/30 with hyperparameters: {'lr0': 0.01008, 'lrf': 0.01173, 'momentum': 0.91394, 'weight_decay': 0.00053, 'warmup_epochs': 3.10591, 'warmup_momentum': 0.7259, 'box': 4.74545, 'cls': 0.47441, 'dfl': 1.5926, 'hsv_h': 0.01445, 'hsv_s': 0.79896, 'hsv_v': 0.42459, 'degrees': 0.0, 'translate': 0.09945, 'scale': 0.47539, 'shear': 0.0, 'perspective': 0.0, 'flipud': 0.0, 'fliplr': 0.6602, 'bgr': 0.0, 'mosaic': 0.73609, 'mixup': 0.0, 'cutmix': 0.0, 'copy_paste': 0.0}\n",
      "ERROR training failure for hyperparameter tuning iteration 28\n",
      "Command '['c:\\\\Users\\\\adelgado\\\\AppData\\\\Local\\\\Programs\\\\Python\\\\Python312\\\\python.exe', '-m', 'ultralytics.cfg.__init__', 'train', 'task=classify', 'mode=train', 'model=C:/Users/adelgado/Documents/Personal/Universidad/ML/Proyecto/runs/classify/train/weights/best.pt', 'data=/Users/adelgado/Documents/Personal/Universidad/ML/Proyecto/Data', 'epochs=30', 'time=None', 'patience=100', 'batch=16', 'imgsz=352', 'save=True', 'save_period=-1', 'cache=False', 'device=None', 'workers=8', 'project=None', 'name=None', 'exist_ok=False', 'pretrained=True', 'optimizer=AdamW', 'verbose=True', 'seed=0', 'deterministic=True', 'single_cls=False', 'rect=False', 'cos_lr=False', 'close_mosaic=10', 'resume=False', 'amp=True', 'fraction=1.0', 'profile=False', 'freeze=None', 'multi_scale=False', 'overlap_mask=True', 'mask_ratio=4', 'dropout=0.0', 'val=True', 'split=val', 'save_json=False', 'conf=None', 'iou=0.7', 'max_det=300', 'half=False', 'dnn=False', 'plots=True', 'source=None', 'vid_stride=1', 'stream_buffer=False', 'visualize=False', 'augment=False', 'agnostic_nms=False', 'classes=None', 'retina_masks=False', 'embed=None', 'show=False', 'save_frames=False', 'save_txt=False', 'save_conf=False', 'save_crop=False', 'show_labels=True', 'show_conf=True', 'show_boxes=True', 'line_width=None', 'format=torchscript', 'keras=False', 'optimize=False', 'int8=False', 'dynamic=False', 'simplify=True', 'opset=None', 'workspace=None', 'nms=False', 'lr0=0.01008', 'lrf=0.01173', 'momentum=0.91394', 'weight_decay=0.00053', 'warmup_epochs=3.10591', 'warmup_momentum=0.7259', 'warmup_bias_lr=0.1', 'box=4.74545', 'cls=0.47441', 'dfl=1.5926', 'pose=12.0', 'kobj=1.0', 'nbs=64', 'hsv_h=0.01445', 'hsv_s=0.79896', 'hsv_v=0.42459', 'degrees=0.0', 'translate=0.09945', 'scale=0.47539', 'shear=0.0', 'perspective=0.0', 'flipud=0.0', 'fliplr=0.6602', 'bgr=0.0', 'mosaic=0.73609', 'mixup=0.0', 'cutmix=0.0', 'copy_paste=0.0', 'copy_paste_mode=flip', 'auto_augment=randaugment', 'erasing=0.4', 'cfg=None', 'tracker=botsort.yaml']' returned non-zero exit status 1.\n",
      "Saved runs\\classify\\tune2\\tune_scatter_plots.png\n",
      "Saved runs\\classify\\tune2\\tune_fitness.png\n",
      "\n",
      "\u001b[34m\u001b[1mTuner: \u001b[0m28/30 iterations complete  (135.28s)\n",
      "\u001b[34m\u001b[1mTuner: \u001b[0mResults saved to \u001b[1mruns\\classify\\tune2\u001b[0m\n",
      "\u001b[34m\u001b[1mTuner: \u001b[0mBest fitness=0.0 observed at iteration 1\n",
      "\u001b[34m\u001b[1mTuner: \u001b[0mBest fitness metrics are {}\n",
      "\u001b[34m\u001b[1mTuner: \u001b[0mBest fitness model is runs\\classify\\train4\n",
      "\u001b[34m\u001b[1mTuner: \u001b[0mBest fitness hyperparameters are printed below.\n",
      "\n",
      "Printing '\u001b[1m\u001b[30mruns\\classify\\tune2\\best_hyperparameters.yaml\u001b[0m'\n",
      "\n",
      "lr0: 0.01\n",
      "lrf: 0.01\n",
      "momentum: 0.937\n",
      "weight_decay: 0.0005\n",
      "warmup_epochs: 3.0\n",
      "warmup_momentum: 0.8\n",
      "box: 7.5\n",
      "cls: 0.5\n",
      "dfl: 1.5\n",
      "hsv_h: 0.015\n",
      "hsv_s: 0.7\n",
      "hsv_v: 0.4\n",
      "degrees: 0.0\n",
      "translate: 0.1\n",
      "scale: 0.5\n",
      "shear: 0.0\n",
      "perspective: 0.0\n",
      "flipud: 0.0\n",
      "fliplr: 0.5\n",
      "bgr: 0.0\n",
      "mosaic: 1.0\n",
      "mixup: 0.0\n",
      "cutmix: 0.0\n",
      "copy_paste: 0.0\n",
      "\n",
      "\u001b[34m\u001b[1mTuner: \u001b[0mStarting iteration 29/30 with hyperparameters: {'lr0': 0.01008, 'lrf': 0.0104, 'momentum': 0.88514, 'weight_decay': 0.00058, 'warmup_epochs': 3.33619, 'warmup_momentum': 0.59281, 'box': 6.19625, 'cls': 0.40345, 'dfl': 1.55453, 'hsv_h': 0.01445, 'hsv_s': 0.63413, 'hsv_v': 0.38222, 'degrees': 0.0, 'translate': 0.10062, 'scale': 0.58619, 'shear': 0.0, 'perspective': 0.0, 'flipud': 0.0, 'fliplr': 0.55797, 'bgr': 0.0, 'mosaic': 0.81161, 'mixup': 0.0, 'cutmix': 0.0, 'copy_paste': 0.0}\n",
      "ERROR training failure for hyperparameter tuning iteration 29\n",
      "Command '['c:\\\\Users\\\\adelgado\\\\AppData\\\\Local\\\\Programs\\\\Python\\\\Python312\\\\python.exe', '-m', 'ultralytics.cfg.__init__', 'train', 'task=classify', 'mode=train', 'model=C:/Users/adelgado/Documents/Personal/Universidad/ML/Proyecto/runs/classify/train/weights/best.pt', 'data=/Users/adelgado/Documents/Personal/Universidad/ML/Proyecto/Data', 'epochs=30', 'time=None', 'patience=100', 'batch=16', 'imgsz=352', 'save=True', 'save_period=-1', 'cache=False', 'device=None', 'workers=8', 'project=None', 'name=None', 'exist_ok=False', 'pretrained=True', 'optimizer=AdamW', 'verbose=True', 'seed=0', 'deterministic=True', 'single_cls=False', 'rect=False', 'cos_lr=False', 'close_mosaic=10', 'resume=False', 'amp=True', 'fraction=1.0', 'profile=False', 'freeze=None', 'multi_scale=False', 'overlap_mask=True', 'mask_ratio=4', 'dropout=0.0', 'val=True', 'split=val', 'save_json=False', 'conf=None', 'iou=0.7', 'max_det=300', 'half=False', 'dnn=False', 'plots=True', 'source=None', 'vid_stride=1', 'stream_buffer=False', 'visualize=False', 'augment=False', 'agnostic_nms=False', 'classes=None', 'retina_masks=False', 'embed=None', 'show=False', 'save_frames=False', 'save_txt=False', 'save_conf=False', 'save_crop=False', 'show_labels=True', 'show_conf=True', 'show_boxes=True', 'line_width=None', 'format=torchscript', 'keras=False', 'optimize=False', 'int8=False', 'dynamic=False', 'simplify=True', 'opset=None', 'workspace=None', 'nms=False', 'lr0=0.01008', 'lrf=0.0104', 'momentum=0.88514', 'weight_decay=0.00058', 'warmup_epochs=3.33619', 'warmup_momentum=0.59281', 'warmup_bias_lr=0.1', 'box=6.19625', 'cls=0.40345', 'dfl=1.55453', 'pose=12.0', 'kobj=1.0', 'nbs=64', 'hsv_h=0.01445', 'hsv_s=0.63413', 'hsv_v=0.38222', 'degrees=0.0', 'translate=0.10062', 'scale=0.58619', 'shear=0.0', 'perspective=0.0', 'flipud=0.0', 'fliplr=0.55797', 'bgr=0.0', 'mosaic=0.81161', 'mixup=0.0', 'cutmix=0.0', 'copy_paste=0.0', 'copy_paste_mode=flip', 'auto_augment=randaugment', 'erasing=0.4', 'cfg=None', 'tracker=botsort.yaml']' returned non-zero exit status 1.\n",
      "Saved runs\\classify\\tune2\\tune_scatter_plots.png\n",
      "Saved runs\\classify\\tune2\\tune_fitness.png\n",
      "\n",
      "\u001b[34m\u001b[1mTuner: \u001b[0m29/30 iterations complete  (139.57s)\n",
      "\u001b[34m\u001b[1mTuner: \u001b[0mResults saved to \u001b[1mruns\\classify\\tune2\u001b[0m\n",
      "\u001b[34m\u001b[1mTuner: \u001b[0mBest fitness=0.0 observed at iteration 1\n",
      "\u001b[34m\u001b[1mTuner: \u001b[0mBest fitness metrics are {}\n",
      "\u001b[34m\u001b[1mTuner: \u001b[0mBest fitness model is runs\\classify\\train4\n",
      "\u001b[34m\u001b[1mTuner: \u001b[0mBest fitness hyperparameters are printed below.\n",
      "\n",
      "Printing '\u001b[1m\u001b[30mruns\\classify\\tune2\\best_hyperparameters.yaml\u001b[0m'\n",
      "\n",
      "lr0: 0.01\n",
      "lrf: 0.01\n",
      "momentum: 0.937\n",
      "weight_decay: 0.0005\n",
      "warmup_epochs: 3.0\n",
      "warmup_momentum: 0.8\n",
      "box: 7.5\n",
      "cls: 0.5\n",
      "dfl: 1.5\n",
      "hsv_h: 0.015\n",
      "hsv_s: 0.7\n",
      "hsv_v: 0.4\n",
      "degrees: 0.0\n",
      "translate: 0.1\n",
      "scale: 0.5\n",
      "shear: 0.0\n",
      "perspective: 0.0\n",
      "flipud: 0.0\n",
      "fliplr: 0.5\n",
      "bgr: 0.0\n",
      "mosaic: 1.0\n",
      "mixup: 0.0\n",
      "cutmix: 0.0\n",
      "copy_paste: 0.0\n",
      "\n",
      "\u001b[34m\u001b[1mTuner: \u001b[0mStarting iteration 30/30 with hyperparameters: {'lr0': 0.01, 'lrf': 0.01031, 'momentum': 0.93421, 'weight_decay': 0.00056, 'warmup_epochs': 3.21737, 'warmup_momentum': 0.62681, 'box': 6.73865, 'cls': 0.47986, 'dfl': 1.53642, 'hsv_h': 0.01113, 'hsv_s': 0.76181, 'hsv_v': 0.39274, 'degrees': 0.0, 'translate': 0.09528, 'scale': 0.38392, 'shear': 0.0, 'perspective': 0.0, 'flipud': 0.0, 'fliplr': 0.55062, 'bgr': 0.0, 'mosaic': 0.92284, 'mixup': 0.0, 'cutmix': 0.0, 'copy_paste': 0.0}\n",
      "ERROR training failure for hyperparameter tuning iteration 30\n",
      "Command '['c:\\\\Users\\\\adelgado\\\\AppData\\\\Local\\\\Programs\\\\Python\\\\Python312\\\\python.exe', '-m', 'ultralytics.cfg.__init__', 'train', 'task=classify', 'mode=train', 'model=C:/Users/adelgado/Documents/Personal/Universidad/ML/Proyecto/runs/classify/train/weights/best.pt', 'data=/Users/adelgado/Documents/Personal/Universidad/ML/Proyecto/Data', 'epochs=30', 'time=None', 'patience=100', 'batch=16', 'imgsz=352', 'save=True', 'save_period=-1', 'cache=False', 'device=None', 'workers=8', 'project=None', 'name=None', 'exist_ok=False', 'pretrained=True', 'optimizer=AdamW', 'verbose=True', 'seed=0', 'deterministic=True', 'single_cls=False', 'rect=False', 'cos_lr=False', 'close_mosaic=10', 'resume=False', 'amp=True', 'fraction=1.0', 'profile=False', 'freeze=None', 'multi_scale=False', 'overlap_mask=True', 'mask_ratio=4', 'dropout=0.0', 'val=True', 'split=val', 'save_json=False', 'conf=None', 'iou=0.7', 'max_det=300', 'half=False', 'dnn=False', 'plots=True', 'source=None', 'vid_stride=1', 'stream_buffer=False', 'visualize=False', 'augment=False', 'agnostic_nms=False', 'classes=None', 'retina_masks=False', 'embed=None', 'show=False', 'save_frames=False', 'save_txt=False', 'save_conf=False', 'save_crop=False', 'show_labels=True', 'show_conf=True', 'show_boxes=True', 'line_width=None', 'format=torchscript', 'keras=False', 'optimize=False', 'int8=False', 'dynamic=False', 'simplify=True', 'opset=None', 'workspace=None', 'nms=False', 'lr0=0.01', 'lrf=0.01031', 'momentum=0.93421', 'weight_decay=0.00056', 'warmup_epochs=3.21737', 'warmup_momentum=0.62681', 'warmup_bias_lr=0.1', 'box=6.73865', 'cls=0.47986', 'dfl=1.53642', 'pose=12.0', 'kobj=1.0', 'nbs=64', 'hsv_h=0.01113', 'hsv_s=0.76181', 'hsv_v=0.39274', 'degrees=0.0', 'translate=0.09528', 'scale=0.38392', 'shear=0.0', 'perspective=0.0', 'flipud=0.0', 'fliplr=0.55062', 'bgr=0.0', 'mosaic=0.92284', 'mixup=0.0', 'cutmix=0.0', 'copy_paste=0.0', 'copy_paste_mode=flip', 'auto_augment=randaugment', 'erasing=0.4', 'cfg=None', 'tracker=botsort.yaml']' returned non-zero exit status 1.\n",
      "Saved runs\\classify\\tune2\\tune_scatter_plots.png\n",
      "Saved runs\\classify\\tune2\\tune_fitness.png\n",
      "\n",
      "\u001b[34m\u001b[1mTuner: \u001b[0m30/30 iterations complete  (144.96s)\n",
      "\u001b[34m\u001b[1mTuner: \u001b[0mResults saved to \u001b[1mruns\\classify\\tune2\u001b[0m\n",
      "\u001b[34m\u001b[1mTuner: \u001b[0mBest fitness=0.0 observed at iteration 1\n",
      "\u001b[34m\u001b[1mTuner: \u001b[0mBest fitness metrics are {}\n",
      "\u001b[34m\u001b[1mTuner: \u001b[0mBest fitness model is runs\\classify\\train4\n",
      "\u001b[34m\u001b[1mTuner: \u001b[0mBest fitness hyperparameters are printed below.\n",
      "\n",
      "Printing '\u001b[1m\u001b[30mruns\\classify\\tune2\\best_hyperparameters.yaml\u001b[0m'\n",
      "\n",
      "lr0: 0.01\n",
      "lrf: 0.01\n",
      "momentum: 0.937\n",
      "weight_decay: 0.0005\n",
      "warmup_epochs: 3.0\n",
      "warmup_momentum: 0.8\n",
      "box: 7.5\n",
      "cls: 0.5\n",
      "dfl: 1.5\n",
      "hsv_h: 0.015\n",
      "hsv_s: 0.7\n",
      "hsv_v: 0.4\n",
      "degrees: 0.0\n",
      "translate: 0.1\n",
      "scale: 0.5\n",
      "shear: 0.0\n",
      "perspective: 0.0\n",
      "flipud: 0.0\n",
      "fliplr: 0.5\n",
      "bgr: 0.0\n",
      "mosaic: 1.0\n",
      "mixup: 0.0\n",
      "cutmix: 0.0\n",
      "copy_paste: 0.0\n",
      "\n"
     ]
    }
   ],
   "source": [
    "model.tune(data=pathAll, epochs=30, iterations=30, optimizer=\"AdamW\", plots=True, save=True, val=True)"
   ]
  }
 ],
 "metadata": {
  "kernelspec": {
   "display_name": "Python 3",
   "language": "python",
   "name": "python3"
  },
  "language_info": {
   "codemirror_mode": {
    "name": "ipython",
    "version": 3
   },
   "file_extension": ".py",
   "mimetype": "text/x-python",
   "name": "python",
   "nbconvert_exporter": "python",
   "pygments_lexer": "ipython3",
   "version": "3.12.10"
  }
 },
 "nbformat": 4,
 "nbformat_minor": 5
}
